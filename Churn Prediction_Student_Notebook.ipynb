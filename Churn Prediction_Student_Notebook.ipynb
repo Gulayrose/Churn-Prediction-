{
 "cells": [
  {
   "cell_type": "markdown",
   "metadata": {
    "id": "Mg_ZAS0B2slE"
   },
   "source": [
    "___\n",
    "\n",
    "<p style=\"text-align: center;\"><img src=\"https://docs.google.com/uc?id=1lY0Uj5R04yMY3-ZppPWxqCr5pvBLYPnV\" class=\"img-fluid\" alt=\"CLRSWY\"></p>\n",
    "\n",
    "___"
   ]
  },
  {
   "cell_type": "markdown",
   "metadata": {
    "id": "8EjVhtzq2slH"
   },
   "source": [
    "# WELCOME!"
   ]
  },
  {
   "cell_type": "markdown",
   "metadata": {
    "id": "JqV3cXW-2slL"
   },
   "source": [
    "Welcome to \"***Employee Churn Analysis Project***\". This is the second project of Capstone Project Series, which you will be able to build your own classification models for a variety of business settings. \n",
    "\n",
    "Also you will learn what is Employee Churn?, How it is different from customer churn, Exploratory data analysis and visualization of employee churn dataset using ***matplotlib*** and ***seaborn***, model building and evaluation using python ***scikit-learn*** package. \n",
    "\n",
    "You will be able to implement classification techniques in Python. Using Scikit-Learn allowing you to successfully make predictions with the Random Forest, Gradient Descent Boosting , KNN algorithms.\n",
    "\n",
    "At the end of the project, you will have the opportunity to deploy your model using *Streamlit*.\n",
    "\n",
    "Before diving into the project, please take a look at the determines and project structure.\n",
    "\n",
    "- NOTE: This project assumes that you already know the basics of coding in Python and are familiar with model deployement as well as the theory behind K-Means, Gradient Boosting , KNN, Random Forest, and Confusion Matrices. You can try more models and methods beside these to improve your model metrics.\n",
    "\n"
   ]
  },
  {
   "cell_type": "markdown",
   "metadata": {
    "id": "4oRnVXpS2slN"
   },
   "source": [
    "# #Determines\n",
    "In this project you have HR data of a company. A study is requested from you to predict which employee will churn by using this data.\n",
    "\n",
    "The HR dataset has 14,999 samples. In the given dataset, you have two types of employee one who stayed and another who left the company.\n",
    "\n",
    "You can describe 10 attributes in detail as:\n",
    "- ***satisfaction_level:*** It is employee satisfaction point, which ranges from 0-1.\n",
    "- ***last_evaluation:*** It is evaluated performance by the employer, which also ranges from 0-1.\n",
    "- ***number_projects:*** How many of projects assigned to an employee?\n",
    "- ***average_monthly_hours:*** How many hours in averega an employee worked in a month?\n",
    "- **time_spent_company:** time_spent_company means employee experience. The number of years spent by an employee in the company.\n",
    "- ***work_accident:*** Whether an employee has had a work accident or not.\n",
    "- ***promotion_last_5years:*** Whether an employee has had a promotion in the last 5 years or not.\n",
    "- ***Departments:*** Employee's working department/division.\n",
    "- ***Salary:*** Salary level of the employee such as low, medium and high.\n",
    "- ***left:*** Whether the employee has left the company or not.\n",
    "\n",
    "First of all, to observe the structure of the data, outliers, missing values and features that affect the target variable, you must use exploratory data analysis and data visualization techniques. \n",
    "\n",
    "Then, you must perform data pre-processing operations such as ***Scaling*** and ***Label Encoding*** to increase the accuracy score of Gradient Descent Based or Distance-Based algorithms. you are asked to perform ***Cluster Analysis*** based on the information you obtain during exploratory data analysis and data visualization processes. \n",
    "\n",
    "The purpose of clustering analysis is to cluster data with similar characteristics. You are asked to use the ***K-means*** algorithm to make cluster analysis. However, you must provide the K-means algorithm with information about the number of clusters it will make predictions. Also, the data you apply to the K-means algorithm must be scaled. In order to find the optimal number of clusters, you are asked to use the ***Elbow method***. Briefly, try to predict the set to which individuals are related by using K-means and evaluate the estimation results.\n",
    "\n",
    "Once the data is ready to be applied to the model, you must ***split the data into train and test***. Then build a model to predict whether employees will churn or not. Train your models with your train set, test the success of your model with your test set. \n",
    "\n",
    "Try to make your predictions by using the algorithms ***Gradient Boosting Classifier***, ***K Neighbors Classifier***, ***Random Forest Classifier***. You can use the related modules of the ***scikit-learn*** library. You can use scikit-learn ***Confusion Metrics*** module for accuracy calculation. You can use the ***Yellowbrick*** module for model selection and visualization.\n",
    "\n",
    "In the final step, you will deploy your model using Streamlit tool.\n",
    "\n"
   ]
  },
  {
   "cell_type": "markdown",
   "metadata": {
    "id": "97xzRLNj2slO"
   },
   "source": [
    "# #Tasks\n",
    "\n",
    "#### 1. Exploratory Data Analysis\n",
    "- Importing Modules\n",
    "- Loading Dataset\n",
    "- Data Insigts\n",
    "\n",
    "#### 2. Data Visualization\n",
    "- Employees Left\n",
    "- Determine Number of Projects\n",
    "- Determine Time Spent in Company\n",
    "- Subplots of Features\n",
    "\n",
    "#### 3. Data Pre-Processing\n",
    "- Split Data as Train and Test set\n",
    "- Scaling\n",
    "- Label Encoding\n",
    "\n",
    "#### 4. Cluster Analysis\n",
    "- Find the optimal number of clusters (k) using the elbow method for for K-means.\n",
    "- Determine the clusters by using K-Means then Evaluate predicted results.\n",
    "\n",
    "#### 5. Model Building\n",
    "- Built Gradient Boosting Classifier, Evaluate Model Performance and Predict Test Data\n",
    "- Built K Neighbors Classifier and Evaluate Model Performance and Predict Test Data\n",
    "- Built Random Forest Classifier and Evaluate Model Performance and Predict Test Data\n",
    "\n",
    "#### 6. Model Deployement\n",
    "\n",
    "- Save and Export the Model as .pkl\n",
    "- Save and Export Variables as .pkl "
   ]
  },
  {
   "cell_type": "markdown",
   "metadata": {
    "id": "WLTGi7q02slP"
   },
   "source": [
    "## 1. Exploratory Data Analysis\n",
    "\n",
    "Exploratory Data Analysis is an initial process of analysis, in which you can summarize characteristics of data such as pattern, trends, outliers, and hypothesis testing using descriptive statistics and visualization."
   ]
  },
  {
   "cell_type": "code",
   "execution_count": 6,
   "metadata": {
    "id": "nyUCvXyU2slQ"
   },
   "outputs": [
    {
     "name": "stdout",
     "output_type": "stream",
     "text": [
      "Collecting plotly==5.9.0\n",
      "  Downloading plotly-5.9.0-py2.py3-none-any.whl (15.2 MB)\n",
      "\u001b[K     |████████████████████████████████| 15.2 MB 428 kB/s eta 0:00:01\n",
      "\u001b[?25hCollecting tenacity>=6.2.0\n",
      "  Downloading tenacity-8.0.1-py3-none-any.whl (24 kB)\n",
      "Installing collected packages: tenacity, plotly\n",
      "Successfully installed plotly-5.9.0 tenacity-8.0.1\n",
      "Note: you may need to restart the kernel to use updated packages.\n"
     ]
    }
   ],
   "source": [
    "pip install plotly==5.9.0"
   ]
  },
  {
   "cell_type": "markdown",
   "metadata": {
    "id": "TyrWBiyM2sld"
   },
   "source": [
    "### Importing Modules"
   ]
  },
  {
   "cell_type": "code",
   "execution_count": 1,
   "metadata": {
    "id": "TI19sGjE2slf"
   },
   "outputs": [],
   "source": [
    "import numpy as np \n",
    "import pandas as pd \n",
    "from pandas.plotting import register_matplotlib_converters\n",
    "%matplotlib inline\n",
    "\n",
    "import seaborn as sns\n",
    "sns.set_style(\"darkgrid\")\n",
    "\n",
    "import matplotlib.pyplot as plt\n",
    "from collections import Counter\n",
    "\n",
    "from pylab import rcParams\n",
    "plt.rcParams['figure.figsize'] = (6,6)\n",
    "plt.rcParams['figure.dpi'] = 100\n",
    "\n",
    "import warnings\n",
    "warnings.filterwarnings(\"ignore\")\n",
    "warnings.warn(\"this will not show\")\n",
    "\n",
    "pd.set_option('display.max_columns', None)\n",
    "\n",
    "import colorama\n",
    "from colorama import Fore, Style  # makes strings colored\n",
    "from termcolor import colored\n",
    "from termcolor import cprint\n",
    "from scipy import stats\n",
    "from scipy import math\n",
    "import warnings\n",
    "import plotly.express as px\n",
    "import plotly.figure_factory as ff"
   ]
  },
  {
   "cell_type": "code",
   "execution_count": null,
   "metadata": {},
   "outputs": [],
   "source": []
  },
  {
   "cell_type": "markdown",
   "metadata": {
    "id": "vS9n2J9-2sln"
   },
   "source": [
    "### Loading Dataset\n",
    "\n",
    "Let's first load the required HR dataset using pandas's \"read_csv\" function."
   ]
  },
  {
   "cell_type": "code",
   "execution_count": 2,
   "metadata": {
    "id": "rvS39ktq2slt",
    "scrolled": true
   },
   "outputs": [
    {
     "data": {
      "text/html": [
       "<div>\n",
       "<style scoped>\n",
       "    .dataframe tbody tr th:only-of-type {\n",
       "        vertical-align: middle;\n",
       "    }\n",
       "\n",
       "    .dataframe tbody tr th {\n",
       "        vertical-align: top;\n",
       "    }\n",
       "\n",
       "    .dataframe thead th {\n",
       "        text-align: right;\n",
       "    }\n",
       "</style>\n",
       "<table border=\"1\" class=\"dataframe\">\n",
       "  <thead>\n",
       "    <tr style=\"text-align: right;\">\n",
       "      <th></th>\n",
       "      <th>satisfaction_level</th>\n",
       "      <th>last_evaluation</th>\n",
       "      <th>number_project</th>\n",
       "      <th>average_montly_hours</th>\n",
       "      <th>time_spend_company</th>\n",
       "      <th>Work_accident</th>\n",
       "      <th>left</th>\n",
       "      <th>promotion_last_5years</th>\n",
       "      <th>Departments</th>\n",
       "      <th>salary</th>\n",
       "    </tr>\n",
       "  </thead>\n",
       "  <tbody>\n",
       "    <tr>\n",
       "      <th>0</th>\n",
       "      <td>0.38</td>\n",
       "      <td>0.53</td>\n",
       "      <td>2</td>\n",
       "      <td>157</td>\n",
       "      <td>3</td>\n",
       "      <td>0</td>\n",
       "      <td>1</td>\n",
       "      <td>0</td>\n",
       "      <td>sales</td>\n",
       "      <td>low</td>\n",
       "    </tr>\n",
       "    <tr>\n",
       "      <th>1</th>\n",
       "      <td>0.80</td>\n",
       "      <td>0.86</td>\n",
       "      <td>5</td>\n",
       "      <td>262</td>\n",
       "      <td>6</td>\n",
       "      <td>0</td>\n",
       "      <td>1</td>\n",
       "      <td>0</td>\n",
       "      <td>sales</td>\n",
       "      <td>medium</td>\n",
       "    </tr>\n",
       "    <tr>\n",
       "      <th>2</th>\n",
       "      <td>0.11</td>\n",
       "      <td>0.88</td>\n",
       "      <td>7</td>\n",
       "      <td>272</td>\n",
       "      <td>4</td>\n",
       "      <td>0</td>\n",
       "      <td>1</td>\n",
       "      <td>0</td>\n",
       "      <td>sales</td>\n",
       "      <td>medium</td>\n",
       "    </tr>\n",
       "    <tr>\n",
       "      <th>3</th>\n",
       "      <td>0.72</td>\n",
       "      <td>0.87</td>\n",
       "      <td>5</td>\n",
       "      <td>223</td>\n",
       "      <td>5</td>\n",
       "      <td>0</td>\n",
       "      <td>1</td>\n",
       "      <td>0</td>\n",
       "      <td>sales</td>\n",
       "      <td>low</td>\n",
       "    </tr>\n",
       "    <tr>\n",
       "      <th>4</th>\n",
       "      <td>0.37</td>\n",
       "      <td>0.52</td>\n",
       "      <td>2</td>\n",
       "      <td>159</td>\n",
       "      <td>3</td>\n",
       "      <td>0</td>\n",
       "      <td>1</td>\n",
       "      <td>0</td>\n",
       "      <td>sales</td>\n",
       "      <td>low</td>\n",
       "    </tr>\n",
       "  </tbody>\n",
       "</table>\n",
       "</div>"
      ],
      "text/plain": [
       "   satisfaction_level  last_evaluation  number_project  average_montly_hours  \\\n",
       "0                0.38             0.53               2                   157   \n",
       "1                0.80             0.86               5                   262   \n",
       "2                0.11             0.88               7                   272   \n",
       "3                0.72             0.87               5                   223   \n",
       "4                0.37             0.52               2                   159   \n",
       "\n",
       "   time_spend_company  Work_accident  left  promotion_last_5years  \\\n",
       "0                   3              0     1                      0   \n",
       "1                   6              0     1                      0   \n",
       "2                   4              0     1                      0   \n",
       "3                   5              0     1                      0   \n",
       "4                   3              0     1                      0   \n",
       "\n",
       "  Departments   salary  \n",
       "0        sales     low  \n",
       "1        sales  medium  \n",
       "2        sales  medium  \n",
       "3        sales     low  \n",
       "4        sales     low  "
      ]
     },
     "execution_count": 2,
     "metadata": {},
     "output_type": "execute_result"
    }
   ],
   "source": [
    "df= pd.read_csv(\"HR_Dataset.csv\")\n",
    "df.head()"
   ]
  },
  {
   "cell_type": "code",
   "execution_count": 3,
   "metadata": {},
   "outputs": [
    {
     "name": "stdout",
     "output_type": "stream",
     "text": [
      "<class 'pandas.core.frame.DataFrame'>\n",
      "RangeIndex: 14999 entries, 0 to 14998\n",
      "Data columns (total 10 columns):\n",
      " #   Column                 Non-Null Count  Dtype  \n",
      "---  ------                 --------------  -----  \n",
      " 0   satisfaction_level     14999 non-null  float64\n",
      " 1   last_evaluation        14999 non-null  float64\n",
      " 2   number_project         14999 non-null  int64  \n",
      " 3   average_montly_hours   14999 non-null  int64  \n",
      " 4   time_spend_company     14999 non-null  int64  \n",
      " 5   Work_accident          14999 non-null  int64  \n",
      " 6   left                   14999 non-null  int64  \n",
      " 7   promotion_last_5years  14999 non-null  int64  \n",
      " 8   Departments            14999 non-null  object \n",
      " 9   salary                 14999 non-null  object \n",
      "dtypes: float64(2), int64(6), object(2)\n",
      "memory usage: 1.1+ MB\n"
     ]
    }
   ],
   "source": [
    "df.info()"
   ]
  },
  {
   "cell_type": "code",
   "execution_count": 4,
   "metadata": {},
   "outputs": [
    {
     "data": {
      "text/plain": [
       "0"
      ]
     },
     "execution_count": 4,
     "metadata": {},
     "output_type": "execute_result"
    }
   ],
   "source": [
    "df.isna().sum().sum()"
   ]
  },
  {
   "cell_type": "code",
   "execution_count": 5,
   "metadata": {},
   "outputs": [
    {
     "data": {
      "text/html": [
       "<div>\n",
       "<style scoped>\n",
       "    .dataframe tbody tr th:only-of-type {\n",
       "        vertical-align: middle;\n",
       "    }\n",
       "\n",
       "    .dataframe tbody tr th {\n",
       "        vertical-align: top;\n",
       "    }\n",
       "\n",
       "    .dataframe thead th {\n",
       "        text-align: right;\n",
       "    }\n",
       "</style>\n",
       "<table border=\"1\" class=\"dataframe\">\n",
       "  <thead>\n",
       "    <tr style=\"text-align: right;\">\n",
       "      <th></th>\n",
       "      <th>count</th>\n",
       "      <th>unique</th>\n",
       "      <th>top</th>\n",
       "      <th>freq</th>\n",
       "      <th>mean</th>\n",
       "      <th>std</th>\n",
       "      <th>min</th>\n",
       "      <th>25%</th>\n",
       "      <th>50%</th>\n",
       "      <th>75%</th>\n",
       "      <th>max</th>\n",
       "    </tr>\n",
       "  </thead>\n",
       "  <tbody>\n",
       "    <tr>\n",
       "      <th>satisfaction_level</th>\n",
       "      <td>14999.0</td>\n",
       "      <td>NaN</td>\n",
       "      <td>NaN</td>\n",
       "      <td>NaN</td>\n",
       "      <td>0.612834</td>\n",
       "      <td>0.248631</td>\n",
       "      <td>0.09</td>\n",
       "      <td>0.44</td>\n",
       "      <td>0.64</td>\n",
       "      <td>0.82</td>\n",
       "      <td>1.0</td>\n",
       "    </tr>\n",
       "    <tr>\n",
       "      <th>last_evaluation</th>\n",
       "      <td>14999.0</td>\n",
       "      <td>NaN</td>\n",
       "      <td>NaN</td>\n",
       "      <td>NaN</td>\n",
       "      <td>0.716102</td>\n",
       "      <td>0.171169</td>\n",
       "      <td>0.36</td>\n",
       "      <td>0.56</td>\n",
       "      <td>0.72</td>\n",
       "      <td>0.87</td>\n",
       "      <td>1.0</td>\n",
       "    </tr>\n",
       "    <tr>\n",
       "      <th>number_project</th>\n",
       "      <td>14999.0</td>\n",
       "      <td>NaN</td>\n",
       "      <td>NaN</td>\n",
       "      <td>NaN</td>\n",
       "      <td>3.803054</td>\n",
       "      <td>1.232592</td>\n",
       "      <td>2.0</td>\n",
       "      <td>3.0</td>\n",
       "      <td>4.0</td>\n",
       "      <td>5.0</td>\n",
       "      <td>7.0</td>\n",
       "    </tr>\n",
       "    <tr>\n",
       "      <th>average_montly_hours</th>\n",
       "      <td>14999.0</td>\n",
       "      <td>NaN</td>\n",
       "      <td>NaN</td>\n",
       "      <td>NaN</td>\n",
       "      <td>201.050337</td>\n",
       "      <td>49.943099</td>\n",
       "      <td>96.0</td>\n",
       "      <td>156.0</td>\n",
       "      <td>200.0</td>\n",
       "      <td>245.0</td>\n",
       "      <td>310.0</td>\n",
       "    </tr>\n",
       "    <tr>\n",
       "      <th>time_spend_company</th>\n",
       "      <td>14999.0</td>\n",
       "      <td>NaN</td>\n",
       "      <td>NaN</td>\n",
       "      <td>NaN</td>\n",
       "      <td>3.498233</td>\n",
       "      <td>1.460136</td>\n",
       "      <td>2.0</td>\n",
       "      <td>3.0</td>\n",
       "      <td>3.0</td>\n",
       "      <td>4.0</td>\n",
       "      <td>10.0</td>\n",
       "    </tr>\n",
       "    <tr>\n",
       "      <th>Work_accident</th>\n",
       "      <td>14999.0</td>\n",
       "      <td>NaN</td>\n",
       "      <td>NaN</td>\n",
       "      <td>NaN</td>\n",
       "      <td>0.14461</td>\n",
       "      <td>0.351719</td>\n",
       "      <td>0.0</td>\n",
       "      <td>0.0</td>\n",
       "      <td>0.0</td>\n",
       "      <td>0.0</td>\n",
       "      <td>1.0</td>\n",
       "    </tr>\n",
       "    <tr>\n",
       "      <th>left</th>\n",
       "      <td>14999.0</td>\n",
       "      <td>NaN</td>\n",
       "      <td>NaN</td>\n",
       "      <td>NaN</td>\n",
       "      <td>0.238083</td>\n",
       "      <td>0.425924</td>\n",
       "      <td>0.0</td>\n",
       "      <td>0.0</td>\n",
       "      <td>0.0</td>\n",
       "      <td>0.0</td>\n",
       "      <td>1.0</td>\n",
       "    </tr>\n",
       "    <tr>\n",
       "      <th>promotion_last_5years</th>\n",
       "      <td>14999.0</td>\n",
       "      <td>NaN</td>\n",
       "      <td>NaN</td>\n",
       "      <td>NaN</td>\n",
       "      <td>0.021268</td>\n",
       "      <td>0.144281</td>\n",
       "      <td>0.0</td>\n",
       "      <td>0.0</td>\n",
       "      <td>0.0</td>\n",
       "      <td>0.0</td>\n",
       "      <td>1.0</td>\n",
       "    </tr>\n",
       "    <tr>\n",
       "      <th>Departments</th>\n",
       "      <td>14999</td>\n",
       "      <td>10</td>\n",
       "      <td>sales</td>\n",
       "      <td>4140</td>\n",
       "      <td>NaN</td>\n",
       "      <td>NaN</td>\n",
       "      <td>NaN</td>\n",
       "      <td>NaN</td>\n",
       "      <td>NaN</td>\n",
       "      <td>NaN</td>\n",
       "      <td>NaN</td>\n",
       "    </tr>\n",
       "    <tr>\n",
       "      <th>salary</th>\n",
       "      <td>14999</td>\n",
       "      <td>3</td>\n",
       "      <td>low</td>\n",
       "      <td>7316</td>\n",
       "      <td>NaN</td>\n",
       "      <td>NaN</td>\n",
       "      <td>NaN</td>\n",
       "      <td>NaN</td>\n",
       "      <td>NaN</td>\n",
       "      <td>NaN</td>\n",
       "      <td>NaN</td>\n",
       "    </tr>\n",
       "  </tbody>\n",
       "</table>\n",
       "</div>"
      ],
      "text/plain": [
       "                         count unique    top  freq        mean        std  \\\n",
       "satisfaction_level     14999.0    NaN    NaN   NaN    0.612834   0.248631   \n",
       "last_evaluation        14999.0    NaN    NaN   NaN    0.716102   0.171169   \n",
       "number_project         14999.0    NaN    NaN   NaN    3.803054   1.232592   \n",
       "average_montly_hours   14999.0    NaN    NaN   NaN  201.050337  49.943099   \n",
       "time_spend_company     14999.0    NaN    NaN   NaN    3.498233   1.460136   \n",
       "Work_accident          14999.0    NaN    NaN   NaN     0.14461   0.351719   \n",
       "left                   14999.0    NaN    NaN   NaN    0.238083   0.425924   \n",
       "promotion_last_5years  14999.0    NaN    NaN   NaN    0.021268   0.144281   \n",
       "Departments              14999     10  sales  4140         NaN        NaN   \n",
       "salary                   14999      3    low  7316         NaN        NaN   \n",
       "\n",
       "                        min    25%    50%    75%    max  \n",
       "satisfaction_level     0.09   0.44   0.64   0.82    1.0  \n",
       "last_evaluation        0.36   0.56   0.72   0.87    1.0  \n",
       "number_project          2.0    3.0    4.0    5.0    7.0  \n",
       "average_montly_hours   96.0  156.0  200.0  245.0  310.0  \n",
       "time_spend_company      2.0    3.0    3.0    4.0   10.0  \n",
       "Work_accident           0.0    0.0    0.0    0.0    1.0  \n",
       "left                    0.0    0.0    0.0    0.0    1.0  \n",
       "promotion_last_5years   0.0    0.0    0.0    0.0    1.0  \n",
       "Departments             NaN    NaN    NaN    NaN    NaN  \n",
       "salary                  NaN    NaN    NaN    NaN    NaN  "
      ]
     },
     "execution_count": 5,
     "metadata": {},
     "output_type": "execute_result"
    }
   ],
   "source": [
    "df.describe(include='all').T"
   ]
  },
  {
   "cell_type": "code",
   "execution_count": 6,
   "metadata": {},
   "outputs": [
    {
     "data": {
      "text/plain": [
       "3008"
      ]
     },
     "execution_count": 6,
     "metadata": {},
     "output_type": "execute_result"
    }
   ],
   "source": [
    "df.duplicated().sum()"
   ]
  },
  {
   "cell_type": "code",
   "execution_count": 7,
   "metadata": {},
   "outputs": [],
   "source": [
    "df.drop_duplicates(inplace=True)"
   ]
  },
  {
   "cell_type": "code",
   "execution_count": 8,
   "metadata": {},
   "outputs": [
    {
     "data": {
      "text/html": [
       "<div>\n",
       "<style scoped>\n",
       "    .dataframe tbody tr th:only-of-type {\n",
       "        vertical-align: middle;\n",
       "    }\n",
       "\n",
       "    .dataframe tbody tr th {\n",
       "        vertical-align: top;\n",
       "    }\n",
       "\n",
       "    .dataframe thead th {\n",
       "        text-align: right;\n",
       "    }\n",
       "</style>\n",
       "<table border=\"1\" class=\"dataframe\">\n",
       "  <thead>\n",
       "    <tr style=\"text-align: right;\">\n",
       "      <th></th>\n",
       "      <th>index</th>\n",
       "      <th>satisfaction_level</th>\n",
       "      <th>last_evaluation</th>\n",
       "      <th>number_project</th>\n",
       "      <th>average_montly_hours</th>\n",
       "      <th>time_spend_company</th>\n",
       "      <th>Work_accident</th>\n",
       "      <th>left</th>\n",
       "      <th>promotion_last_5years</th>\n",
       "      <th>Departments</th>\n",
       "      <th>salary</th>\n",
       "    </tr>\n",
       "  </thead>\n",
       "  <tbody>\n",
       "    <tr>\n",
       "      <th>0</th>\n",
       "      <td>0</td>\n",
       "      <td>0.38</td>\n",
       "      <td>0.53</td>\n",
       "      <td>2</td>\n",
       "      <td>157</td>\n",
       "      <td>3</td>\n",
       "      <td>0</td>\n",
       "      <td>1</td>\n",
       "      <td>0</td>\n",
       "      <td>sales</td>\n",
       "      <td>low</td>\n",
       "    </tr>\n",
       "    <tr>\n",
       "      <th>1</th>\n",
       "      <td>1</td>\n",
       "      <td>0.80</td>\n",
       "      <td>0.86</td>\n",
       "      <td>5</td>\n",
       "      <td>262</td>\n",
       "      <td>6</td>\n",
       "      <td>0</td>\n",
       "      <td>1</td>\n",
       "      <td>0</td>\n",
       "      <td>sales</td>\n",
       "      <td>medium</td>\n",
       "    </tr>\n",
       "    <tr>\n",
       "      <th>2</th>\n",
       "      <td>2</td>\n",
       "      <td>0.11</td>\n",
       "      <td>0.88</td>\n",
       "      <td>7</td>\n",
       "      <td>272</td>\n",
       "      <td>4</td>\n",
       "      <td>0</td>\n",
       "      <td>1</td>\n",
       "      <td>0</td>\n",
       "      <td>sales</td>\n",
       "      <td>medium</td>\n",
       "    </tr>\n",
       "    <tr>\n",
       "      <th>3</th>\n",
       "      <td>3</td>\n",
       "      <td>0.72</td>\n",
       "      <td>0.87</td>\n",
       "      <td>5</td>\n",
       "      <td>223</td>\n",
       "      <td>5</td>\n",
       "      <td>0</td>\n",
       "      <td>1</td>\n",
       "      <td>0</td>\n",
       "      <td>sales</td>\n",
       "      <td>low</td>\n",
       "    </tr>\n",
       "    <tr>\n",
       "      <th>4</th>\n",
       "      <td>4</td>\n",
       "      <td>0.37</td>\n",
       "      <td>0.52</td>\n",
       "      <td>2</td>\n",
       "      <td>159</td>\n",
       "      <td>3</td>\n",
       "      <td>0</td>\n",
       "      <td>1</td>\n",
       "      <td>0</td>\n",
       "      <td>sales</td>\n",
       "      <td>low</td>\n",
       "    </tr>\n",
       "    <tr>\n",
       "      <th>...</th>\n",
       "      <td>...</td>\n",
       "      <td>...</td>\n",
       "      <td>...</td>\n",
       "      <td>...</td>\n",
       "      <td>...</td>\n",
       "      <td>...</td>\n",
       "      <td>...</td>\n",
       "      <td>...</td>\n",
       "      <td>...</td>\n",
       "      <td>...</td>\n",
       "      <td>...</td>\n",
       "    </tr>\n",
       "    <tr>\n",
       "      <th>11986</th>\n",
       "      <td>11995</td>\n",
       "      <td>0.90</td>\n",
       "      <td>0.55</td>\n",
       "      <td>3</td>\n",
       "      <td>259</td>\n",
       "      <td>10</td>\n",
       "      <td>1</td>\n",
       "      <td>0</td>\n",
       "      <td>1</td>\n",
       "      <td>management</td>\n",
       "      <td>high</td>\n",
       "    </tr>\n",
       "    <tr>\n",
       "      <th>11987</th>\n",
       "      <td>11996</td>\n",
       "      <td>0.74</td>\n",
       "      <td>0.95</td>\n",
       "      <td>5</td>\n",
       "      <td>266</td>\n",
       "      <td>10</td>\n",
       "      <td>0</td>\n",
       "      <td>0</td>\n",
       "      <td>1</td>\n",
       "      <td>management</td>\n",
       "      <td>high</td>\n",
       "    </tr>\n",
       "    <tr>\n",
       "      <th>11988</th>\n",
       "      <td>11997</td>\n",
       "      <td>0.85</td>\n",
       "      <td>0.54</td>\n",
       "      <td>3</td>\n",
       "      <td>185</td>\n",
       "      <td>10</td>\n",
       "      <td>0</td>\n",
       "      <td>0</td>\n",
       "      <td>1</td>\n",
       "      <td>management</td>\n",
       "      <td>high</td>\n",
       "    </tr>\n",
       "    <tr>\n",
       "      <th>11989</th>\n",
       "      <td>11998</td>\n",
       "      <td>0.33</td>\n",
       "      <td>0.65</td>\n",
       "      <td>3</td>\n",
       "      <td>172</td>\n",
       "      <td>10</td>\n",
       "      <td>0</td>\n",
       "      <td>0</td>\n",
       "      <td>1</td>\n",
       "      <td>marketing</td>\n",
       "      <td>high</td>\n",
       "    </tr>\n",
       "    <tr>\n",
       "      <th>11990</th>\n",
       "      <td>11999</td>\n",
       "      <td>0.50</td>\n",
       "      <td>0.73</td>\n",
       "      <td>4</td>\n",
       "      <td>180</td>\n",
       "      <td>3</td>\n",
       "      <td>0</td>\n",
       "      <td>0</td>\n",
       "      <td>0</td>\n",
       "      <td>IT</td>\n",
       "      <td>low</td>\n",
       "    </tr>\n",
       "  </tbody>\n",
       "</table>\n",
       "<p>11991 rows × 11 columns</p>\n",
       "</div>"
      ],
      "text/plain": [
       "       index  satisfaction_level  last_evaluation  number_project  \\\n",
       "0          0                0.38             0.53               2   \n",
       "1          1                0.80             0.86               5   \n",
       "2          2                0.11             0.88               7   \n",
       "3          3                0.72             0.87               5   \n",
       "4          4                0.37             0.52               2   \n",
       "...      ...                 ...              ...             ...   \n",
       "11986  11995                0.90             0.55               3   \n",
       "11987  11996                0.74             0.95               5   \n",
       "11988  11997                0.85             0.54               3   \n",
       "11989  11998                0.33             0.65               3   \n",
       "11990  11999                0.50             0.73               4   \n",
       "\n",
       "       average_montly_hours  time_spend_company  Work_accident  left  \\\n",
       "0                       157                   3              0     1   \n",
       "1                       262                   6              0     1   \n",
       "2                       272                   4              0     1   \n",
       "3                       223                   5              0     1   \n",
       "4                       159                   3              0     1   \n",
       "...                     ...                 ...            ...   ...   \n",
       "11986                   259                  10              1     0   \n",
       "11987                   266                  10              0     0   \n",
       "11988                   185                  10              0     0   \n",
       "11989                   172                  10              0     0   \n",
       "11990                   180                   3              0     0   \n",
       "\n",
       "       promotion_last_5years Departments   salary  \n",
       "0                          0        sales     low  \n",
       "1                          0        sales  medium  \n",
       "2                          0        sales  medium  \n",
       "3                          0        sales     low  \n",
       "4                          0        sales     low  \n",
       "...                      ...          ...     ...  \n",
       "11986                      1   management    high  \n",
       "11987                      1   management    high  \n",
       "11988                      1   management    high  \n",
       "11989                      1    marketing    high  \n",
       "11990                      0           IT     low  \n",
       "\n",
       "[11991 rows x 11 columns]"
      ]
     },
     "execution_count": 8,
     "metadata": {},
     "output_type": "execute_result"
    }
   ],
   "source": [
    "df.reset_index()"
   ]
  },
  {
   "cell_type": "code",
   "execution_count": 9,
   "metadata": {},
   "outputs": [
    {
     "data": {
      "text/plain": [
       "(11991, 10)"
      ]
     },
     "execution_count": 9,
     "metadata": {},
     "output_type": "execute_result"
    }
   ],
   "source": [
    "df.shape"
   ]
  },
  {
   "cell_type": "markdown",
   "metadata": {
    "id": "wc8t0m9u2sl2"
   },
   "source": [
    "### Data Insights\n",
    "\n",
    "In the given dataset, you have two types of employee one who stayed and another who left the company. So, you can divide data into two groups and compare their characteristics. Here, you can find the average of both the groups using groupby() and mean() function."
   ]
  },
  {
   "cell_type": "code",
   "execution_count": 10,
   "metadata": {
    "id": "6Qd_Mxw-2sl9"
   },
   "outputs": [
    {
     "data": {
      "text/html": [
       "<div>\n",
       "<style scoped>\n",
       "    .dataframe tbody tr th:only-of-type {\n",
       "        vertical-align: middle;\n",
       "    }\n",
       "\n",
       "    .dataframe tbody tr th {\n",
       "        vertical-align: top;\n",
       "    }\n",
       "\n",
       "    .dataframe thead th {\n",
       "        text-align: right;\n",
       "    }\n",
       "</style>\n",
       "<table border=\"1\" class=\"dataframe\">\n",
       "  <thead>\n",
       "    <tr style=\"text-align: right;\">\n",
       "      <th></th>\n",
       "      <th>satisfaction_level</th>\n",
       "      <th>last_evaluation</th>\n",
       "      <th>number_project</th>\n",
       "      <th>average_montly_hours</th>\n",
       "      <th>time_spend_company</th>\n",
       "      <th>Work_accident</th>\n",
       "      <th>left</th>\n",
       "      <th>promotion_last_5years</th>\n",
       "      <th>Departments</th>\n",
       "      <th>salary</th>\n",
       "    </tr>\n",
       "  </thead>\n",
       "  <tbody>\n",
       "    <tr>\n",
       "      <th>0</th>\n",
       "      <td>0.38</td>\n",
       "      <td>0.53</td>\n",
       "      <td>2</td>\n",
       "      <td>157</td>\n",
       "      <td>3</td>\n",
       "      <td>0</td>\n",
       "      <td>1</td>\n",
       "      <td>0</td>\n",
       "      <td>sales</td>\n",
       "      <td>low</td>\n",
       "    </tr>\n",
       "    <tr>\n",
       "      <th>1</th>\n",
       "      <td>0.80</td>\n",
       "      <td>0.86</td>\n",
       "      <td>5</td>\n",
       "      <td>262</td>\n",
       "      <td>6</td>\n",
       "      <td>0</td>\n",
       "      <td>1</td>\n",
       "      <td>0</td>\n",
       "      <td>sales</td>\n",
       "      <td>medium</td>\n",
       "    </tr>\n",
       "    <tr>\n",
       "      <th>2</th>\n",
       "      <td>0.11</td>\n",
       "      <td>0.88</td>\n",
       "      <td>7</td>\n",
       "      <td>272</td>\n",
       "      <td>4</td>\n",
       "      <td>0</td>\n",
       "      <td>1</td>\n",
       "      <td>0</td>\n",
       "      <td>sales</td>\n",
       "      <td>medium</td>\n",
       "    </tr>\n",
       "    <tr>\n",
       "      <th>3</th>\n",
       "      <td>0.72</td>\n",
       "      <td>0.87</td>\n",
       "      <td>5</td>\n",
       "      <td>223</td>\n",
       "      <td>5</td>\n",
       "      <td>0</td>\n",
       "      <td>1</td>\n",
       "      <td>0</td>\n",
       "      <td>sales</td>\n",
       "      <td>low</td>\n",
       "    </tr>\n",
       "    <tr>\n",
       "      <th>4</th>\n",
       "      <td>0.37</td>\n",
       "      <td>0.52</td>\n",
       "      <td>2</td>\n",
       "      <td>159</td>\n",
       "      <td>3</td>\n",
       "      <td>0</td>\n",
       "      <td>1</td>\n",
       "      <td>0</td>\n",
       "      <td>sales</td>\n",
       "      <td>low</td>\n",
       "    </tr>\n",
       "    <tr>\n",
       "      <th>...</th>\n",
       "      <td>...</td>\n",
       "      <td>...</td>\n",
       "      <td>...</td>\n",
       "      <td>...</td>\n",
       "      <td>...</td>\n",
       "      <td>...</td>\n",
       "      <td>...</td>\n",
       "      <td>...</td>\n",
       "      <td>...</td>\n",
       "      <td>...</td>\n",
       "    </tr>\n",
       "    <tr>\n",
       "      <th>1995</th>\n",
       "      <td>0.37</td>\n",
       "      <td>0.57</td>\n",
       "      <td>2</td>\n",
       "      <td>147</td>\n",
       "      <td>3</td>\n",
       "      <td>0</td>\n",
       "      <td>1</td>\n",
       "      <td>0</td>\n",
       "      <td>sales</td>\n",
       "      <td>low</td>\n",
       "    </tr>\n",
       "    <tr>\n",
       "      <th>1996</th>\n",
       "      <td>0.11</td>\n",
       "      <td>0.92</td>\n",
       "      <td>7</td>\n",
       "      <td>293</td>\n",
       "      <td>4</td>\n",
       "      <td>0</td>\n",
       "      <td>1</td>\n",
       "      <td>0</td>\n",
       "      <td>sales</td>\n",
       "      <td>low</td>\n",
       "    </tr>\n",
       "    <tr>\n",
       "      <th>1997</th>\n",
       "      <td>0.41</td>\n",
       "      <td>0.53</td>\n",
       "      <td>2</td>\n",
       "      <td>157</td>\n",
       "      <td>3</td>\n",
       "      <td>0</td>\n",
       "      <td>1</td>\n",
       "      <td>0</td>\n",
       "      <td>sales</td>\n",
       "      <td>low</td>\n",
       "    </tr>\n",
       "    <tr>\n",
       "      <th>1998</th>\n",
       "      <td>0.84</td>\n",
       "      <td>0.96</td>\n",
       "      <td>4</td>\n",
       "      <td>247</td>\n",
       "      <td>5</td>\n",
       "      <td>0</td>\n",
       "      <td>1</td>\n",
       "      <td>0</td>\n",
       "      <td>sales</td>\n",
       "      <td>low</td>\n",
       "    </tr>\n",
       "    <tr>\n",
       "      <th>1999</th>\n",
       "      <td>0.40</td>\n",
       "      <td>0.51</td>\n",
       "      <td>2</td>\n",
       "      <td>148</td>\n",
       "      <td>3</td>\n",
       "      <td>0</td>\n",
       "      <td>1</td>\n",
       "      <td>0</td>\n",
       "      <td>sales</td>\n",
       "      <td>low</td>\n",
       "    </tr>\n",
       "  </tbody>\n",
       "</table>\n",
       "<p>1991 rows × 10 columns</p>\n",
       "</div>"
      ],
      "text/plain": [
       "      satisfaction_level  last_evaluation  number_project  \\\n",
       "0                   0.38             0.53               2   \n",
       "1                   0.80             0.86               5   \n",
       "2                   0.11             0.88               7   \n",
       "3                   0.72             0.87               5   \n",
       "4                   0.37             0.52               2   \n",
       "...                  ...              ...             ...   \n",
       "1995                0.37             0.57               2   \n",
       "1996                0.11             0.92               7   \n",
       "1997                0.41             0.53               2   \n",
       "1998                0.84             0.96               4   \n",
       "1999                0.40             0.51               2   \n",
       "\n",
       "      average_montly_hours  time_spend_company  Work_accident  left  \\\n",
       "0                      157                   3              0     1   \n",
       "1                      262                   6              0     1   \n",
       "2                      272                   4              0     1   \n",
       "3                      223                   5              0     1   \n",
       "4                      159                   3              0     1   \n",
       "...                    ...                 ...            ...   ...   \n",
       "1995                   147                   3              0     1   \n",
       "1996                   293                   4              0     1   \n",
       "1997                   157                   3              0     1   \n",
       "1998                   247                   5              0     1   \n",
       "1999                   148                   3              0     1   \n",
       "\n",
       "      promotion_last_5years Departments   salary  \n",
       "0                         0        sales     low  \n",
       "1                         0        sales  medium  \n",
       "2                         0        sales  medium  \n",
       "3                         0        sales     low  \n",
       "4                         0        sales     low  \n",
       "...                     ...          ...     ...  \n",
       "1995                      0        sales     low  \n",
       "1996                      0        sales     low  \n",
       "1997                      0        sales     low  \n",
       "1998                      0        sales     low  \n",
       "1999                      0        sales     low  \n",
       "\n",
       "[1991 rows x 10 columns]"
      ]
     },
     "execution_count": 10,
     "metadata": {},
     "output_type": "execute_result"
    }
   ],
   "source": [
    "df_left = df[df.left == 1]\n",
    "df_left  # company den ayrilanlarin datasi"
   ]
  },
  {
   "cell_type": "code",
   "execution_count": 11,
   "metadata": {},
   "outputs": [
    {
     "data": {
      "text/html": [
       "<div>\n",
       "<style scoped>\n",
       "    .dataframe tbody tr th:only-of-type {\n",
       "        vertical-align: middle;\n",
       "    }\n",
       "\n",
       "    .dataframe tbody tr th {\n",
       "        vertical-align: top;\n",
       "    }\n",
       "\n",
       "    .dataframe thead th {\n",
       "        text-align: right;\n",
       "    }\n",
       "</style>\n",
       "<table border=\"1\" class=\"dataframe\">\n",
       "  <thead>\n",
       "    <tr style=\"text-align: right;\">\n",
       "      <th></th>\n",
       "      <th>satisfaction_level</th>\n",
       "      <th>last_evaluation</th>\n",
       "      <th>number_project</th>\n",
       "      <th>average_montly_hours</th>\n",
       "      <th>time_spend_company</th>\n",
       "      <th>Work_accident</th>\n",
       "      <th>left</th>\n",
       "      <th>promotion_last_5years</th>\n",
       "      <th>Departments</th>\n",
       "      <th>salary</th>\n",
       "    </tr>\n",
       "  </thead>\n",
       "  <tbody>\n",
       "    <tr>\n",
       "      <th>2000</th>\n",
       "      <td>0.58</td>\n",
       "      <td>0.74</td>\n",
       "      <td>4</td>\n",
       "      <td>215</td>\n",
       "      <td>3</td>\n",
       "      <td>0</td>\n",
       "      <td>0</td>\n",
       "      <td>0</td>\n",
       "      <td>sales</td>\n",
       "      <td>low</td>\n",
       "    </tr>\n",
       "    <tr>\n",
       "      <th>2001</th>\n",
       "      <td>0.82</td>\n",
       "      <td>0.67</td>\n",
       "      <td>2</td>\n",
       "      <td>202</td>\n",
       "      <td>3</td>\n",
       "      <td>0</td>\n",
       "      <td>0</td>\n",
       "      <td>0</td>\n",
       "      <td>sales</td>\n",
       "      <td>low</td>\n",
       "    </tr>\n",
       "    <tr>\n",
       "      <th>2002</th>\n",
       "      <td>0.45</td>\n",
       "      <td>0.69</td>\n",
       "      <td>5</td>\n",
       "      <td>193</td>\n",
       "      <td>3</td>\n",
       "      <td>0</td>\n",
       "      <td>0</td>\n",
       "      <td>0</td>\n",
       "      <td>sales</td>\n",
       "      <td>low</td>\n",
       "    </tr>\n",
       "    <tr>\n",
       "      <th>2003</th>\n",
       "      <td>0.78</td>\n",
       "      <td>0.82</td>\n",
       "      <td>5</td>\n",
       "      <td>247</td>\n",
       "      <td>3</td>\n",
       "      <td>0</td>\n",
       "      <td>0</td>\n",
       "      <td>0</td>\n",
       "      <td>sales</td>\n",
       "      <td>low</td>\n",
       "    </tr>\n",
       "    <tr>\n",
       "      <th>2004</th>\n",
       "      <td>0.49</td>\n",
       "      <td>0.60</td>\n",
       "      <td>3</td>\n",
       "      <td>214</td>\n",
       "      <td>2</td>\n",
       "      <td>0</td>\n",
       "      <td>0</td>\n",
       "      <td>0</td>\n",
       "      <td>sales</td>\n",
       "      <td>low</td>\n",
       "    </tr>\n",
       "    <tr>\n",
       "      <th>...</th>\n",
       "      <td>...</td>\n",
       "      <td>...</td>\n",
       "      <td>...</td>\n",
       "      <td>...</td>\n",
       "      <td>...</td>\n",
       "      <td>...</td>\n",
       "      <td>...</td>\n",
       "      <td>...</td>\n",
       "      <td>...</td>\n",
       "      <td>...</td>\n",
       "    </tr>\n",
       "    <tr>\n",
       "      <th>11995</th>\n",
       "      <td>0.90</td>\n",
       "      <td>0.55</td>\n",
       "      <td>3</td>\n",
       "      <td>259</td>\n",
       "      <td>10</td>\n",
       "      <td>1</td>\n",
       "      <td>0</td>\n",
       "      <td>1</td>\n",
       "      <td>management</td>\n",
       "      <td>high</td>\n",
       "    </tr>\n",
       "    <tr>\n",
       "      <th>11996</th>\n",
       "      <td>0.74</td>\n",
       "      <td>0.95</td>\n",
       "      <td>5</td>\n",
       "      <td>266</td>\n",
       "      <td>10</td>\n",
       "      <td>0</td>\n",
       "      <td>0</td>\n",
       "      <td>1</td>\n",
       "      <td>management</td>\n",
       "      <td>high</td>\n",
       "    </tr>\n",
       "    <tr>\n",
       "      <th>11997</th>\n",
       "      <td>0.85</td>\n",
       "      <td>0.54</td>\n",
       "      <td>3</td>\n",
       "      <td>185</td>\n",
       "      <td>10</td>\n",
       "      <td>0</td>\n",
       "      <td>0</td>\n",
       "      <td>1</td>\n",
       "      <td>management</td>\n",
       "      <td>high</td>\n",
       "    </tr>\n",
       "    <tr>\n",
       "      <th>11998</th>\n",
       "      <td>0.33</td>\n",
       "      <td>0.65</td>\n",
       "      <td>3</td>\n",
       "      <td>172</td>\n",
       "      <td>10</td>\n",
       "      <td>0</td>\n",
       "      <td>0</td>\n",
       "      <td>1</td>\n",
       "      <td>marketing</td>\n",
       "      <td>high</td>\n",
       "    </tr>\n",
       "    <tr>\n",
       "      <th>11999</th>\n",
       "      <td>0.50</td>\n",
       "      <td>0.73</td>\n",
       "      <td>4</td>\n",
       "      <td>180</td>\n",
       "      <td>3</td>\n",
       "      <td>0</td>\n",
       "      <td>0</td>\n",
       "      <td>0</td>\n",
       "      <td>IT</td>\n",
       "      <td>low</td>\n",
       "    </tr>\n",
       "  </tbody>\n",
       "</table>\n",
       "<p>10000 rows × 10 columns</p>\n",
       "</div>"
      ],
      "text/plain": [
       "       satisfaction_level  last_evaluation  number_project  \\\n",
       "2000                 0.58             0.74               4   \n",
       "2001                 0.82             0.67               2   \n",
       "2002                 0.45             0.69               5   \n",
       "2003                 0.78             0.82               5   \n",
       "2004                 0.49             0.60               3   \n",
       "...                   ...              ...             ...   \n",
       "11995                0.90             0.55               3   \n",
       "11996                0.74             0.95               5   \n",
       "11997                0.85             0.54               3   \n",
       "11998                0.33             0.65               3   \n",
       "11999                0.50             0.73               4   \n",
       "\n",
       "       average_montly_hours  time_spend_company  Work_accident  left  \\\n",
       "2000                    215                   3              0     0   \n",
       "2001                    202                   3              0     0   \n",
       "2002                    193                   3              0     0   \n",
       "2003                    247                   3              0     0   \n",
       "2004                    214                   2              0     0   \n",
       "...                     ...                 ...            ...   ...   \n",
       "11995                   259                  10              1     0   \n",
       "11996                   266                  10              0     0   \n",
       "11997                   185                  10              0     0   \n",
       "11998                   172                  10              0     0   \n",
       "11999                   180                   3              0     0   \n",
       "\n",
       "       promotion_last_5years Departments  salary  \n",
       "2000                       0        sales    low  \n",
       "2001                       0        sales    low  \n",
       "2002                       0        sales    low  \n",
       "2003                       0        sales    low  \n",
       "2004                       0        sales    low  \n",
       "...                      ...          ...    ...  \n",
       "11995                      1   management   high  \n",
       "11996                      1   management   high  \n",
       "11997                      1   management   high  \n",
       "11998                      1    marketing   high  \n",
       "11999                      0           IT    low  \n",
       "\n",
       "[10000 rows x 10 columns]"
      ]
     },
     "execution_count": 11,
     "metadata": {},
     "output_type": "execute_result"
    }
   ],
   "source": [
    "df_stayed = df[df.left ==0]\n",
    "df_stayed #hala inat edip bu kadar az paraya ragmen company de kalanlarin datasi"
   ]
  },
  {
   "cell_type": "code",
   "execution_count": 12,
   "metadata": {},
   "outputs": [
    {
     "data": {
      "text/plain": [
       "0.4402712204922172"
      ]
     },
     "execution_count": 12,
     "metadata": {},
     "output_type": "execute_result"
    }
   ],
   "source": [
    "df_left[\"satisfaction_level\"].mean()#ayrilanlarin companyden memnuniyeti %44 imis"
   ]
  },
  {
   "cell_type": "code",
   "execution_count": 13,
   "metadata": {},
   "outputs": [
    {
     "data": {
      "text/plain": [
       "0.6673649999999947"
      ]
     },
     "execution_count": 13,
     "metadata": {},
     "output_type": "execute_result"
    }
   ],
   "source": [
    "df_stayed[\"satisfaction_level\"].mean() #kalanlarin memnuniyeti %66 imis "
   ]
  },
  {
   "cell_type": "code",
   "execution_count": 14,
   "metadata": {},
   "outputs": [
    {
     "data": {
      "text/plain": [
       "left\n",
       "0    3.262000\n",
       "1    3.881467\n",
       "Name: time_spend_company, dtype: float64"
      ]
     },
     "execution_count": 14,
     "metadata": {},
     "output_type": "execute_result"
    }
   ],
   "source": [
    "df.groupby('left')['time_spend_company'].mean() #ayrilanlarin ve kalanlarin company de calisma ortalamalari"
   ]
  },
  {
   "cell_type": "code",
   "execution_count": 15,
   "metadata": {},
   "outputs": [
    {
     "data": {
      "text/plain": [
       "left\n",
       "0    10000\n",
       "1     1991\n",
       "Name: time_spend_company, dtype: int64"
      ]
     },
     "execution_count": 15,
     "metadata": {},
     "output_type": "execute_result"
    }
   ],
   "source": [
    "df.groupby('left')['time_spend_company'].count()#ayrilan 1991, kalan 10000 kisi imis "
   ]
  },
  {
   "cell_type": "code",
   "execution_count": 16,
   "metadata": {},
   "outputs": [
    {
     "data": {
      "text/plain": [
       "left  salary\n",
       "0     low       4566\n",
       "      medium    4492\n",
       "      high       942\n",
       "1     low       1174\n",
       "      medium     769\n",
       "      high        48\n",
       "Name: salary, dtype: int64"
      ]
     },
     "execution_count": 16,
     "metadata": {},
     "output_type": "execute_result"
    }
   ],
   "source": [
    "df.groupby('left')['salary'].value_counts() #ayrilan ve kalanlarin salary sayilari "
   ]
  },
  {
   "cell_type": "code",
   "execution_count": 17,
   "metadata": {},
   "outputs": [
    {
     "data": {
      "text/html": [
       "<div>\n",
       "<style scoped>\n",
       "    .dataframe tbody tr th:only-of-type {\n",
       "        vertical-align: middle;\n",
       "    }\n",
       "\n",
       "    .dataframe tbody tr th {\n",
       "        vertical-align: top;\n",
       "    }\n",
       "\n",
       "    .dataframe thead th {\n",
       "        text-align: right;\n",
       "    }\n",
       "</style>\n",
       "<table border=\"1\" class=\"dataframe\">\n",
       "  <thead>\n",
       "    <tr style=\"text-align: right;\">\n",
       "      <th></th>\n",
       "      <th>satisfaction_level</th>\n",
       "      <th>last_evaluation</th>\n",
       "      <th>number_project</th>\n",
       "      <th>average_montly_hours</th>\n",
       "      <th>time_spend_company</th>\n",
       "      <th>Work_accident</th>\n",
       "      <th>left</th>\n",
       "      <th>promotion_last_5years</th>\n",
       "      <th>Departments</th>\n",
       "      <th>salary</th>\n",
       "    </tr>\n",
       "  </thead>\n",
       "  <tbody>\n",
       "    <tr>\n",
       "      <th>72</th>\n",
       "      <td>0.45</td>\n",
       "      <td>0.49</td>\n",
       "      <td>2</td>\n",
       "      <td>149</td>\n",
       "      <td>3</td>\n",
       "      <td>0</td>\n",
       "      <td>1</td>\n",
       "      <td>0</td>\n",
       "      <td>product_mng</td>\n",
       "      <td>high</td>\n",
       "    </tr>\n",
       "    <tr>\n",
       "      <th>111</th>\n",
       "      <td>0.09</td>\n",
       "      <td>0.85</td>\n",
       "      <td>6</td>\n",
       "      <td>289</td>\n",
       "      <td>4</td>\n",
       "      <td>0</td>\n",
       "      <td>1</td>\n",
       "      <td>0</td>\n",
       "      <td>hr</td>\n",
       "      <td>high</td>\n",
       "    </tr>\n",
       "    <tr>\n",
       "      <th>189</th>\n",
       "      <td>0.44</td>\n",
       "      <td>0.51</td>\n",
       "      <td>2</td>\n",
       "      <td>156</td>\n",
       "      <td>3</td>\n",
       "      <td>0</td>\n",
       "      <td>1</td>\n",
       "      <td>0</td>\n",
       "      <td>technical</td>\n",
       "      <td>high</td>\n",
       "    </tr>\n",
       "    <tr>\n",
       "      <th>267</th>\n",
       "      <td>0.45</td>\n",
       "      <td>0.53</td>\n",
       "      <td>2</td>\n",
       "      <td>129</td>\n",
       "      <td>3</td>\n",
       "      <td>0</td>\n",
       "      <td>1</td>\n",
       "      <td>0</td>\n",
       "      <td>technical</td>\n",
       "      <td>high</td>\n",
       "    </tr>\n",
       "    <tr>\n",
       "      <th>306</th>\n",
       "      <td>0.37</td>\n",
       "      <td>0.46</td>\n",
       "      <td>2</td>\n",
       "      <td>149</td>\n",
       "      <td>3</td>\n",
       "      <td>0</td>\n",
       "      <td>1</td>\n",
       "      <td>0</td>\n",
       "      <td>marketing</td>\n",
       "      <td>high</td>\n",
       "    </tr>\n",
       "  </tbody>\n",
       "</table>\n",
       "</div>"
      ],
      "text/plain": [
       "     satisfaction_level  last_evaluation  number_project  \\\n",
       "72                 0.45             0.49               2   \n",
       "111                0.09             0.85               6   \n",
       "189                0.44             0.51               2   \n",
       "267                0.45             0.53               2   \n",
       "306                0.37             0.46               2   \n",
       "\n",
       "     average_montly_hours  time_spend_company  Work_accident  left  \\\n",
       "72                    149                   3              0     1   \n",
       "111                   289                   4              0     1   \n",
       "189                   156                   3              0     1   \n",
       "267                   129                   3              0     1   \n",
       "306                   149                   3              0     1   \n",
       "\n",
       "     promotion_last_5years Departments  salary  \n",
       "72                       0  product_mng   high  \n",
       "111                      0           hr   high  \n",
       "189                      0    technical   high  \n",
       "267                      0    technical   high  \n",
       "306                      0    marketing   high  "
      ]
     },
     "execution_count": 17,
     "metadata": {},
     "output_type": "execute_result"
    }
   ],
   "source": [
    "df[((df[\"left\"] == 1) & (df[\"salary\"] == 'high'))].head() #ayrilanlardan yuksek salary li olanlar"
   ]
  },
  {
   "cell_type": "code",
   "execution_count": 19,
   "metadata": {},
   "outputs": [
    {
     "data": {
      "text/html": [
       "<div>\n",
       "<style scoped>\n",
       "    .dataframe tbody tr th:only-of-type {\n",
       "        vertical-align: middle;\n",
       "    }\n",
       "\n",
       "    .dataframe tbody tr th {\n",
       "        vertical-align: top;\n",
       "    }\n",
       "\n",
       "    .dataframe thead th {\n",
       "        text-align: right;\n",
       "    }\n",
       "</style>\n",
       "<table border=\"1\" class=\"dataframe\">\n",
       "  <thead>\n",
       "    <tr style=\"text-align: right;\">\n",
       "      <th></th>\n",
       "      <th>satisfaction_level</th>\n",
       "      <th>last_evaluation</th>\n",
       "      <th>number_project</th>\n",
       "      <th>average_montly_hours</th>\n",
       "      <th>time_spend_company</th>\n",
       "      <th>Work_accident</th>\n",
       "      <th>left</th>\n",
       "      <th>promotion_last_5years</th>\n",
       "      <th>Departments</th>\n",
       "      <th>salary</th>\n",
       "    </tr>\n",
       "  </thead>\n",
       "  <tbody>\n",
       "    <tr>\n",
       "      <th>2022</th>\n",
       "      <td>0.75</td>\n",
       "      <td>0.70</td>\n",
       "      <td>4</td>\n",
       "      <td>144</td>\n",
       "      <td>4</td>\n",
       "      <td>0</td>\n",
       "      <td>0</td>\n",
       "      <td>0</td>\n",
       "      <td>technical</td>\n",
       "      <td>high</td>\n",
       "    </tr>\n",
       "    <tr>\n",
       "      <th>2061</th>\n",
       "      <td>0.82</td>\n",
       "      <td>0.65</td>\n",
       "      <td>4</td>\n",
       "      <td>148</td>\n",
       "      <td>3</td>\n",
       "      <td>0</td>\n",
       "      <td>0</td>\n",
       "      <td>0</td>\n",
       "      <td>sales</td>\n",
       "      <td>high</td>\n",
       "    </tr>\n",
       "    <tr>\n",
       "      <th>2100</th>\n",
       "      <td>0.56</td>\n",
       "      <td>0.94</td>\n",
       "      <td>4</td>\n",
       "      <td>215</td>\n",
       "      <td>2</td>\n",
       "      <td>0</td>\n",
       "      <td>0</td>\n",
       "      <td>0</td>\n",
       "      <td>technical</td>\n",
       "      <td>high</td>\n",
       "    </tr>\n",
       "    <tr>\n",
       "      <th>2139</th>\n",
       "      <td>0.71</td>\n",
       "      <td>0.76</td>\n",
       "      <td>5</td>\n",
       "      <td>172</td>\n",
       "      <td>2</td>\n",
       "      <td>1</td>\n",
       "      <td>0</td>\n",
       "      <td>0</td>\n",
       "      <td>support</td>\n",
       "      <td>high</td>\n",
       "    </tr>\n",
       "    <tr>\n",
       "      <th>2178</th>\n",
       "      <td>0.21</td>\n",
       "      <td>0.82</td>\n",
       "      <td>4</td>\n",
       "      <td>207</td>\n",
       "      <td>5</td>\n",
       "      <td>0</td>\n",
       "      <td>0</td>\n",
       "      <td>0</td>\n",
       "      <td>technical</td>\n",
       "      <td>high</td>\n",
       "    </tr>\n",
       "    <tr>\n",
       "      <th>...</th>\n",
       "      <td>...</td>\n",
       "      <td>...</td>\n",
       "      <td>...</td>\n",
       "      <td>...</td>\n",
       "      <td>...</td>\n",
       "      <td>...</td>\n",
       "      <td>...</td>\n",
       "      <td>...</td>\n",
       "      <td>...</td>\n",
       "      <td>...</td>\n",
       "    </tr>\n",
       "    <tr>\n",
       "      <th>11994</th>\n",
       "      <td>0.22</td>\n",
       "      <td>0.94</td>\n",
       "      <td>3</td>\n",
       "      <td>193</td>\n",
       "      <td>10</td>\n",
       "      <td>0</td>\n",
       "      <td>0</td>\n",
       "      <td>1</td>\n",
       "      <td>management</td>\n",
       "      <td>high</td>\n",
       "    </tr>\n",
       "    <tr>\n",
       "      <th>11995</th>\n",
       "      <td>0.90</td>\n",
       "      <td>0.55</td>\n",
       "      <td>3</td>\n",
       "      <td>259</td>\n",
       "      <td>10</td>\n",
       "      <td>1</td>\n",
       "      <td>0</td>\n",
       "      <td>1</td>\n",
       "      <td>management</td>\n",
       "      <td>high</td>\n",
       "    </tr>\n",
       "    <tr>\n",
       "      <th>11996</th>\n",
       "      <td>0.74</td>\n",
       "      <td>0.95</td>\n",
       "      <td>5</td>\n",
       "      <td>266</td>\n",
       "      <td>10</td>\n",
       "      <td>0</td>\n",
       "      <td>0</td>\n",
       "      <td>1</td>\n",
       "      <td>management</td>\n",
       "      <td>high</td>\n",
       "    </tr>\n",
       "    <tr>\n",
       "      <th>11997</th>\n",
       "      <td>0.85</td>\n",
       "      <td>0.54</td>\n",
       "      <td>3</td>\n",
       "      <td>185</td>\n",
       "      <td>10</td>\n",
       "      <td>0</td>\n",
       "      <td>0</td>\n",
       "      <td>1</td>\n",
       "      <td>management</td>\n",
       "      <td>high</td>\n",
       "    </tr>\n",
       "    <tr>\n",
       "      <th>11998</th>\n",
       "      <td>0.33</td>\n",
       "      <td>0.65</td>\n",
       "      <td>3</td>\n",
       "      <td>172</td>\n",
       "      <td>10</td>\n",
       "      <td>0</td>\n",
       "      <td>0</td>\n",
       "      <td>1</td>\n",
       "      <td>marketing</td>\n",
       "      <td>high</td>\n",
       "    </tr>\n",
       "  </tbody>\n",
       "</table>\n",
       "<p>942 rows × 10 columns</p>\n",
       "</div>"
      ],
      "text/plain": [
       "       satisfaction_level  last_evaluation  number_project  \\\n",
       "2022                 0.75             0.70               4   \n",
       "2061                 0.82             0.65               4   \n",
       "2100                 0.56             0.94               4   \n",
       "2139                 0.71             0.76               5   \n",
       "2178                 0.21             0.82               4   \n",
       "...                   ...              ...             ...   \n",
       "11994                0.22             0.94               3   \n",
       "11995                0.90             0.55               3   \n",
       "11996                0.74             0.95               5   \n",
       "11997                0.85             0.54               3   \n",
       "11998                0.33             0.65               3   \n",
       "\n",
       "       average_montly_hours  time_spend_company  Work_accident  left  \\\n",
       "2022                    144                   4              0     0   \n",
       "2061                    148                   3              0     0   \n",
       "2100                    215                   2              0     0   \n",
       "2139                    172                   2              1     0   \n",
       "2178                    207                   5              0     0   \n",
       "...                     ...                 ...            ...   ...   \n",
       "11994                   193                  10              0     0   \n",
       "11995                   259                  10              1     0   \n",
       "11996                   266                  10              0     0   \n",
       "11997                   185                  10              0     0   \n",
       "11998                   172                  10              0     0   \n",
       "\n",
       "       promotion_last_5years Departments  salary  \n",
       "2022                       0    technical   high  \n",
       "2061                       0        sales   high  \n",
       "2100                       0    technical   high  \n",
       "2139                       0      support   high  \n",
       "2178                       0    technical   high  \n",
       "...                      ...          ...    ...  \n",
       "11994                      1   management   high  \n",
       "11995                      1   management   high  \n",
       "11996                      1   management   high  \n",
       "11997                      1   management   high  \n",
       "11998                      1    marketing   high  \n",
       "\n",
       "[942 rows x 10 columns]"
      ]
     },
     "execution_count": 19,
     "metadata": {},
     "output_type": "execute_result"
    }
   ],
   "source": [
    "df[((df[\"left\"] == 0) & (df[\"salary\"] == 'high'))]#burda yuksek maasli calisanlarin departments larina bakmak icin "
   ]
  },
  {
   "cell_type": "markdown",
   "metadata": {
    "id": "0PsO9Iew2smG"
   },
   "source": [
    "## 2. Data Visualization\n",
    "\n",
    "You can search for answers to the following questions using data visualization methods. Based on these responses, you can develop comments about the factors that cause churn.\n",
    "- How does the promotion status affect employee churn?\n",
    "- How does years of experience affect employee churn?\n",
    "- How does workload affect employee churn?\n",
    "- How does the salary level affect employee churn?"
   ]
  },
  {
   "cell_type": "markdown",
   "metadata": {
    "id": "qRQhFwtq2smI"
   },
   "source": [
    "### Employees Left\n",
    "\n",
    "Let's check how many employees were left?\n",
    "Here, you can plot a bar graph using Matplotlib. The bar graph is suitable for showing discrete variable counts."
   ]
  },
  {
   "cell_type": "code",
   "execution_count": 20,
   "metadata": {
    "id": "3aKWfFLk2smL"
   },
   "outputs": [
    {
     "data": {
      "image/png": "[encoded data removed]",
      "text/plain": [
       "<Figure size 400x200 with 1 Axes>"
      ]
     },
     "metadata": {},
     "output_type": "display_data"
    }
   ],
   "source": [
    "fig, ax = plt.subplots(figsize=(4,2))\n",
    "df.left.value_counts(ascending=False).plot.bar();\n",
    "for p in ax.patches:\n",
    "    ax.annotate((p.get_height()), (p.get_x()+0.2, p.get_height()+20),rotation=95);"
   ]
  },
  {
   "cell_type": "markdown",
   "metadata": {
    "id": "Vn6NHSZE2smY"
   },
   "source": [
    "### Number of Projects\n",
    "\n",
    "Similarly, you can also plot a bar graph to count the number of employees deployed on how many projects?"
   ]
  },
  {
   "cell_type": "code",
   "execution_count": 21,
   "metadata": {
    "id": "bGyyJcUP2sma"
   },
   "outputs": [
    {
     "data": {
      "text/html": [
       "<div>\n",
       "<style scoped>\n",
       "    .dataframe tbody tr th:only-of-type {\n",
       "        vertical-align: middle;\n",
       "    }\n",
       "\n",
       "    .dataframe tbody tr th {\n",
       "        vertical-align: top;\n",
       "    }\n",
       "\n",
       "    .dataframe thead th {\n",
       "        text-align: right;\n",
       "    }\n",
       "</style>\n",
       "<table border=\"1\" class=\"dataframe\">\n",
       "  <thead>\n",
       "    <tr style=\"text-align: right;\">\n",
       "      <th></th>\n",
       "      <th>satisfaction_level</th>\n",
       "      <th>last_evaluation</th>\n",
       "      <th>number_project</th>\n",
       "      <th>average_montly_hours</th>\n",
       "      <th>time_spend_company</th>\n",
       "      <th>Work_accident</th>\n",
       "      <th>left</th>\n",
       "      <th>promotion_last_5years</th>\n",
       "      <th>Departments</th>\n",
       "      <th>salary</th>\n",
       "    </tr>\n",
       "  </thead>\n",
       "  <tbody>\n",
       "    <tr>\n",
       "      <th>0</th>\n",
       "      <td>0.38</td>\n",
       "      <td>0.53</td>\n",
       "      <td>2</td>\n",
       "      <td>157</td>\n",
       "      <td>3</td>\n",
       "      <td>0</td>\n",
       "      <td>1</td>\n",
       "      <td>0</td>\n",
       "      <td>sales</td>\n",
       "      <td>low</td>\n",
       "    </tr>\n",
       "    <tr>\n",
       "      <th>1</th>\n",
       "      <td>0.80</td>\n",
       "      <td>0.86</td>\n",
       "      <td>5</td>\n",
       "      <td>262</td>\n",
       "      <td>6</td>\n",
       "      <td>0</td>\n",
       "      <td>1</td>\n",
       "      <td>0</td>\n",
       "      <td>sales</td>\n",
       "      <td>medium</td>\n",
       "    </tr>\n",
       "    <tr>\n",
       "      <th>2</th>\n",
       "      <td>0.11</td>\n",
       "      <td>0.88</td>\n",
       "      <td>7</td>\n",
       "      <td>272</td>\n",
       "      <td>4</td>\n",
       "      <td>0</td>\n",
       "      <td>1</td>\n",
       "      <td>0</td>\n",
       "      <td>sales</td>\n",
       "      <td>medium</td>\n",
       "    </tr>\n",
       "  </tbody>\n",
       "</table>\n",
       "</div>"
      ],
      "text/plain": [
       "   satisfaction_level  last_evaluation  number_project  average_montly_hours  \\\n",
       "0                0.38             0.53               2                   157   \n",
       "1                0.80             0.86               5                   262   \n",
       "2                0.11             0.88               7                   272   \n",
       "\n",
       "   time_spend_company  Work_accident  left  promotion_last_5years  \\\n",
       "0                   3              0     1                      0   \n",
       "1                   6              0     1                      0   \n",
       "2                   4              0     1                      0   \n",
       "\n",
       "  Departments   salary  \n",
       "0        sales     low  \n",
       "1        sales  medium  \n",
       "2        sales  medium  "
      ]
     },
     "execution_count": 21,
     "metadata": {},
     "output_type": "execute_result"
    }
   ],
   "source": [
    "df.head(3)"
   ]
  },
  {
   "cell_type": "code",
   "execution_count": 22,
   "metadata": {},
   "outputs": [
    {
     "data": {
      "text/plain": [
       "3     38\n",
       "7    145\n",
       "4    237\n",
       "5    343\n",
       "6    371\n",
       "2    857\n",
       "Name: number_project, dtype: int64"
      ]
     },
     "execution_count": 22,
     "metadata": {},
     "output_type": "execute_result"
    }
   ],
   "source": [
    "df_left.number_project.value_counts().sort_values(ascending=True) #ayrilanlarin aldiklari proje sayilari\n",
    "##proje sayisi arttikca ayrilmalar azalmis."
   ]
  },
  {
   "cell_type": "code",
   "execution_count": 23,
   "metadata": {},
   "outputs": [
    {
     "data": {
      "image/png": "[encoded data removed]",
      "text/plain": [
       "<Figure size 600x600 with 1 Axes>"
      ]
     },
     "metadata": {},
     "output_type": "display_data"
    }
   ],
   "source": [
    "ax = sns.countplot(data = df , x=df.number_project, hue= 'left', palette=\"crest\")\n",
    "for bars in ax.containers:\n",
    "        ax.bar_label(bars);\n"
   ]
  },
  {
   "cell_type": "markdown",
   "metadata": {
    "id": "48X9SO4v2smj"
   },
   "source": [
    "### Time Spent in Company\n",
    "\n",
    "Similarly, you can also plot a bar graph to count the number of employees have based on how much experience?\n"
   ]
  },
  {
   "cell_type": "code",
   "execution_count": 24,
   "metadata": {
    "id": "OW-HRwfU2sml"
   },
   "outputs": [
    {
     "data": {
      "image/png": "[encoded data removed]",
      "text/plain": [
       "<Figure size 600x600 with 1 Axes>"
      ]
     },
     "metadata": {},
     "output_type": "display_data"
    }
   ],
   "source": [
    "ax = sns.countplot(data = df , x=df.time_spend_company, hue= 'left', palette=\"viridis\")\n",
    "for bars in ax.containers:\n",
    "        ax.bar_label(bars);"
   ]
  },
  {
   "cell_type": "code",
   "execution_count": null,
   "metadata": {},
   "outputs": [],
   "source": []
  },
  {
   "cell_type": "markdown",
   "metadata": {
    "id": "VEbtBv3q2smq"
   },
   "source": [
    "### Subplots of Features\n",
    "\n",
    "You can use the methods of the matplotlib."
   ]
  },
  {
   "cell_type": "code",
   "execution_count": 25,
   "metadata": {},
   "outputs": [
    {
     "data": {
      "text/plain": [
       "Index(['satisfaction_level', 'last_evaluation', 'number_project',\n",
       "       'average_montly_hours', 'time_spend_company', 'Work_accident', 'left',\n",
       "       'promotion_last_5years', 'Departments ', 'salary'],\n",
       "      dtype='object')"
      ]
     },
     "execution_count": 25,
     "metadata": {},
     "output_type": "execute_result"
    }
   ],
   "source": [
    "df.columns"
   ]
  },
  {
   "cell_type": "code",
   "execution_count": 26,
   "metadata": {
    "id": "Gt8FWYQu2smu"
   },
   "outputs": [
    {
     "data": {
      "image/png": "[encoded data removed]",
      "text/plain": [
       "<Figure size 1600x2000 with 5 Axes>"
      ]
     },
     "metadata": {},
     "output_type": "display_data"
    }
   ],
   "source": [
    "features=['Work_accident','left', 'promotion_last_5years','Departments ','salary']\n",
    "fig=plt.subplots(figsize=(16,20))\n",
    "for i, j in enumerate(features):\n",
    "    plt.subplot(4, 2, i+1)\n",
    "    plt.subplots_adjust(hspace = 1.0)\n",
    "    sns.countplot(x=j,data = df,hue='left')\n",
    "    plt.xticks(rotation=45)\n",
    "    plt.title(\"No. of employee\");"
   ]
  },
  {
   "cell_type": "markdown",
   "metadata": {
    "id": "36OyDJyx2sm2"
   },
   "source": [
    "## 3. Data Pre-Processing"
   ]
  },
  {
   "cell_type": "markdown",
   "metadata": {
    "id": "pYsKmaZd2snO"
   },
   "source": [
    "### Split Data as Train and Test Set"
   ]
  },
  {
   "cell_type": "markdown",
   "metadata": {
    "id": "I6b_dTvA2snQ"
   },
   "source": [
    "- In supervised models, Dataset is broken into two parts, for example, in ratio of 70:30. It means 70% data will used for model training and 30% for model testing.\n",
    "- For unsupervised learning we use all data for model keep in mind."
   ]
  },
  {
   "cell_type": "markdown",
   "metadata": {
    "id": "L8-SVBoq2snA"
   },
   "source": [
    "#### Ordinal Encoding\n",
    "\n",
    "Lots of machine learning algorithms require numerical input data, so you need to represent categorical columns in a numerical column. In order to encode this data, you could map each value to a number. e.g. Salary column's value can be represented as low:0, medium:1, and high:2. This process is known as ordinal encoding, and sklearn conveniently will do this for you using [OrdinalEncoder](https://datascience.stackexchange.com/questions/39317/difference-between-ordinalencoder-and-labelencoder).\n",
    "\n"
   ]
  },
  {
   "cell_type": "code",
   "execution_count": 27,
   "metadata": {
    "id": "-pVP9UBQ2snC"
   },
   "outputs": [],
   "source": [
    "df_not_dummy = df.copy()  # for deployment"
   ]
  },
  {
   "cell_type": "code",
   "execution_count": 28,
   "metadata": {},
   "outputs": [],
   "source": [
    "df = pd.get_dummies(df,drop_first=True) #bizim butun degerlerimizin sayisal olmasi gerek. o yuzden get dummies yapildi"
   ]
  },
  {
   "cell_type": "markdown",
   "metadata": {},
   "source": [
    " onehot encoding  nominal datalar icin\n",
    " ordinal encoding ordinal datalr icin.\n",
    " ama sklearn library olduktan sonra bu ikisine de ihtiyac yok."
   ]
  },
  {
   "cell_type": "code",
   "execution_count": 29,
   "metadata": {},
   "outputs": [
    {
     "data": {
      "text/html": [
       "<div>\n",
       "<style scoped>\n",
       "    .dataframe tbody tr th:only-of-type {\n",
       "        vertical-align: middle;\n",
       "    }\n",
       "\n",
       "    .dataframe tbody tr th {\n",
       "        vertical-align: top;\n",
       "    }\n",
       "\n",
       "    .dataframe thead th {\n",
       "        text-align: right;\n",
       "    }\n",
       "</style>\n",
       "<table border=\"1\" class=\"dataframe\">\n",
       "  <thead>\n",
       "    <tr style=\"text-align: right;\">\n",
       "      <th></th>\n",
       "      <th>satisfaction_level</th>\n",
       "      <th>last_evaluation</th>\n",
       "      <th>number_project</th>\n",
       "      <th>average_montly_hours</th>\n",
       "      <th>time_spend_company</th>\n",
       "      <th>Work_accident</th>\n",
       "      <th>left</th>\n",
       "      <th>promotion_last_5years</th>\n",
       "      <th>Departments _RandD</th>\n",
       "      <th>Departments _accounting</th>\n",
       "      <th>Departments _hr</th>\n",
       "      <th>Departments _management</th>\n",
       "      <th>Departments _marketing</th>\n",
       "      <th>Departments _product_mng</th>\n",
       "      <th>Departments _sales</th>\n",
       "      <th>Departments _support</th>\n",
       "      <th>Departments _technical</th>\n",
       "      <th>salary_low</th>\n",
       "      <th>salary_medium</th>\n",
       "    </tr>\n",
       "  </thead>\n",
       "  <tbody>\n",
       "    <tr>\n",
       "      <th>0</th>\n",
       "      <td>0.38</td>\n",
       "      <td>0.53</td>\n",
       "      <td>2</td>\n",
       "      <td>157</td>\n",
       "      <td>3</td>\n",
       "      <td>0</td>\n",
       "      <td>1</td>\n",
       "      <td>0</td>\n",
       "      <td>0</td>\n",
       "      <td>0</td>\n",
       "      <td>0</td>\n",
       "      <td>0</td>\n",
       "      <td>0</td>\n",
       "      <td>0</td>\n",
       "      <td>1</td>\n",
       "      <td>0</td>\n",
       "      <td>0</td>\n",
       "      <td>1</td>\n",
       "      <td>0</td>\n",
       "    </tr>\n",
       "    <tr>\n",
       "      <th>1</th>\n",
       "      <td>0.80</td>\n",
       "      <td>0.86</td>\n",
       "      <td>5</td>\n",
       "      <td>262</td>\n",
       "      <td>6</td>\n",
       "      <td>0</td>\n",
       "      <td>1</td>\n",
       "      <td>0</td>\n",
       "      <td>0</td>\n",
       "      <td>0</td>\n",
       "      <td>0</td>\n",
       "      <td>0</td>\n",
       "      <td>0</td>\n",
       "      <td>0</td>\n",
       "      <td>1</td>\n",
       "      <td>0</td>\n",
       "      <td>0</td>\n",
       "      <td>0</td>\n",
       "      <td>1</td>\n",
       "    </tr>\n",
       "    <tr>\n",
       "      <th>2</th>\n",
       "      <td>0.11</td>\n",
       "      <td>0.88</td>\n",
       "      <td>7</td>\n",
       "      <td>272</td>\n",
       "      <td>4</td>\n",
       "      <td>0</td>\n",
       "      <td>1</td>\n",
       "      <td>0</td>\n",
       "      <td>0</td>\n",
       "      <td>0</td>\n",
       "      <td>0</td>\n",
       "      <td>0</td>\n",
       "      <td>0</td>\n",
       "      <td>0</td>\n",
       "      <td>1</td>\n",
       "      <td>0</td>\n",
       "      <td>0</td>\n",
       "      <td>0</td>\n",
       "      <td>1</td>\n",
       "    </tr>\n",
       "    <tr>\n",
       "      <th>3</th>\n",
       "      <td>0.72</td>\n",
       "      <td>0.87</td>\n",
       "      <td>5</td>\n",
       "      <td>223</td>\n",
       "      <td>5</td>\n",
       "      <td>0</td>\n",
       "      <td>1</td>\n",
       "      <td>0</td>\n",
       "      <td>0</td>\n",
       "      <td>0</td>\n",
       "      <td>0</td>\n",
       "      <td>0</td>\n",
       "      <td>0</td>\n",
       "      <td>0</td>\n",
       "      <td>1</td>\n",
       "      <td>0</td>\n",
       "      <td>0</td>\n",
       "      <td>1</td>\n",
       "      <td>0</td>\n",
       "    </tr>\n",
       "    <tr>\n",
       "      <th>4</th>\n",
       "      <td>0.37</td>\n",
       "      <td>0.52</td>\n",
       "      <td>2</td>\n",
       "      <td>159</td>\n",
       "      <td>3</td>\n",
       "      <td>0</td>\n",
       "      <td>1</td>\n",
       "      <td>0</td>\n",
       "      <td>0</td>\n",
       "      <td>0</td>\n",
       "      <td>0</td>\n",
       "      <td>0</td>\n",
       "      <td>0</td>\n",
       "      <td>0</td>\n",
       "      <td>1</td>\n",
       "      <td>0</td>\n",
       "      <td>0</td>\n",
       "      <td>1</td>\n",
       "      <td>0</td>\n",
       "    </tr>\n",
       "  </tbody>\n",
       "</table>\n",
       "</div>"
      ],
      "text/plain": [
       "   satisfaction_level  last_evaluation  number_project  average_montly_hours  \\\n",
       "0                0.38             0.53               2                   157   \n",
       "1                0.80             0.86               5                   262   \n",
       "2                0.11             0.88               7                   272   \n",
       "3                0.72             0.87               5                   223   \n",
       "4                0.37             0.52               2                   159   \n",
       "\n",
       "   time_spend_company  Work_accident  left  promotion_last_5years  \\\n",
       "0                   3              0     1                      0   \n",
       "1                   6              0     1                      0   \n",
       "2                   4              0     1                      0   \n",
       "3                   5              0     1                      0   \n",
       "4                   3              0     1                      0   \n",
       "\n",
       "   Departments _RandD  Departments _accounting  Departments _hr  \\\n",
       "0                   0                        0                0   \n",
       "1                   0                        0                0   \n",
       "2                   0                        0                0   \n",
       "3                   0                        0                0   \n",
       "4                   0                        0                0   \n",
       "\n",
       "   Departments _management  Departments _marketing  Departments _product_mng  \\\n",
       "0                        0                       0                         0   \n",
       "1                        0                       0                         0   \n",
       "2                        0                       0                         0   \n",
       "3                        0                       0                         0   \n",
       "4                        0                       0                         0   \n",
       "\n",
       "   Departments _sales  Departments _support  Departments _technical  \\\n",
       "0                   1                     0                       0   \n",
       "1                   1                     0                       0   \n",
       "2                   1                     0                       0   \n",
       "3                   1                     0                       0   \n",
       "4                   1                     0                       0   \n",
       "\n",
       "   salary_low  salary_medium  \n",
       "0           1              0  \n",
       "1           0              1  \n",
       "2           0              1  \n",
       "3           1              0  \n",
       "4           1              0  "
      ]
     },
     "execution_count": 29,
     "metadata": {},
     "output_type": "execute_result"
    }
   ],
   "source": [
    "df.head() #butun degerler sayisala dondu"
   ]
  },
  {
   "cell_type": "markdown",
   "metadata": {
    "id": "iN94C5P42sm4"
   },
   "source": [
    "#### Scaling\n",
    "\n",
    "Some machine learning algorithms are sensitive to feature scaling while others are virtually invariant to it. Machine learning algorithms like linear regression, logistic regression, neural network, etc. that use gradient descent as an optimization technique require data to be scaled. Also distance algorithms like KNN, K-means, and SVM are most affected by the range of features. This is because behind the scenes they are using distances between data points to determine their similarity.\n",
    "\n",
    "Scaling Types:\n",
    "- Normalization: Normalization is a scaling technique in which values are shifted and rescaled so that they end up ranging between 0 and 1. It is also known as Min-Max scaling.\n",
    "\n",
    "- Standardization: Standardization is another scaling technique where the values are centered around the mean with a unit standard deviation. This means that the mean of the attribute becomes zero and the resultant distribution has a unit standard deviation.\n",
    "\n",
    "    "
   ]
  },
  {
   "cell_type": "markdown",
   "metadata": {
    "id": "c1Gp2f7q2snF"
   },
   "source": [
    "## 4. Cluster Analysis (Unsupervised)\n",
    "\n",
    "- Cluster analysis or clustering is the task of grouping a set of objects in such a way that objects in the same group (called a cluster) are more similar (in some sense) to each other than to those in other groups (clusters). It is a main task of exploratory data mining, and a common technique for statistical data analysis, used in many fields, including pattern recognition, image analysis, information retrieval, bioinformatics, data compression, computer graphics and machine learning.\n",
    "\n",
    "    [Cluster Analysis](https://en.wikipedia.org/wiki/Cluster_analysis)\n",
    "\n",
    "    [Cluster Analysis2](https://realpython.com/k-means-clustering-python/)"
   ]
  },
  {
   "cell_type": "code",
   "execution_count": 30,
   "metadata": {},
   "outputs": [],
   "source": [
    "X = df.drop(\"left\", axis =1) ## Unsupervised datamizda label olmamasi gerektigi \n",
    "                              #icin label i drop ettik."
   ]
  },
  {
   "cell_type": "code",
   "execution_count": null,
   "metadata": {},
   "outputs": [],
   "source": []
  },
  {
   "cell_type": "code",
   "execution_count": 31,
   "metadata": {},
   "outputs": [
    {
     "data": {
      "text/html": [
       "<div>\n",
       "<style scoped>\n",
       "    .dataframe tbody tr th:only-of-type {\n",
       "        vertical-align: middle;\n",
       "    }\n",
       "\n",
       "    .dataframe tbody tr th {\n",
       "        vertical-align: top;\n",
       "    }\n",
       "\n",
       "    .dataframe thead th {\n",
       "        text-align: right;\n",
       "    }\n",
       "</style>\n",
       "<table border=\"1\" class=\"dataframe\">\n",
       "  <thead>\n",
       "    <tr style=\"text-align: right;\">\n",
       "      <th></th>\n",
       "      <th>satisfaction_level</th>\n",
       "      <th>last_evaluation</th>\n",
       "      <th>number_project</th>\n",
       "      <th>average_montly_hours</th>\n",
       "      <th>time_spend_company</th>\n",
       "      <th>Work_accident</th>\n",
       "      <th>promotion_last_5years</th>\n",
       "      <th>Departments _RandD</th>\n",
       "      <th>Departments _accounting</th>\n",
       "      <th>Departments _hr</th>\n",
       "      <th>Departments _management</th>\n",
       "      <th>Departments _marketing</th>\n",
       "      <th>Departments _product_mng</th>\n",
       "      <th>Departments _sales</th>\n",
       "      <th>Departments _support</th>\n",
       "      <th>Departments _technical</th>\n",
       "      <th>salary_low</th>\n",
       "      <th>salary_medium</th>\n",
       "    </tr>\n",
       "  </thead>\n",
       "  <tbody>\n",
       "    <tr>\n",
       "      <th>0</th>\n",
       "      <td>0.38</td>\n",
       "      <td>0.53</td>\n",
       "      <td>2</td>\n",
       "      <td>157</td>\n",
       "      <td>3</td>\n",
       "      <td>0</td>\n",
       "      <td>0</td>\n",
       "      <td>0</td>\n",
       "      <td>0</td>\n",
       "      <td>0</td>\n",
       "      <td>0</td>\n",
       "      <td>0</td>\n",
       "      <td>0</td>\n",
       "      <td>1</td>\n",
       "      <td>0</td>\n",
       "      <td>0</td>\n",
       "      <td>1</td>\n",
       "      <td>0</td>\n",
       "    </tr>\n",
       "    <tr>\n",
       "      <th>1</th>\n",
       "      <td>0.80</td>\n",
       "      <td>0.86</td>\n",
       "      <td>5</td>\n",
       "      <td>262</td>\n",
       "      <td>6</td>\n",
       "      <td>0</td>\n",
       "      <td>0</td>\n",
       "      <td>0</td>\n",
       "      <td>0</td>\n",
       "      <td>0</td>\n",
       "      <td>0</td>\n",
       "      <td>0</td>\n",
       "      <td>0</td>\n",
       "      <td>1</td>\n",
       "      <td>0</td>\n",
       "      <td>0</td>\n",
       "      <td>0</td>\n",
       "      <td>1</td>\n",
       "    </tr>\n",
       "    <tr>\n",
       "      <th>2</th>\n",
       "      <td>0.11</td>\n",
       "      <td>0.88</td>\n",
       "      <td>7</td>\n",
       "      <td>272</td>\n",
       "      <td>4</td>\n",
       "      <td>0</td>\n",
       "      <td>0</td>\n",
       "      <td>0</td>\n",
       "      <td>0</td>\n",
       "      <td>0</td>\n",
       "      <td>0</td>\n",
       "      <td>0</td>\n",
       "      <td>0</td>\n",
       "      <td>1</td>\n",
       "      <td>0</td>\n",
       "      <td>0</td>\n",
       "      <td>0</td>\n",
       "      <td>1</td>\n",
       "    </tr>\n",
       "    <tr>\n",
       "      <th>3</th>\n",
       "      <td>0.72</td>\n",
       "      <td>0.87</td>\n",
       "      <td>5</td>\n",
       "      <td>223</td>\n",
       "      <td>5</td>\n",
       "      <td>0</td>\n",
       "      <td>0</td>\n",
       "      <td>0</td>\n",
       "      <td>0</td>\n",
       "      <td>0</td>\n",
       "      <td>0</td>\n",
       "      <td>0</td>\n",
       "      <td>0</td>\n",
       "      <td>1</td>\n",
       "      <td>0</td>\n",
       "      <td>0</td>\n",
       "      <td>1</td>\n",
       "      <td>0</td>\n",
       "    </tr>\n",
       "    <tr>\n",
       "      <th>4</th>\n",
       "      <td>0.37</td>\n",
       "      <td>0.52</td>\n",
       "      <td>2</td>\n",
       "      <td>159</td>\n",
       "      <td>3</td>\n",
       "      <td>0</td>\n",
       "      <td>0</td>\n",
       "      <td>0</td>\n",
       "      <td>0</td>\n",
       "      <td>0</td>\n",
       "      <td>0</td>\n",
       "      <td>0</td>\n",
       "      <td>0</td>\n",
       "      <td>1</td>\n",
       "      <td>0</td>\n",
       "      <td>0</td>\n",
       "      <td>1</td>\n",
       "      <td>0</td>\n",
       "    </tr>\n",
       "  </tbody>\n",
       "</table>\n",
       "</div>"
      ],
      "text/plain": [
       "   satisfaction_level  last_evaluation  number_project  average_montly_hours  \\\n",
       "0                0.38             0.53               2                   157   \n",
       "1                0.80             0.86               5                   262   \n",
       "2                0.11             0.88               7                   272   \n",
       "3                0.72             0.87               5                   223   \n",
       "4                0.37             0.52               2                   159   \n",
       "\n",
       "   time_spend_company  Work_accident  promotion_last_5years  \\\n",
       "0                   3              0                      0   \n",
       "1                   6              0                      0   \n",
       "2                   4              0                      0   \n",
       "3                   5              0                      0   \n",
       "4                   3              0                      0   \n",
       "\n",
       "   Departments _RandD  Departments _accounting  Departments _hr  \\\n",
       "0                   0                        0                0   \n",
       "1                   0                        0                0   \n",
       "2                   0                        0                0   \n",
       "3                   0                        0                0   \n",
       "4                   0                        0                0   \n",
       "\n",
       "   Departments _management  Departments _marketing  Departments _product_mng  \\\n",
       "0                        0                       0                         0   \n",
       "1                        0                       0                         0   \n",
       "2                        0                       0                         0   \n",
       "3                        0                       0                         0   \n",
       "4                        0                       0                         0   \n",
       "\n",
       "   Departments _sales  Departments _support  Departments _technical  \\\n",
       "0                   1                     0                       0   \n",
       "1                   1                     0                       0   \n",
       "2                   1                     0                       0   \n",
       "3                   1                     0                       0   \n",
       "4                   1                     0                       0   \n",
       "\n",
       "   salary_low  salary_medium  \n",
       "0           1              0  \n",
       "1           0              1  \n",
       "2           0              1  \n",
       "3           1              0  \n",
       "4           1              0  "
      ]
     },
     "execution_count": 31,
     "metadata": {},
     "output_type": "execute_result"
    }
   ],
   "source": [
    "X.head()"
   ]
  },
  {
   "cell_type": "code",
   "execution_count": 32,
   "metadata": {},
   "outputs": [],
   "source": [
    "from sklearn.cluster import KMeans\n",
    "K_means_model = KMeans(n_clusters=5, random_state=42)     # n_clusters=8 --> Default\n",
    "##biz burda n_clusters a kafamiza gore sayi atadik.gercek degeri shiluette bulacagiz\n",
    "# random_state=42 yapmazsam her seferinde küme sayıları farklı farklı çıkacak. \n",
    "# çünkü ilk centroid noktası random olduğu için random state belirlemez iseniz her seferinde yer değiştirebilir\n",
    "# bu durumda her çalıştırdığında aşağıdaki rakamlar değişebilir. 3ler 0 olabilir, 1 ler 2 olabilir. \n",
    "# burada kümelerdeki gözlemler değişmiyor, sadece kümelerin isimleri değişiyor.\n"
   ]
  },
  {
   "cell_type": "code",
   "execution_count": 33,
   "metadata": {},
   "outputs": [
    {
     "data": {
      "text/plain": [
       "array([0, 4, 4, ..., 2, 0, 0], dtype=int32)"
      ]
     },
     "execution_count": 33,
     "metadata": {},
     "output_type": "execute_result"
    }
   ],
   "source": [
    "K_means_model.fit_predict(X) \n",
    "# fit, arkadaki benzer paternleri belirliyor. predict deyince de aynı paternleri kümeliyor. \n"
   ]
  },
  {
   "cell_type": "code",
   "execution_count": 34,
   "metadata": {},
   "outputs": [
    {
     "data": {
      "text/plain": [
       "KMeans(n_clusters=5, random_state=42)"
      ]
     },
     "execution_count": 34,
     "metadata": {},
     "output_type": "execute_result"
    }
   ],
   "source": [
    "#yukardaki  code hem fit hem predict yapti.  ## K_means_model.labels_ alternatif yontem\n",
    "K_means_model.fit(X)                           ##K_means_model.fit_predict(X)\n"
   ]
  },
  {
   "cell_type": "code",
   "execution_count": 35,
   "metadata": {},
   "outputs": [],
   "source": [
    "df[\"Classes\"] = K_means_model.labels_\n",
    "#5 tane class olusturduk."
   ]
  },
  {
   "cell_type": "code",
   "execution_count": 36,
   "metadata": {},
   "outputs": [
    {
     "data": {
      "text/plain": [
       "0    2715\n",
       "1    2495\n",
       "2    2389\n",
       "4    2263\n",
       "3    2129\n",
       "Name: Classes, dtype: int64"
      ]
     },
     "execution_count": 36,
     "metadata": {},
     "output_type": "execute_result"
    }
   ],
   "source": [
    "df.Classes.value_counts() # burada bize oluşan clusterları getirdi.herbir cluster daki \n",
    "                            ##data degeri"
   ]
  },
  {
   "cell_type": "code",
   "execution_count": 37,
   "metadata": {},
   "outputs": [
    {
     "data": {
      "text/html": [
       "<div>\n",
       "<style scoped>\n",
       "    .dataframe tbody tr th:only-of-type {\n",
       "        vertical-align: middle;\n",
       "    }\n",
       "\n",
       "    .dataframe tbody tr th {\n",
       "        vertical-align: top;\n",
       "    }\n",
       "\n",
       "    .dataframe thead th {\n",
       "        text-align: right;\n",
       "    }\n",
       "</style>\n",
       "<table border=\"1\" class=\"dataframe\">\n",
       "  <thead>\n",
       "    <tr style=\"text-align: right;\">\n",
       "      <th></th>\n",
       "      <th>satisfaction_level</th>\n",
       "      <th>last_evaluation</th>\n",
       "      <th>number_project</th>\n",
       "      <th>average_montly_hours</th>\n",
       "      <th>time_spend_company</th>\n",
       "      <th>Work_accident</th>\n",
       "      <th>left</th>\n",
       "      <th>promotion_last_5years</th>\n",
       "      <th>Departments _RandD</th>\n",
       "      <th>Departments _accounting</th>\n",
       "      <th>Departments _hr</th>\n",
       "      <th>Departments _management</th>\n",
       "      <th>Departments _marketing</th>\n",
       "      <th>Departments _product_mng</th>\n",
       "      <th>Departments _sales</th>\n",
       "      <th>Departments _support</th>\n",
       "      <th>Departments _technical</th>\n",
       "      <th>salary_low</th>\n",
       "      <th>salary_medium</th>\n",
       "      <th>Classes</th>\n",
       "    </tr>\n",
       "  </thead>\n",
       "  <tbody>\n",
       "    <tr>\n",
       "      <th>0</th>\n",
       "      <td>0.38</td>\n",
       "      <td>0.53</td>\n",
       "      <td>2</td>\n",
       "      <td>157</td>\n",
       "      <td>3</td>\n",
       "      <td>0</td>\n",
       "      <td>1</td>\n",
       "      <td>0</td>\n",
       "      <td>0</td>\n",
       "      <td>0</td>\n",
       "      <td>0</td>\n",
       "      <td>0</td>\n",
       "      <td>0</td>\n",
       "      <td>0</td>\n",
       "      <td>1</td>\n",
       "      <td>0</td>\n",
       "      <td>0</td>\n",
       "      <td>1</td>\n",
       "      <td>0</td>\n",
       "      <td>0</td>\n",
       "    </tr>\n",
       "    <tr>\n",
       "      <th>1</th>\n",
       "      <td>0.80</td>\n",
       "      <td>0.86</td>\n",
       "      <td>5</td>\n",
       "      <td>262</td>\n",
       "      <td>6</td>\n",
       "      <td>0</td>\n",
       "      <td>1</td>\n",
       "      <td>0</td>\n",
       "      <td>0</td>\n",
       "      <td>0</td>\n",
       "      <td>0</td>\n",
       "      <td>0</td>\n",
       "      <td>0</td>\n",
       "      <td>0</td>\n",
       "      <td>1</td>\n",
       "      <td>0</td>\n",
       "      <td>0</td>\n",
       "      <td>0</td>\n",
       "      <td>1</td>\n",
       "      <td>4</td>\n",
       "    </tr>\n",
       "    <tr>\n",
       "      <th>2</th>\n",
       "      <td>0.11</td>\n",
       "      <td>0.88</td>\n",
       "      <td>7</td>\n",
       "      <td>272</td>\n",
       "      <td>4</td>\n",
       "      <td>0</td>\n",
       "      <td>1</td>\n",
       "      <td>0</td>\n",
       "      <td>0</td>\n",
       "      <td>0</td>\n",
       "      <td>0</td>\n",
       "      <td>0</td>\n",
       "      <td>0</td>\n",
       "      <td>0</td>\n",
       "      <td>1</td>\n",
       "      <td>0</td>\n",
       "      <td>0</td>\n",
       "      <td>0</td>\n",
       "      <td>1</td>\n",
       "      <td>4</td>\n",
       "    </tr>\n",
       "    <tr>\n",
       "      <th>3</th>\n",
       "      <td>0.72</td>\n",
       "      <td>0.87</td>\n",
       "      <td>5</td>\n",
       "      <td>223</td>\n",
       "      <td>5</td>\n",
       "      <td>0</td>\n",
       "      <td>1</td>\n",
       "      <td>0</td>\n",
       "      <td>0</td>\n",
       "      <td>0</td>\n",
       "      <td>0</td>\n",
       "      <td>0</td>\n",
       "      <td>0</td>\n",
       "      <td>0</td>\n",
       "      <td>1</td>\n",
       "      <td>0</td>\n",
       "      <td>0</td>\n",
       "      <td>1</td>\n",
       "      <td>0</td>\n",
       "      <td>1</td>\n",
       "    </tr>\n",
       "    <tr>\n",
       "      <th>4</th>\n",
       "      <td>0.37</td>\n",
       "      <td>0.52</td>\n",
       "      <td>2</td>\n",
       "      <td>159</td>\n",
       "      <td>3</td>\n",
       "      <td>0</td>\n",
       "      <td>1</td>\n",
       "      <td>0</td>\n",
       "      <td>0</td>\n",
       "      <td>0</td>\n",
       "      <td>0</td>\n",
       "      <td>0</td>\n",
       "      <td>0</td>\n",
       "      <td>0</td>\n",
       "      <td>1</td>\n",
       "      <td>0</td>\n",
       "      <td>0</td>\n",
       "      <td>1</td>\n",
       "      <td>0</td>\n",
       "      <td>0</td>\n",
       "    </tr>\n",
       "  </tbody>\n",
       "</table>\n",
       "</div>"
      ],
      "text/plain": [
       "   satisfaction_level  last_evaluation  number_project  average_montly_hours  \\\n",
       "0                0.38             0.53               2                   157   \n",
       "1                0.80             0.86               5                   262   \n",
       "2                0.11             0.88               7                   272   \n",
       "3                0.72             0.87               5                   223   \n",
       "4                0.37             0.52               2                   159   \n",
       "\n",
       "   time_spend_company  Work_accident  left  promotion_last_5years  \\\n",
       "0                   3              0     1                      0   \n",
       "1                   6              0     1                      0   \n",
       "2                   4              0     1                      0   \n",
       "3                   5              0     1                      0   \n",
       "4                   3              0     1                      0   \n",
       "\n",
       "   Departments _RandD  Departments _accounting  Departments _hr  \\\n",
       "0                   0                        0                0   \n",
       "1                   0                        0                0   \n",
       "2                   0                        0                0   \n",
       "3                   0                        0                0   \n",
       "4                   0                        0                0   \n",
       "\n",
       "   Departments _management  Departments _marketing  Departments _product_mng  \\\n",
       "0                        0                       0                         0   \n",
       "1                        0                       0                         0   \n",
       "2                        0                       0                         0   \n",
       "3                        0                       0                         0   \n",
       "4                        0                       0                         0   \n",
       "\n",
       "   Departments _sales  Departments _support  Departments _technical  \\\n",
       "0                   1                     0                       0   \n",
       "1                   1                     0                       0   \n",
       "2                   1                     0                       0   \n",
       "3                   1                     0                       0   \n",
       "4                   1                     0                       0   \n",
       "\n",
       "   salary_low  salary_medium  Classes  \n",
       "0           1              0        0  \n",
       "1           0              1        4  \n",
       "2           0              1        4  \n",
       "3           1              0        1  \n",
       "4           1              0        0  "
      ]
     },
     "execution_count": 37,
     "metadata": {},
     "output_type": "execute_result"
    }
   ],
   "source": [
    "df.head(5)"
   ]
  },
  {
   "cell_type": "code",
   "execution_count": null,
   "metadata": {},
   "outputs": [],
   "source": []
  },
  {
   "cell_type": "markdown",
   "metadata": {
    "id": "TWQx_bhw2snG"
   },
   "source": [
    "#### The Elbow Method\n",
    "\n",
    "- \"Elbow Method\" can be used to find the optimum number of clusters in cluster analysis. The elbow method is used to determine the optimal number of clusters in k-means clustering. The elbow method plots the value of the cost function produced by different values of k. If k increases, average distortion will decrease, each cluster will have fewer constituent instances, and the instances will be closer to their respective centroids. However, the improvements in average distortion will decline as k increases. The value of k at which improvement in distortion declines the most is called the elbow, at which we should stop dividing the data into further clusters.\n",
    "\n",
    "    [The Elbow Method](https://en.wikipedia.org/wiki/Elbow_method_(clustering)\n",
    "\n",
    "    [The Elbow Method2](https://medium.com/@mudgalvivek2911/machine-learning-clustering-elbow-method-4e8c2b404a5d)\n",
    "\n",
    "    [KMeans](https://towardsdatascience.com/understanding-k-means-clustering-in-machine-learning-6a6e67336aa1)\n",
    "\n",
    "Let's find out the groups of employees who left. You can observe that the most important factor for any employee to stay or leave is satisfaction and performance in the company. So let's bunch them in the group of people using cluster analysis."
   ]
  },
  {
   "cell_type": "markdown",
   "metadata": {
    "id": "jMLD4mr32snH"
   },
   "source": [
    "Datamizin kumelemeye uygun olup olmadigini anlamak icin hopkins test uygulayacagiz. eger sonucumuz 0.5 in altinda olursa clustering yapilabilir oldugunu anlayabiliriz.Data random dagilir diyebilirz.Datayi uzaydaymis gibi gosterip bolunup bolunemeyecegini tespit etmemiz lazim.(ML-17. ders) "
   ]
  },
  {
   "cell_type": "markdown",
   "metadata": {},
   "source": [
    "Hopkins test"
   ]
  },
  {
   "cell_type": "code",
   "execution_count": 88,
   "metadata": {},
   "outputs": [
    {
     "name": "stdout",
     "output_type": "stream",
     "text": [
      "Requirement already satisfied: pyclustertend in /Users/gulaykayapinar/opt/anaconda3/lib/python3.9/site-packages (1.7.0)\n",
      "Requirement already satisfied: numba<0.55.0,>=0.54.1 in /Users/gulaykayapinar/opt/anaconda3/lib/python3.9/site-packages (from pyclustertend) (0.54.1)\n",
      "Requirement already satisfied: matplotlib<4.0.0,>=3.3.3 in /Users/gulaykayapinar/opt/anaconda3/lib/python3.9/site-packages (from pyclustertend) (3.5.1)\n",
      "Requirement already satisfied: numpy==1.20.3 in /Users/gulaykayapinar/opt/anaconda3/lib/python3.9/site-packages (from pyclustertend) (1.20.3)\n",
      "Requirement already satisfied: pandas<2.0.0,>=1.2.0 in /Users/gulaykayapinar/opt/anaconda3/lib/python3.9/site-packages (from pyclustertend) (1.4.2)\n",
      "Collecting scikit-learn<0.25.0,>=0.24.0\n",
      "  Using cached scikit_learn-0.24.2-cp39-cp39-macosx_10_13_x86_64.whl (7.3 MB)\n",
      "Requirement already satisfied: kiwisolver>=1.0.1 in /Users/gulaykayapinar/opt/anaconda3/lib/python3.9/site-packages (from matplotlib<4.0.0,>=3.3.3->pyclustertend) (1.3.1)\n",
      "Requirement already satisfied: pillow>=6.2.0 in /Users/gulaykayapinar/opt/anaconda3/lib/python3.9/site-packages (from matplotlib<4.0.0,>=3.3.3->pyclustertend) (8.4.0)\n",
      "Requirement already satisfied: python-dateutil>=2.7 in /Users/gulaykayapinar/opt/anaconda3/lib/python3.9/site-packages (from matplotlib<4.0.0,>=3.3.3->pyclustertend) (2.8.2)\n",
      "Requirement already satisfied: cycler>=0.10 in /Users/gulaykayapinar/opt/anaconda3/lib/python3.9/site-packages (from matplotlib<4.0.0,>=3.3.3->pyclustertend) (0.10.0)\n",
      "Requirement already satisfied: fonttools>=4.22.0 in /Users/gulaykayapinar/opt/anaconda3/lib/python3.9/site-packages (from matplotlib<4.0.0,>=3.3.3->pyclustertend) (4.25.0)\n",
      "Requirement already satisfied: packaging>=20.0 in /Users/gulaykayapinar/opt/anaconda3/lib/python3.9/site-packages (from matplotlib<4.0.0,>=3.3.3->pyclustertend) (21.3)\n",
      "Requirement already satisfied: pyparsing>=2.2.1 in /Users/gulaykayapinar/opt/anaconda3/lib/python3.9/site-packages (from matplotlib<4.0.0,>=3.3.3->pyclustertend) (3.0.4)\n",
      "Requirement already satisfied: six in /Users/gulaykayapinar/opt/anaconda3/lib/python3.9/site-packages (from cycler>=0.10->matplotlib<4.0.0,>=3.3.3->pyclustertend) (1.16.0)\n",
      "Requirement already satisfied: setuptools in /Users/gulaykayapinar/opt/anaconda3/lib/python3.9/site-packages (from numba<0.55.0,>=0.54.1->pyclustertend) (58.0.4)\n",
      "Requirement already satisfied: llvmlite<0.38,>=0.37.0rc1 in /Users/gulaykayapinar/opt/anaconda3/lib/python3.9/site-packages (from numba<0.55.0,>=0.54.1->pyclustertend) (0.37.0)\n",
      "Requirement already satisfied: pytz>=2020.1 in /Users/gulaykayapinar/opt/anaconda3/lib/python3.9/site-packages (from pandas<2.0.0,>=1.2.0->pyclustertend) (2021.3)\n",
      "Requirement already satisfied: joblib>=0.11 in /Users/gulaykayapinar/opt/anaconda3/lib/python3.9/site-packages (from scikit-learn<0.25.0,>=0.24.0->pyclustertend) (1.1.0)\n",
      "Requirement already satisfied: scipy>=0.19.1 in /Users/gulaykayapinar/opt/anaconda3/lib/python3.9/site-packages (from scikit-learn<0.25.0,>=0.24.0->pyclustertend) (1.7.1)\n",
      "Requirement already satisfied: threadpoolctl>=2.0.0 in /Users/gulaykayapinar/opt/anaconda3/lib/python3.9/site-packages (from scikit-learn<0.25.0,>=0.24.0->pyclustertend) (2.2.0)\n",
      "Installing collected packages: scikit-learn\n",
      "  Attempting uninstall: scikit-learn\n",
      "    Found existing installation: scikit-learn 1.1.1\n",
      "    Uninstalling scikit-learn-1.1.1:\n",
      "      Successfully uninstalled scikit-learn-1.1.1\n",
      "\u001b[31mERROR: pip's dependency resolver does not currently take into account all the packages that are installed. This behaviour is the source of the following dependency conflicts.\n",
      "yellowbrick 1.4 requires scikit-learn>=1.0.0, but you have scikit-learn 0.24.2 which is incompatible.\u001b[0m\n",
      "Successfully installed scikit-learn-0.24.2\n",
      "Note: you may need to restart the kernel to use updated packages.\n"
     ]
    }
   ],
   "source": [
    "pip install pyclustertend"
   ]
  },
  {
   "cell_type": "code",
   "execution_count": 38,
   "metadata": {},
   "outputs": [],
   "source": [
    "from pyclustertend import hopkins"
   ]
  },
  {
   "cell_type": "code",
   "execution_count": 39,
   "metadata": {},
   "outputs": [
    {
     "data": {
      "text/plain": [
       "0.2957024143134556"
      ]
     },
     "execution_count": 39,
     "metadata": {},
     "output_type": "execute_result"
    }
   ],
   "source": [
    "hopkins(X, X.shape[0]) #hopkins test datamizin hepsini al ve herhangi bir row ile calistir.\n",
    "##degeri 0.29 yani 0.5 den kucuk ciktigi icin cluster yapilabilir.\n",
    "## Hopkins test--> eşiği 0.5 tir. Bu değerin üzeri ise bu data clustering olmaz çünkü \n",
    "## data random dagilmaz uniform  dagilir."
   ]
  },
  {
   "cell_type": "markdown",
   "metadata": {},
   "source": [
    "Determine optimal number of cluster"
   ]
  },
  {
   "cell_type": "code",
   "execution_count": 40,
   "metadata": {},
   "outputs": [],
   "source": [
    "tg = []\n",
    "\n",
    "K = range(2,10) #kumeleme yapacagimiz sayilari 2-10 arasinda arayacagiz\n",
    "\n",
    "for k in K:\n",
    "    model = KMeans(n_clusters =k, random_state=42)\n",
    "    model.fit(X)\n",
    "    tg.append(model.inertia_)"
   ]
  },
  {
   "cell_type": "code",
   "execution_count": 41,
   "metadata": {},
   "outputs": [
    {
     "data": {
      "image/png": "[encoded data removed]",
      "text/plain": [
       "<Figure size 600x600 with 1 Axes>"
      ]
     },
     "metadata": {},
     "output_type": "display_data"
    }
   ],
   "source": [
    "plt.plot(K, tg, \"bo-\")\n",
    "plt.xlabel(\"Different k values\")\n",
    "plt.ylabel(\"inertia-error\") \n",
    "plt.title(\"elbow method\");"
   ]
  },
  {
   "cell_type": "markdown",
   "metadata": {},
   "source": [
    "İLK en keskin düşüşün durduğu noktanın başlangıcı 3 u gosteriyo."
   ]
  },
  {
   "cell_type": "code",
   "execution_count": 42,
   "metadata": {},
   "outputs": [
    {
     "data": {
      "text/plain": [
       "[7075743.607793508,\n",
       " 3477482.4683775404,\n",
       " 2206232.949869198,\n",
       " 1544702.526537652,\n",
       " 1143881.1421539485,\n",
       " 882076.7547349938,\n",
       " 690417.489100393,\n",
       " 531231.2230000633]"
      ]
     },
     "execution_count": 42,
     "metadata": {},
     "output_type": "execute_result"
    }
   ],
   "source": [
    "tg # sum of squared distance "
   ]
  },
  {
   "cell_type": "code",
   "execution_count": 43,
   "metadata": {},
   "outputs": [
    {
     "data": {
      "text/plain": [
       "0             NaN\n",
       "1   -3.598261e+06\n",
       "2   -1.271250e+06\n",
       "3   -6.615304e+05\n",
       "4   -4.008214e+05\n",
       "5   -2.618044e+05\n",
       "6   -1.916593e+05\n",
       "7   -1.591863e+05\n",
       "dtype: float64"
      ]
     },
     "execution_count": 43,
     "metadata": {},
     "output_type": "execute_result"
    }
   ],
   "source": [
    "pd.Series(tg).diff()## tg lerin aralarindaki farklar.ilki 0."
   ]
  },
  {
   "cell_type": "code",
   "execution_count": 44,
   "metadata": {},
   "outputs": [
    {
     "data": {
      "text/html": [
       "<div>\n",
       "<style scoped>\n",
       "    .dataframe tbody tr th:only-of-type {\n",
       "        vertical-align: middle;\n",
       "    }\n",
       "\n",
       "    .dataframe tbody tr th {\n",
       "        vertical-align: top;\n",
       "    }\n",
       "\n",
       "    .dataframe thead th {\n",
       "        text-align: right;\n",
       "    }\n",
       "</style>\n",
       "<table border=\"1\" class=\"dataframe\">\n",
       "  <thead>\n",
       "    <tr style=\"text-align: right;\">\n",
       "      <th></th>\n",
       "      <th>0</th>\n",
       "    </tr>\n",
       "  </thead>\n",
       "  <tbody>\n",
       "    <tr>\n",
       "      <th>1</th>\n",
       "      <td>NaN</td>\n",
       "    </tr>\n",
       "    <tr>\n",
       "      <th>2</th>\n",
       "      <td>3.598261e+06</td>\n",
       "    </tr>\n",
       "    <tr>\n",
       "      <th>3</th>\n",
       "      <td>1.271250e+06</td>\n",
       "    </tr>\n",
       "    <tr>\n",
       "      <th>4</th>\n",
       "      <td>6.615304e+05</td>\n",
       "    </tr>\n",
       "    <tr>\n",
       "      <th>5</th>\n",
       "      <td>4.008214e+05</td>\n",
       "    </tr>\n",
       "    <tr>\n",
       "      <th>6</th>\n",
       "      <td>2.618044e+05</td>\n",
       "    </tr>\n",
       "    <tr>\n",
       "      <th>7</th>\n",
       "      <td>1.916593e+05</td>\n",
       "    </tr>\n",
       "    <tr>\n",
       "      <th>8</th>\n",
       "      <td>1.591863e+05</td>\n",
       "    </tr>\n",
       "  </tbody>\n",
       "</table>\n",
       "</div>"
      ],
      "text/plain": [
       "              0\n",
       "1           NaN\n",
       "2  3.598261e+06\n",
       "3  1.271250e+06\n",
       "4  6.615304e+05\n",
       "5  4.008214e+05\n",
       "6  2.618044e+05\n",
       "7  1.916593e+05\n",
       "8  1.591863e+05"
      ]
     },
     "execution_count": 44,
     "metadata": {},
     "output_type": "execute_result"
    }
   ],
   "source": [
    "df_diff =pd.DataFrame(-pd.Series(tg).diff()).rename(index = lambda x : x+1)\n",
    "df_diff ##burda da dataframe cevirdik farklari. negatifleri pozitif yapsin ve ilk sifir\n",
    "##degerini  1 den baslatsin \n",
    " "
   ]
  },
  {
   "cell_type": "code",
   "execution_count": 45,
   "metadata": {},
   "outputs": [
    {
     "data": {
      "text/plain": [
       "<AxesSubplot:>"
      ]
     },
     "execution_count": 45,
     "metadata": {},
     "output_type": "execute_result"
    },
    {
     "data": {
      "image/png": "[encoded data removed]",
      "text/plain": [
       "<Figure size 600x600 with 1 Axes>"
      ]
     },
     "metadata": {},
     "output_type": "display_data"
    }
   ],
   "source": [
    "df_diff.plot(kind='bar')\n",
    "##bu bar grafikte goruldugu gibi 2 den 3 e hizli bir dusus olmus."
   ]
  },
  {
   "cell_type": "markdown",
   "metadata": {},
   "source": [
    "# YellowBrick"
   ]
  },
  {
   "cell_type": "code",
   "execution_count": 47,
   "metadata": {},
   "outputs": [
    {
     "name": "stdout",
     "output_type": "stream",
     "text": [
      "Requirement already satisfied: yellowbrick in /Users/gulaykayapinar/opt/anaconda3/lib/python3.9/site-packages (1.4)\n",
      "Requirement already satisfied: matplotlib!=3.0.0,>=2.0.2 in /Users/gulaykayapinar/opt/anaconda3/lib/python3.9/site-packages (from yellowbrick) (3.5.1)\n",
      "Requirement already satisfied: scipy>=1.0.0 in /Users/gulaykayapinar/opt/anaconda3/lib/python3.9/site-packages (from yellowbrick) (1.7.1)\n",
      "Collecting scikit-learn>=1.0.0\n",
      "  Using cached scikit_learn-1.1.1-cp39-cp39-macosx_10_13_x86_64.whl (8.6 MB)\n",
      "Requirement already satisfied: cycler>=0.10.0 in /Users/gulaykayapinar/opt/anaconda3/lib/python3.9/site-packages (from yellowbrick) (0.10.0)\n",
      "Requirement already satisfied: numpy>=1.16.0 in /Users/gulaykayapinar/opt/anaconda3/lib/python3.9/site-packages (from yellowbrick) (1.20.3)\n",
      "Requirement already satisfied: six in /Users/gulaykayapinar/opt/anaconda3/lib/python3.9/site-packages (from cycler>=0.10.0->yellowbrick) (1.16.0)\n",
      "Requirement already satisfied: pillow>=6.2.0 in /Users/gulaykayapinar/opt/anaconda3/lib/python3.9/site-packages (from matplotlib!=3.0.0,>=2.0.2->yellowbrick) (8.4.0)\n",
      "Requirement already satisfied: fonttools>=4.22.0 in /Users/gulaykayapinar/opt/anaconda3/lib/python3.9/site-packages (from matplotlib!=3.0.0,>=2.0.2->yellowbrick) (4.25.0)\n",
      "Requirement already satisfied: python-dateutil>=2.7 in /Users/gulaykayapinar/opt/anaconda3/lib/python3.9/site-packages (from matplotlib!=3.0.0,>=2.0.2->yellowbrick) (2.8.2)\n",
      "Requirement already satisfied: kiwisolver>=1.0.1 in /Users/gulaykayapinar/opt/anaconda3/lib/python3.9/site-packages (from matplotlib!=3.0.0,>=2.0.2->yellowbrick) (1.3.1)\n",
      "Requirement already satisfied: pyparsing>=2.2.1 in /Users/gulaykayapinar/opt/anaconda3/lib/python3.9/site-packages (from matplotlib!=3.0.0,>=2.0.2->yellowbrick) (3.0.4)\n",
      "Requirement already satisfied: packaging>=20.0 in /Users/gulaykayapinar/opt/anaconda3/lib/python3.9/site-packages (from matplotlib!=3.0.0,>=2.0.2->yellowbrick) (21.3)\n",
      "Requirement already satisfied: joblib>=1.0.0 in /Users/gulaykayapinar/opt/anaconda3/lib/python3.9/site-packages (from scikit-learn>=1.0.0->yellowbrick) (1.1.0)\n",
      "Requirement already satisfied: threadpoolctl>=2.0.0 in /Users/gulaykayapinar/opt/anaconda3/lib/python3.9/site-packages (from scikit-learn>=1.0.0->yellowbrick) (2.2.0)\n",
      "Installing collected packages: scikit-learn\n",
      "  Attempting uninstall: scikit-learn\n",
      "    Found existing installation: scikit-learn 0.24.2\n",
      "    Uninstalling scikit-learn-0.24.2:\n",
      "      Successfully uninstalled scikit-learn-0.24.2\n",
      "\u001b[31mERROR: pip's dependency resolver does not currently take into account all the packages that are installed. This behaviour is the source of the following dependency conflicts.\n",
      "pyclustertend 1.7.0 requires scikit-learn<0.25.0,>=0.24.0, but you have scikit-learn 1.1.1 which is incompatible.\u001b[0m\n",
      "Successfully installed scikit-learn-1.1.1\n",
      "Note: you may need to restart the kernel to use updated packages.\n"
     ]
    }
   ],
   "source": [
    "pip install yellowbrick"
   ]
  },
  {
   "cell_type": "code",
   "execution_count": 46,
   "metadata": {},
   "outputs": [
    {
     "data": {
      "image/png": "[encoded data removed]",
      "text/plain": [
       "<Figure size 800x550 with 2 Axes>"
      ]
     },
     "metadata": {},
     "output_type": "display_data"
    }
   ],
   "source": [
    "##elbow methodunda kesin karar verilmedigi zman yellowbirck kullanilir.Bu bize 4 sonucunu verdi\n",
    "## fakat biz yukarda 2-3 arasinda bulmustuk\n",
    "from yellowbrick.cluster import KElbowVisualizer\n",
    "\n",
    "model_ = KMeans(random_state=42)\n",
    "visualizer = KElbowVisualizer(model_, k=(2,9))\n",
    "\n",
    "visualizer.fit(X)        # Fit the data to the visualizer\n",
    "visualizer.show();"
   ]
  },
  {
   "cell_type": "markdown",
   "metadata": {},
   "source": [
    "Silhouette analysis"
   ]
  },
  {
   "cell_type": "markdown",
   "metadata": {},
   "source": [
    "inertia kümelerin kendi içinde ne kadar yoğun biçimde kümelendiğini gösterirken, \n",
    "\n",
    "silhouette ise hem kendi içinde ne kadar sıkı kümelendiğinin yanında kümeler arasındaki mesafenini de ne kadar uzak olduğunu gösteriyor.\n",
    "\n",
    "silhouette skor 1'e ne kadar yakınsa kümelemeye o kadar yatkın olduğunu gösteriyor.\n",
    "fakat bazen 1 e en yakın olan skor değil ondan biraz daha düşük olan skor seçilmeli çünkü istediğim şey hem inertia skoru en düşük olurken bunun yanında silhouette skorunun yüksek olması."
   ]
  },
  {
   "cell_type": "code",
   "execution_count": 47,
   "metadata": {},
   "outputs": [],
   "source": [
    "from sklearn.metrics import silhouette_score"
   ]
  },
  {
   "cell_type": "code",
   "execution_count": 48,
   "metadata": {},
   "outputs": [
    {
     "data": {
      "text/plain": [
       "0.5046218513080499"
      ]
     },
     "execution_count": 48,
     "metadata": {},
     "output_type": "execute_result"
    }
   ],
   "source": [
    "silhouette_score(X, K_means_model.labels_)\n"
   ]
  },
  {
   "cell_type": "code",
   "execution_count": 49,
   "metadata": {
    "scrolled": true
   },
   "outputs": [
    {
     "name": "stdout",
     "output_type": "stream",
     "text": [
      "For n_clusters=2, the silhouette score is 0.6340158929875183\n",
      "For n_clusters=3, the silhouette score is 0.5772529479011433\n",
      "For n_clusters=4, the silhouette score is 0.5352775669597345\n",
      "For n_clusters=5, the silhouette score is 0.5046218513080499\n",
      "For n_clusters=6, the silhouette score is 0.49382994953815856\n",
      "For n_clusters=7, the silhouette score is 0.4995915650010169\n",
      "For n_clusters=8, the silhouette score is 0.4911837332337048\n"
     ]
    }
   ],
   "source": [
    "range_n_clusters = range(2,9)\n",
    "for num_clusters in range_n_clusters:\n",
    "    # intialise kmeans\n",
    "    kmeans = KMeans(n_clusters=num_clusters, random_state=42)\n",
    "    kmeans.fit(X)\n",
    "    cluster_labels = kmeans.labels_\n",
    "    # silhouette score\n",
    "    silhouette_avg = silhouette_score(X, cluster_labels)\n",
    "    print(f\"For n_clusters={num_clusters}, the silhouette score is {silhouette_avg}\")"
   ]
  },
  {
   "cell_type": "markdown",
   "metadata": {},
   "source": [
    " n_cluster 2 daha yüksek silhouette skoru veriyor ama onu seçmeyebilirim. saha bilgisi burada çok önem arz ediyor."
   ]
  },
  {
   "cell_type": "code",
   "execution_count": 50,
   "metadata": {},
   "outputs": [
    {
     "data": {
      "image/png": "[encoded data removed]",
      "text/plain": [
       "<Figure size 800x550 with 1 Axes>"
      ]
     },
     "metadata": {},
     "output_type": "display_data"
    }
   ],
   "source": [
    "from sklearn.cluster import KMeans\n",
    "\n",
    "from yellowbrick.cluster import SilhouetteVisualizer\n",
    "\n",
    "model3 = KMeans(n_clusters=3, random_state=42)\n",
    "visualizer = SilhouetteVisualizer(model3)\n",
    "\n",
    "visualizer.fit(X)    # Fit the data to the visualizer\n",
    "visualizer.poof();"
   ]
  },
  {
   "cell_type": "markdown",
   "metadata": {},
   "source": [
    "balance data roc auc curve\n",
    "imbalance data precision-recall curve"
   ]
  },
  {
   "cell_type": "code",
   "execution_count": null,
   "metadata": {},
   "outputs": [],
   "source": []
  },
  {
   "cell_type": "markdown",
   "metadata": {
    "id": "WpmbaABr2snN"
   },
   "source": [
    "## 5. Model Building (Supervised)"
   ]
  },
  {
   "cell_type": "code",
   "execution_count": 51,
   "metadata": {
    "id": "S15Bpefl2snS"
   },
   "outputs": [],
   "source": [
    "from sklearn.model_selection import train_test_split"
   ]
  },
  {
   "cell_type": "code",
   "execution_count": 52,
   "metadata": {},
   "outputs": [],
   "source": [
    "X = df.drop(\"left\", axis = 1)\n",
    "y = df[\"left\"]"
   ]
  },
  {
   "cell_type": "code",
   "execution_count": 53,
   "metadata": {},
   "outputs": [],
   "source": [
    "X_train, X_test, y_train, y_test = train_test_split(X, y, test_size=0.3, stratify=y, random_state=101)"
   ]
  },
  {
   "cell_type": "markdown",
   "metadata": {
    "id": "Y4d55Vek2snX"
   },
   "source": [
    "### #Gradient Boosting Classifier"
   ]
  },
  {
   "cell_type": "code",
   "execution_count": 54,
   "metadata": {},
   "outputs": [],
   "source": [
    "from sklearn.metrics import confusion_matrix, classification_report\n"
   ]
  },
  {
   "cell_type": "code",
   "execution_count": 55,
   "metadata": {},
   "outputs": [],
   "source": [
    "def eval_metric(model, X_train, y_train, X_test, y_test):\n",
    "    y_train_pred = model.predict(X_train)\n",
    "    y_pred = model.predict(X_test)\n",
    "    \n",
    "    print(\"Test_Set\")\n",
    "    print(confusion_matrix(y_test, y_pred))\n",
    "    print(classification_report(y_test, y_pred))\n",
    "    print()\n",
    "    print(\"Train_Set\")\n",
    "    print(confusion_matrix(y_train, y_train_pred))\n",
    "    print(classification_report(y_train, y_train_pred))"
   ]
  },
  {
   "cell_type": "code",
   "execution_count": null,
   "metadata": {},
   "outputs": [],
   "source": []
  },
  {
   "cell_type": "markdown",
   "metadata": {
    "id": "L8OkbOrC2snY"
   },
   "source": [
    "#### Model Building"
   ]
  },
  {
   "cell_type": "code",
   "execution_count": 56,
   "metadata": {
    "id": "MefRCx542snY"
   },
   "outputs": [],
   "source": [
    "from sklearn.ensemble import GradientBoostingClassifier"
   ]
  },
  {
   "cell_type": "code",
   "execution_count": 57,
   "metadata": {},
   "outputs": [],
   "source": [
    "grad_model = GradientBoostingClassifier(random_state=42)\n"
   ]
  },
  {
   "cell_type": "code",
   "execution_count": 58,
   "metadata": {},
   "outputs": [
    {
     "data": {
      "text/plain": [
       "GradientBoostingClassifier(random_state=42)"
      ]
     },
     "execution_count": 58,
     "metadata": {},
     "output_type": "execute_result"
    }
   ],
   "source": [
    "grad_model.fit(X_train, y_train)"
   ]
  },
  {
   "cell_type": "markdown",
   "metadata": {
    "id": "VAiUMdtI2snk"
   },
   "source": [
    "#### Evaluating Model Performance"
   ]
  },
  {
   "cell_type": "markdown",
   "metadata": {
    "id": "92xg3rvR2snl"
   },
   "source": [
    "- Confusion Matrix : You can use scikit-learn metrics module for accuracy calculation. A Confusion matrix is an N x N matrix used for evaluating the performance of a classification model, where N is the number of target classes. The matrix compares the actual target values with those predicted by the machine learning model. This gives us a holistic view of how well our classification model is performing and what kinds of errors it is making.\n",
    "\n",
    "    [Confusion Matrix](https://www.analyticsvidhya.com/blog/2020/04/confusion-matrix-machine-learning/)"
   ]
  },
  {
   "cell_type": "markdown",
   "metadata": {
    "id": "S9VeChm62snm"
   },
   "source": [
    "- Yellowbrick: Yellowbrick is a suite of visualization and diagnostic tools that will enable quicker model selection. It’s a Python package that combines scikit-learn and matplotlib. Some of the more popular visualization tools include model selection, feature visualization, classification and regression visualization\n",
    "\n",
    "    [Yellowbrick](https://www.analyticsvidhya.com/blog/2018/05/yellowbrick-a-set-of-visualization-tools-to-accelerate-your-model-selection-process/)"
   ]
  },
  {
   "cell_type": "code",
   "execution_count": 59,
   "metadata": {
    "id": "ber3WeUk2snn",
    "jupyter": {
     "outputs_hidden": true
    },
    "outputId": "c634b756-d466-4a59-b083-468a5ce04495"
   },
   "outputs": [
    {
     "name": "stdout",
     "output_type": "stream",
     "text": [
      "Test_Set\n",
      "[[2975   26]\n",
      " [  46  551]]\n",
      "              precision    recall  f1-score   support\n",
      "\n",
      "           0       0.98      0.99      0.99      3001\n",
      "           1       0.95      0.92      0.94       597\n",
      "\n",
      "    accuracy                           0.98      3598\n",
      "   macro avg       0.97      0.96      0.96      3598\n",
      "weighted avg       0.98      0.98      0.98      3598\n",
      "\n",
      "\n",
      "Train_Set\n",
      "[[6960   39]\n",
      " [ 100 1294]]\n",
      "              precision    recall  f1-score   support\n",
      "\n",
      "           0       0.99      0.99      0.99      6999\n",
      "           1       0.97      0.93      0.95      1394\n",
      "\n",
      "    accuracy                           0.98      8393\n",
      "   macro avg       0.98      0.96      0.97      8393\n",
      "weighted avg       0.98      0.98      0.98      8393\n",
      "\n"
     ]
    }
   ],
   "source": [
    "eval_metric(grad_model, X_train, y_train, X_test, y_test)"
   ]
  },
  {
   "cell_type": "markdown",
   "metadata": {
    "id": "CSUOz5302snx"
   },
   "source": [
    " Cross Validate for Gradient Boosting"
   ]
  },
  {
   "cell_type": "code",
   "execution_count": 60,
   "metadata": {},
   "outputs": [],
   "source": [
    "from sklearn.model_selection import cross_val_score, cross_validate"
   ]
  },
  {
   "cell_type": "code",
   "execution_count": 61,
   "metadata": {},
   "outputs": [
    {
     "data": {
      "text/plain": [
       "test_accuracy     0.981651\n",
       "test_precision    0.965461\n",
       "test_recall       0.922492\n",
       "test_f1           0.943372\n",
       "test_roc_auc      0.984820\n",
       "dtype: float64"
      ]
     },
     "execution_count": 61,
     "metadata": {},
     "output_type": "execute_result"
    }
   ],
   "source": [
    "model = GradientBoostingClassifier(random_state=42)\n",
    "\n",
    "scores = cross_validate(grad_model, X_train, y_train, scoring = ['accuracy', 'precision','recall',\n",
    "                                                                   'f1', 'roc_auc'], cv = 10)\n",
    "df_scores = pd.DataFrame(scores, index = range(1, 11))\n",
    "df_scores.mean()[2:]"
   ]
  },
  {
   "cell_type": "code",
   "execution_count": 62,
   "metadata": {},
   "outputs": [],
   "source": [
    "from sklearn.metrics import precision_recall_curve, plot_precision_recall_curve, plot_roc_curve, roc_auc_score"
   ]
  },
  {
   "cell_type": "code",
   "execution_count": 63,
   "metadata": {},
   "outputs": [
    {
     "data": {
      "image/png": "[encoded data removed]",
      "text/plain": [
       "<Figure size 800x550 with 1 Axes>"
      ]
     },
     "metadata": {},
     "output_type": "display_data"
    }
   ],
   "source": [
    "plot_precision_recall_curve(grad_model, X_test, y_test);"
   ]
  },
  {
   "cell_type": "markdown",
   "metadata": {},
   "source": [
    "GridSearch for GradientBoosting"
   ]
  },
  {
   "cell_type": "code",
   "execution_count": 64,
   "metadata": {},
   "outputs": [],
   "source": [
    "from sklearn.model_selection import GridSearchCV\n"
   ]
  },
  {
   "cell_type": "code",
   "execution_count": 65,
   "metadata": {},
   "outputs": [],
   "source": [
    "param_grid = {\"n_estimators\":[100, 200, 300],\n",
    "             \"subsample\":[0.5, 1], \"max_features\" : [None, 2, 3, 4]} #\"learning_rate\": [0.001, 0.01, 0.1], 'max_depth':[3,4,5,6]"
   ]
  },
  {
   "cell_type": "code",
   "execution_count": 66,
   "metadata": {},
   "outputs": [],
   "source": [
    "gb_model = GradientBoostingClassifier(random_state=42)"
   ]
  },
  {
   "cell_type": "code",
   "execution_count": 67,
   "metadata": {},
   "outputs": [
    {
     "name": "stdout",
     "output_type": "stream",
     "text": [
      "Fitting 5 folds for each of 24 candidates, totalling 120 fits\n"
     ]
    }
   ],
   "source": [
    "grid_gb = GridSearchCV(gb_model, param_grid, scoring = \"f1\", verbose=2, n_jobs = -1).fit(X_train, y_train)"
   ]
  },
  {
   "cell_type": "code",
   "execution_count": 68,
   "metadata": {},
   "outputs": [
    {
     "data": {
      "text/plain": [
       "{'max_features': None, 'n_estimators': 300, 'subsample': 1}"
      ]
     },
     "execution_count": 68,
     "metadata": {},
     "output_type": "execute_result"
    }
   ],
   "source": [
    "grid_gb.best_params_"
   ]
  },
  {
   "cell_type": "code",
   "execution_count": 69,
   "metadata": {},
   "outputs": [
    {
     "name": "stdout",
     "output_type": "stream",
     "text": [
      "Test_Set\n",
      "[[2976   25]\n",
      " [  45  552]]\n",
      "              precision    recall  f1-score   support\n",
      "\n",
      "           0       0.99      0.99      0.99      3001\n",
      "           1       0.96      0.92      0.94       597\n",
      "\n",
      "    accuracy                           0.98      3598\n",
      "   macro avg       0.97      0.96      0.96      3598\n",
      "weighted avg       0.98      0.98      0.98      3598\n",
      "\n",
      "\n",
      "Train_Set\n",
      "[[6978   21]\n",
      " [  85 1309]]\n",
      "              precision    recall  f1-score   support\n",
      "\n",
      "           0       0.99      1.00      0.99      6999\n",
      "           1       0.98      0.94      0.96      1394\n",
      "\n",
      "    accuracy                           0.99      8393\n",
      "   macro avg       0.99      0.97      0.98      8393\n",
      "weighted avg       0.99      0.99      0.99      8393\n",
      "\n"
     ]
    }
   ],
   "source": [
    "eval_metric(grid_gb, X_train, y_train, X_test, y_test)"
   ]
  },
  {
   "cell_type": "code",
   "execution_count": null,
   "metadata": {},
   "outputs": [],
   "source": []
  },
  {
   "cell_type": "markdown",
   "metadata": {
    "id": "90HfPd4w2sn1"
   },
   "source": [
    "#### Prediction"
   ]
  },
  {
   "cell_type": "code",
   "execution_count": 70,
   "metadata": {},
   "outputs": [],
   "source": [
    "y_pred = grad_model.predict(X_test)   # or grid.predict(X_test) "
   ]
  },
  {
   "cell_type": "code",
   "execution_count": 71,
   "metadata": {},
   "outputs": [],
   "source": [
    "y_pred_proba = grad_model.predict_proba(X_test)"
   ]
  },
  {
   "cell_type": "code",
   "execution_count": 72,
   "metadata": {},
   "outputs": [],
   "source": [
    "my_dict = {\"Actual\": y_test, \"Pred\":y_pred, \"Proba_1\":y_pred_proba[:,1], \"Proba_0\":y_pred_proba[:,0]}"
   ]
  },
  {
   "cell_type": "code",
   "execution_count": 73,
   "metadata": {},
   "outputs": [
    {
     "data": {
      "text/html": [
       "<div>\n",
       "<style scoped>\n",
       "    .dataframe tbody tr th:only-of-type {\n",
       "        vertical-align: middle;\n",
       "    }\n",
       "\n",
       "    .dataframe tbody tr th {\n",
       "        vertical-align: top;\n",
       "    }\n",
       "\n",
       "    .dataframe thead th {\n",
       "        text-align: right;\n",
       "    }\n",
       "</style>\n",
       "<table border=\"1\" class=\"dataframe\">\n",
       "  <thead>\n",
       "    <tr style=\"text-align: right;\">\n",
       "      <th></th>\n",
       "      <th>Actual</th>\n",
       "      <th>Pred</th>\n",
       "      <th>Proba_1</th>\n",
       "      <th>Proba_0</th>\n",
       "    </tr>\n",
       "  </thead>\n",
       "  <tbody>\n",
       "    <tr>\n",
       "      <th>7939</th>\n",
       "      <td>0</td>\n",
       "      <td>0</td>\n",
       "      <td>0.007468</td>\n",
       "      <td>0.992532</td>\n",
       "    </tr>\n",
       "    <tr>\n",
       "      <th>5324</th>\n",
       "      <td>0</td>\n",
       "      <td>0</td>\n",
       "      <td>0.007420</td>\n",
       "      <td>0.992580</td>\n",
       "    </tr>\n",
       "    <tr>\n",
       "      <th>3284</th>\n",
       "      <td>0</td>\n",
       "      <td>0</td>\n",
       "      <td>0.006766</td>\n",
       "      <td>0.993234</td>\n",
       "    </tr>\n",
       "    <tr>\n",
       "      <th>4296</th>\n",
       "      <td>0</td>\n",
       "      <td>0</td>\n",
       "      <td>0.010537</td>\n",
       "      <td>0.989463</td>\n",
       "    </tr>\n",
       "    <tr>\n",
       "      <th>6148</th>\n",
       "      <td>0</td>\n",
       "      <td>0</td>\n",
       "      <td>0.001877</td>\n",
       "      <td>0.998123</td>\n",
       "    </tr>\n",
       "    <tr>\n",
       "      <th>498</th>\n",
       "      <td>1</td>\n",
       "      <td>1</td>\n",
       "      <td>0.934457</td>\n",
       "      <td>0.065543</td>\n",
       "    </tr>\n",
       "    <tr>\n",
       "      <th>6709</th>\n",
       "      <td>0</td>\n",
       "      <td>0</td>\n",
       "      <td>0.014310</td>\n",
       "      <td>0.985690</td>\n",
       "    </tr>\n",
       "    <tr>\n",
       "      <th>5063</th>\n",
       "      <td>0</td>\n",
       "      <td>0</td>\n",
       "      <td>0.096766</td>\n",
       "      <td>0.903234</td>\n",
       "    </tr>\n",
       "    <tr>\n",
       "      <th>2828</th>\n",
       "      <td>0</td>\n",
       "      <td>0</td>\n",
       "      <td>0.015821</td>\n",
       "      <td>0.984179</td>\n",
       "    </tr>\n",
       "    <tr>\n",
       "      <th>5597</th>\n",
       "      <td>0</td>\n",
       "      <td>0</td>\n",
       "      <td>0.019518</td>\n",
       "      <td>0.980482</td>\n",
       "    </tr>\n",
       "  </tbody>\n",
       "</table>\n",
       "</div>"
      ],
      "text/plain": [
       "      Actual  Pred   Proba_1   Proba_0\n",
       "7939       0     0  0.007468  0.992532\n",
       "5324       0     0  0.007420  0.992580\n",
       "3284       0     0  0.006766  0.993234\n",
       "4296       0     0  0.010537  0.989463\n",
       "6148       0     0  0.001877  0.998123\n",
       "498        1     1  0.934457  0.065543\n",
       "6709       0     0  0.014310  0.985690\n",
       "5063       0     0  0.096766  0.903234\n",
       "2828       0     0  0.015821  0.984179\n",
       "5597       0     0  0.019518  0.980482"
      ]
     },
     "execution_count": 73,
     "metadata": {},
     "output_type": "execute_result"
    },
    {
     "name": "stdout",
     "output_type": "stream",
     "text": [
      "[CV] END ...max_features=None, n_estimators=100, subsample=1; total time=   0.7s\n",
      "[CV] END ...max_features=None, n_estimators=200, subsample=1; total time=   1.3s\n",
      "[CV] END ....max_features=2, n_estimators=100, subsample=0.5; total time=   0.3s\n",
      "[CV] END ......max_features=2, n_estimators=100, subsample=1; total time=   0.2s\n",
      "[CV] END ....max_features=2, n_estimators=200, subsample=0.5; total time=   0.5s\n",
      "[CV] END ......max_features=2, n_estimators=200, subsample=1; total time=   0.4s\n",
      "[CV] END ......max_features=2, n_estimators=300, subsample=1; total time=   0.7s\n",
      "[CV] END ......max_features=3, n_estimators=100, subsample=1; total time=   0.3s\n",
      "[CV] END ......max_features=3, n_estimators=200, subsample=1; total time=   0.5s\n",
      "[CV] END ....max_features=4, n_estimators=100, subsample=0.5; total time=   0.3s\n",
      "[CV] END ....max_features=4, n_estimators=100, subsample=0.5; total time=   0.3s\n",
      "[CV] END ......max_features=4, n_estimators=100, subsample=1; total time=   0.3s\n",
      "[CV] END ......max_features=4, n_estimators=200, subsample=1; total time=   0.5s\n",
      "[CV] END .max_features=None, n_estimators=100, subsample=0.5; total time=   0.6s\n",
      "[CV] END ...max_features=None, n_estimators=200, subsample=1; total time=   1.3s\n",
      "[CV] END ...max_features=None, n_estimators=300, subsample=1; total time=   1.9s\n",
      "[CV] END ......max_features=2, n_estimators=300, subsample=1; total time=   0.7s\n",
      "[CV] END ......max_features=3, n_estimators=200, subsample=1; total time=   0.5s\n",
      "[CV] END ....max_features=4, n_estimators=100, subsample=0.5; total time=   0.3s\n",
      "[CV] END ....max_features=4, n_estimators=100, subsample=0.5; total time=   0.3s\n",
      "[CV] END ......max_features=4, n_estimators=100, subsample=1; total time=   0.3s\n",
      "[CV] END ......max_features=4, n_estimators=200, subsample=1; total time=   0.5s\n",
      "[CV] END .max_features=None, n_estimators=100, subsample=0.5; total time=   0.6s\n",
      "[CV] END .max_features=None, n_estimators=200, subsample=0.5; total time=   1.0s\n",
      "[CV] END ...max_features=None, n_estimators=300, subsample=1; total time=   1.9s\n",
      "[CV] END ....max_features=2, n_estimators=300, subsample=0.5; total time=   0.8s\n",
      "[CV] END ....max_features=3, n_estimators=200, subsample=0.5; total time=   0.6s\n",
      "[CV] END ......max_features=3, n_estimators=300, subsample=1; total time=   0.7s\n",
      "[CV] END ......max_features=4, n_estimators=100, subsample=1; total time=   0.3s\n",
      "[CV] END ....max_features=4, n_estimators=300, subsample=0.5; total time=   0.8s\n",
      "[CV] END .max_features=None, n_estimators=100, subsample=0.5; total time=   0.6s\n",
      "[CV] END ...max_features=None, n_estimators=200, subsample=1; total time=   1.3s\n",
      "[CV] END ...max_features=None, n_estimators=300, subsample=1; total time=   1.9s\n",
      "[CV] END ....max_features=3, n_estimators=100, subsample=0.5; total time=   0.3s\n",
      "[CV] END ......max_features=3, n_estimators=100, subsample=1; total time=   0.3s\n",
      "[CV] END ......max_features=3, n_estimators=200, subsample=1; total time=   0.5s\n",
      "[CV] END ......max_features=3, n_estimators=300, subsample=1; total time=   0.7s\n",
      "[CV] END ......max_features=4, n_estimators=100, subsample=1; total time=   0.3s\n",
      "[CV] END ....max_features=4, n_estimators=300, subsample=0.5; total time=   0.8s\n",
      "[CV] END ...max_features=None, n_estimators=100, subsample=1; total time=   0.7s\n",
      "[CV] END .max_features=None, n_estimators=300, subsample=0.5; total time=   1.5s\n",
      "[CV] END ....max_features=2, n_estimators=100, subsample=0.5; total time=   0.3s\n",
      "[CV] END ......max_features=2, n_estimators=100, subsample=1; total time=   0.2s\n",
      "[CV] END ....max_features=2, n_estimators=200, subsample=0.5; total time=   0.5s\n",
      "[CV] END ....max_features=2, n_estimators=300, subsample=0.5; total time=   0.8s\n",
      "[CV] END ....max_features=3, n_estimators=100, subsample=0.5; total time=   0.3s\n",
      "[CV] END ....max_features=3, n_estimators=200, subsample=0.5; total time=   0.6s\n",
      "[CV] END ......max_features=3, n_estimators=300, subsample=1; total time=   0.7s\n",
      "[CV] END ....max_features=4, n_estimators=200, subsample=0.5; total time=   0.6s\n",
      "[CV] END ......max_features=4, n_estimators=300, subsample=1; total time=   0.7s\n",
      "[CV] END .max_features=None, n_estimators=200, subsample=0.5; total time=   1.0s\n",
      "[CV] END .max_features=None, n_estimators=300, subsample=0.5; total time=   1.5s\n",
      "[CV] END ......max_features=2, n_estimators=100, subsample=1; total time=   0.2s\n",
      "[CV] END ......max_features=2, n_estimators=200, subsample=1; total time=   0.4s\n",
      "[CV] END ......max_features=2, n_estimators=200, subsample=1; total time=   0.4s\n",
      "[CV] END ......max_features=2, n_estimators=300, subsample=1; total time=   0.7s\n",
      "[CV] END ....max_features=3, n_estimators=200, subsample=0.5; total time=   0.6s\n",
      "[CV] END ....max_features=3, n_estimators=300, subsample=0.5; total time=   0.9s\n",
      "[CV] END ......max_features=4, n_estimators=200, subsample=1; total time=   0.5s\n",
      "[CV] END ......max_features=4, n_estimators=300, subsample=1; total time=   0.7s\n",
      "[CV] END .max_features=None, n_estimators=100, subsample=0.5; total time=   0.6s\n",
      "[CV] END .max_features=None, n_estimators=200, subsample=0.5; total time=   1.0s\n",
      "[CV] END ...max_features=None, n_estimators=300, subsample=1; total time=   1.9s\n",
      "[CV] END ......max_features=2, n_estimators=300, subsample=1; total time=   0.7s\n",
      "[CV] END ......max_features=3, n_estimators=100, subsample=1; total time=   0.3s\n",
      "[CV] END ......max_features=3, n_estimators=200, subsample=1; total time=   0.5s\n",
      "[CV] END ......max_features=3, n_estimators=300, subsample=1; total time=   0.7s\n",
      "[CV] END ......max_features=4, n_estimators=200, subsample=1; total time=   0.5s\n",
      "[CV] END ......max_features=4, n_estimators=300, subsample=1; total time=   0.7s\n",
      "[CV] END .max_features=None, n_estimators=200, subsample=0.5; total time=   1.0s\n",
      "[CV] END .max_features=None, n_estimators=300, subsample=0.5; total time=   1.5s\n",
      "[CV] END ......max_features=2, n_estimators=100, subsample=1; total time=   0.2s\n",
      "[CV] END ....max_features=2, n_estimators=200, subsample=0.5; total time=   0.5s\n",
      "[CV] END ....max_features=2, n_estimators=300, subsample=0.5; total time=   0.8s\n",
      "[CV] END ....max_features=3, n_estimators=100, subsample=0.5; total time=   0.3s\n",
      "[CV] END ......max_features=3, n_estimators=200, subsample=1; total time=   0.5s\n",
      "[CV] END ....max_features=3, n_estimators=300, subsample=0.5; total time=   0.8s\n",
      "[CV] END ......max_features=4, n_estimators=200, subsample=1; total time=   0.5s\n",
      "[CV] END ......max_features=4, n_estimators=300, subsample=1; total time=   0.7s\n",
      "[CV] END ...max_features=None, n_estimators=100, subsample=1; total time=   0.7s\n",
      "[CV] END .max_features=None, n_estimators=300, subsample=0.5; total time=   1.5s\n",
      "[CV] END ....max_features=2, n_estimators=100, subsample=0.5; total time=   0.3s\n",
      "[CV] END ......max_features=2, n_estimators=100, subsample=1; total time=   0.2s\n",
      "[CV] END ....max_features=2, n_estimators=200, subsample=0.5; total time=   0.5s\n",
      "[CV] END ....max_features=2, n_estimators=300, subsample=0.5; total time=   0.8s\n",
      "[CV] END ....max_features=3, n_estimators=100, subsample=0.5; total time=   0.3s\n",
      "[CV] END ....max_features=3, n_estimators=200, subsample=0.5; total time=   0.6s\n",
      "[CV] END ......max_features=3, n_estimators=300, subsample=1; total time=   0.7s\n",
      "[CV] END ....max_features=4, n_estimators=200, subsample=0.5; total time=   0.6s\n",
      "[CV] END ....max_features=4, n_estimators=300, subsample=0.5; total time=   0.8s\n",
      "[CV] END ...max_features=None, n_estimators=100, subsample=1; total time=   0.7s\n",
      "[CV] END ...max_features=None, n_estimators=200, subsample=1; total time=   1.3s\n",
      "[CV] END ...max_features=None, n_estimators=300, subsample=1; total time=   1.9s\n",
      "[CV] END ....max_features=3, n_estimators=100, subsample=0.5; total time=   0.3s\n",
      "[CV] END ......max_features=3, n_estimators=100, subsample=1; total time=   0.3s\n",
      "[CV] END ....max_features=3, n_estimators=300, subsample=0.5; total time=   0.8s\n",
      "[CV] END ......max_features=4, n_estimators=100, subsample=1; total time=   0.3s\n",
      "[CV] END ....max_features=4, n_estimators=200, subsample=0.5; total time=   0.6s\n",
      "[CV] END ....max_features=4, n_estimators=300, subsample=0.5; total time=   0.8s\n",
      "[CV] END .max_features=None, n_estimators=100, subsample=0.5; total time=   0.6s\n",
      "[CV] END .max_features=None, n_estimators=200, subsample=0.5; total time=   1.0s\n",
      "[CV] END .max_features=None, n_estimators=300, subsample=0.5; total time=   1.5s\n",
      "[CV] END ......max_features=2, n_estimators=200, subsample=1; total time=   0.4s\n",
      "[CV] END ....max_features=2, n_estimators=300, subsample=0.5; total time=   0.8s\n",
      "[CV] END ....max_features=3, n_estimators=200, subsample=0.5; total time=   0.6s\n",
      "[CV] END ....max_features=3, n_estimators=300, subsample=0.5; total time=   0.8s\n",
      "[CV] END ....max_features=4, n_estimators=200, subsample=0.5; total time=   0.6s\n",
      "[CV] END ......max_features=4, n_estimators=300, subsample=1; total time=   0.7s\n",
      "[CV] END ...max_features=None, n_estimators=100, subsample=1; total time=   0.7s\n",
      "[CV] END ...max_features=None, n_estimators=200, subsample=1; total time=   1.3s\n",
      "[CV] END ....max_features=2, n_estimators=100, subsample=0.5; total time=   0.3s\n",
      "[CV] END ....max_features=2, n_estimators=100, subsample=0.5; total time=   0.3s\n",
      "[CV] END ....max_features=2, n_estimators=200, subsample=0.5; total time=   0.5s\n",
      "[CV] END ......max_features=2, n_estimators=200, subsample=1; total time=   0.4s\n",
      "[CV] END ......max_features=2, n_estimators=300, subsample=1; total time=   0.7s\n",
      "[CV] END ......max_features=3, n_estimators=100, subsample=1; total time=   0.3s\n",
      "[CV] END ....max_features=3, n_estimators=300, subsample=0.5; total time=   0.8s\n",
      "[CV] END ....max_features=4, n_estimators=100, subsample=0.5; total time=   0.3s\n",
      "[CV] END ....max_features=4, n_estimators=200, subsample=0.5; total time=   0.6s\n",
      "[CV] END ....max_features=4, n_estimators=300, subsample=0.5; total time=   0.8s\n"
     ]
    }
   ],
   "source": [
    "pd.DataFrame.from_dict(my_dict).sample(10)"
   ]
  },
  {
   "cell_type": "code",
   "execution_count": 75,
   "metadata": {},
   "outputs": [],
   "source": [
    "from sklearn.metrics import confusion_matrix, classification_report, accuracy_score, recall_score, precision_score, f1_score, roc_auc_score"
   ]
  },
  {
   "cell_type": "code",
   "execution_count": 76,
   "metadata": {},
   "outputs": [],
   "source": [
    "grad_f1 = f1_score(y_test, y_pred)\n",
    "grad_recall = recall_score(y_test, y_pred)\n",
    "grad_auc = roc_auc_score(y_test, y_pred)"
   ]
  },
  {
   "cell_type": "markdown",
   "metadata": {},
   "source": [
    "Feature Importance"
   ]
  },
  {
   "cell_type": "code",
   "execution_count": 77,
   "metadata": {},
   "outputs": [
    {
     "data": {
      "text/html": [
       "<div>\n",
       "<style scoped>\n",
       "    .dataframe tbody tr th:only-of-type {\n",
       "        vertical-align: middle;\n",
       "    }\n",
       "\n",
       "    .dataframe tbody tr th {\n",
       "        vertical-align: top;\n",
       "    }\n",
       "\n",
       "    .dataframe thead th {\n",
       "        text-align: right;\n",
       "    }\n",
       "</style>\n",
       "<table border=\"1\" class=\"dataframe\">\n",
       "  <thead>\n",
       "    <tr style=\"text-align: right;\">\n",
       "      <th></th>\n",
       "      <th>grad_importance</th>\n",
       "    </tr>\n",
       "  </thead>\n",
       "  <tbody>\n",
       "    <tr>\n",
       "      <th>satisfaction_level</th>\n",
       "      <td>0.525286</td>\n",
       "    </tr>\n",
       "    <tr>\n",
       "      <th>time_spend_company</th>\n",
       "      <td>0.138343</td>\n",
       "    </tr>\n",
       "    <tr>\n",
       "      <th>number_project</th>\n",
       "      <td>0.137138</td>\n",
       "    </tr>\n",
       "    <tr>\n",
       "      <th>last_evaluation</th>\n",
       "      <td>0.122045</td>\n",
       "    </tr>\n",
       "    <tr>\n",
       "      <th>average_montly_hours</th>\n",
       "      <td>0.074236</td>\n",
       "    </tr>\n",
       "    <tr>\n",
       "      <th>Classes</th>\n",
       "      <td>0.001284</td>\n",
       "    </tr>\n",
       "    <tr>\n",
       "      <th>salary_low</th>\n",
       "      <td>0.000894</td>\n",
       "    </tr>\n",
       "    <tr>\n",
       "      <th>Work_accident</th>\n",
       "      <td>0.000497</td>\n",
       "    </tr>\n",
       "    <tr>\n",
       "      <th>Departments _product_mng</th>\n",
       "      <td>0.000083</td>\n",
       "    </tr>\n",
       "    <tr>\n",
       "      <th>Departments _management</th>\n",
       "      <td>0.000072</td>\n",
       "    </tr>\n",
       "    <tr>\n",
       "      <th>Departments _support</th>\n",
       "      <td>0.000060</td>\n",
       "    </tr>\n",
       "    <tr>\n",
       "      <th>Departments _RandD</th>\n",
       "      <td>0.000033</td>\n",
       "    </tr>\n",
       "    <tr>\n",
       "      <th>salary_medium</th>\n",
       "      <td>0.000028</td>\n",
       "    </tr>\n",
       "    <tr>\n",
       "      <th>promotion_last_5years</th>\n",
       "      <td>0.000000</td>\n",
       "    </tr>\n",
       "    <tr>\n",
       "      <th>Departments _accounting</th>\n",
       "      <td>0.000000</td>\n",
       "    </tr>\n",
       "    <tr>\n",
       "      <th>Departments _marketing</th>\n",
       "      <td>0.000000</td>\n",
       "    </tr>\n",
       "    <tr>\n",
       "      <th>Departments _sales</th>\n",
       "      <td>0.000000</td>\n",
       "    </tr>\n",
       "    <tr>\n",
       "      <th>Departments _technical</th>\n",
       "      <td>0.000000</td>\n",
       "    </tr>\n",
       "    <tr>\n",
       "      <th>Departments _hr</th>\n",
       "      <td>0.000000</td>\n",
       "    </tr>\n",
       "  </tbody>\n",
       "</table>\n",
       "</div>"
      ],
      "text/plain": [
       "                          grad_importance\n",
       "satisfaction_level               0.525286\n",
       "time_spend_company               0.138343\n",
       "number_project                   0.137138\n",
       "last_evaluation                  0.122045\n",
       "average_montly_hours             0.074236\n",
       "Classes                          0.001284\n",
       "salary_low                       0.000894\n",
       "Work_accident                    0.000497\n",
       "Departments _product_mng         0.000083\n",
       "Departments _management          0.000072\n",
       "Departments _support             0.000060\n",
       "Departments _RandD               0.000033\n",
       "salary_medium                    0.000028\n",
       "promotion_last_5years            0.000000\n",
       "Departments _accounting          0.000000\n",
       "Departments _marketing           0.000000\n",
       "Departments _sales               0.000000\n",
       "Departments _technical           0.000000\n",
       "Departments _hr                  0.000000"
      ]
     },
     "execution_count": 77,
     "metadata": {},
     "output_type": "execute_result"
    }
   ],
   "source": [
    "grad_model = GradientBoostingClassifier(random_state=42)\n",
    "grad_model.fit(X_train, y_train)\n",
    "\n",
    "grad_model.feature_importances_\n",
    "\n",
    "feats = pd.DataFrame(index=X.columns, data=grad_model.feature_importances_, columns=['grad_importance'])\n",
    "grad_imp_feats = feats.sort_values(\"grad_importance\", ascending=False)\n",
    "grad_imp_feats"
   ]
  },
  {
   "cell_type": "markdown",
   "metadata": {
    "id": "z9P157eX2sn2"
   },
   "source": [
    "### #KNeighbors Classifier"
   ]
  },
  {
   "cell_type": "markdown",
   "metadata": {
    "id": "QPakx2ON2sn3"
   },
   "source": [
    "#### Model Building"
   ]
  },
  {
   "cell_type": "code",
   "execution_count": 78,
   "metadata": {
    "id": "HkNI16f72sn4"
   },
   "outputs": [],
   "source": [
    "X_train, X_test, y_train, y_test = train_test_split(X, y, test_size=0.3, stratify=y, random_state=101)"
   ]
  },
  {
   "cell_type": "code",
   "execution_count": 79,
   "metadata": {},
   "outputs": [],
   "source": [
    "from sklearn.preprocessing import StandardScaler, MinMaxScaler"
   ]
  },
  {
   "cell_type": "code",
   "execution_count": 80,
   "metadata": {},
   "outputs": [],
   "source": [
    "scaler = StandardScaler()\n",
    "X_train_scaled = scaler.fit_transform(X_train)\n",
    "X_test_scaled = scaler.transform(X_test)"
   ]
  },
  {
   "cell_type": "code",
   "execution_count": 81,
   "metadata": {},
   "outputs": [],
   "source": [
    "from sklearn.neighbors import KNeighborsClassifier"
   ]
  },
  {
   "cell_type": "code",
   "execution_count": 82,
   "metadata": {},
   "outputs": [],
   "source": [
    "knn_model = KNeighborsClassifier(n_neighbors=5)  # n_neighbors=5 --> Default"
   ]
  },
  {
   "cell_type": "code",
   "execution_count": 83,
   "metadata": {},
   "outputs": [
    {
     "data": {
      "text/plain": [
       "KNeighborsClassifier()"
      ]
     },
     "execution_count": 83,
     "metadata": {},
     "output_type": "execute_result"
    }
   ],
   "source": [
    "knn_model.fit(X_train_scaled,y_train)"
   ]
  },
  {
   "cell_type": "code",
   "execution_count": null,
   "metadata": {},
   "outputs": [],
   "source": []
  },
  {
   "cell_type": "code",
   "execution_count": null,
   "metadata": {},
   "outputs": [],
   "source": []
  },
  {
   "cell_type": "markdown",
   "metadata": {
    "id": "MdGymWJ_2sn9"
   },
   "source": [
    "#### Evaluating Model Performance"
   ]
  },
  {
   "cell_type": "code",
   "execution_count": 84,
   "metadata": {
    "id": "TPF_wziW2soC"
   },
   "outputs": [
    {
     "name": "stdout",
     "output_type": "stream",
     "text": [
      "Test_Set\n",
      "[[2876  125]\n",
      " [ 104  493]]\n",
      "              precision    recall  f1-score   support\n",
      "\n",
      "           0       0.97      0.96      0.96      3001\n",
      "           1       0.80      0.83      0.81       597\n",
      "\n",
      "    accuracy                           0.94      3598\n",
      "   macro avg       0.88      0.89      0.89      3598\n",
      "weighted avg       0.94      0.94      0.94      3598\n",
      "\n",
      "\n",
      "Train_Set\n",
      "[[6821  178]\n",
      " [ 177 1217]]\n",
      "              precision    recall  f1-score   support\n",
      "\n",
      "           0       0.97      0.97      0.97      6999\n",
      "           1       0.87      0.87      0.87      1394\n",
      "\n",
      "    accuracy                           0.96      8393\n",
      "   macro avg       0.92      0.92      0.92      8393\n",
      "weighted avg       0.96      0.96      0.96      8393\n",
      "\n"
     ]
    }
   ],
   "source": [
    "eval_metric(knn_model, X_train_scaled, y_train, X_test_scaled, y_test)\n"
   ]
  },
  {
   "cell_type": "markdown",
   "metadata": {},
   "source": [
    "Cross Validate for KNN"
   ]
  },
  {
   "cell_type": "code",
   "execution_count": 85,
   "metadata": {},
   "outputs": [
    {
     "data": {
      "text/plain": [
       "test_accuracy     0.938638\n",
       "test_precision    0.808842\n",
       "test_recall       0.827055\n",
       "test_f1           0.817347\n",
       "dtype: float64"
      ]
     },
     "execution_count": 85,
     "metadata": {},
     "output_type": "execute_result"
    }
   ],
   "source": [
    "model = KNeighborsClassifier()   # Her yeni islemde modeli sifirlamayi unutma!\n",
    "\n",
    "scores = cross_validate(knn_model, X_train_scaled, y_train, scoring = ['accuracy', 'precision','recall',\n",
    "                                                                   'f1'], cv = 10)\n",
    "df_scores = pd.DataFrame(scores, index = range(1, 11))\n",
    "df_scores.mean()[2:]"
   ]
  },
  {
   "cell_type": "code",
   "execution_count": 86,
   "metadata": {},
   "outputs": [
    {
     "data": {
      "image/png": "[encoded data removed]",
      "text/plain": [
       "<Figure size 800x550 with 1 Axes>"
      ]
     },
     "metadata": {},
     "output_type": "display_data"
    }
   ],
   "source": [
    "plot_roc_curve(knn_model, X_test_scaled, y_test);"
   ]
  },
  {
   "cell_type": "markdown",
   "metadata": {},
   "source": [
    "GridSearch for KNN"
   ]
  },
  {
   "cell_type": "code",
   "execution_count": 87,
   "metadata": {},
   "outputs": [],
   "source": [
    "knn_grid = KNeighborsClassifier()"
   ]
  },
  {
   "cell_type": "code",
   "execution_count": 88,
   "metadata": {},
   "outputs": [],
   "source": [
    "k_values= range(1,30)"
   ]
  },
  {
   "cell_type": "code",
   "execution_count": 89,
   "metadata": {},
   "outputs": [],
   "source": [
    "param_grid = {\"n_neighbors\":k_values, \"p\": [1,2], \"weights\": ['uniform', \"distance\"]}"
   ]
  },
  {
   "cell_type": "code",
   "execution_count": 90,
   "metadata": {},
   "outputs": [],
   "source": [
    "knn_grid_model = GridSearchCV(knn_grid, param_grid, cv=10, scoring= 'accuracy') "
   ]
  },
  {
   "cell_type": "code",
   "execution_count": 91,
   "metadata": {},
   "outputs": [
    {
     "data": {
      "text/plain": [
       "GridSearchCV(cv=10, estimator=KNeighborsClassifier(),\n",
       "             param_grid={'n_neighbors': range(1, 30), 'p': [1, 2],\n",
       "                         'weights': ['uniform', 'distance']},\n",
       "             scoring='accuracy')"
      ]
     },
     "execution_count": 91,
     "metadata": {},
     "output_type": "execute_result"
    }
   ],
   "source": [
    "knn_grid_model.fit(X_train_scaled, y_train)"
   ]
  },
  {
   "cell_type": "code",
   "execution_count": 92,
   "metadata": {},
   "outputs": [
    {
     "data": {
      "text/plain": [
       "{'n_neighbors': 2, 'p': 1, 'weights': 'uniform'}"
      ]
     },
     "execution_count": 92,
     "metadata": {},
     "output_type": "execute_result"
    }
   ],
   "source": [
    "knn_grid_model.best_params_"
   ]
  },
  {
   "cell_type": "code",
   "execution_count": 93,
   "metadata": {},
   "outputs": [
    {
     "data": {
      "text/plain": [
       "0.9560331176570747"
      ]
     },
     "execution_count": 93,
     "metadata": {},
     "output_type": "execute_result"
    }
   ],
   "source": [
    "knn_grid_model.best_score_"
   ]
  },
  {
   "cell_type": "code",
   "execution_count": 94,
   "metadata": {},
   "outputs": [
    {
     "name": "stdout",
     "output_type": "stream",
     "text": [
      "Test_Set\n",
      "[[2936   65]\n",
      " [ 108  489]]\n",
      "              precision    recall  f1-score   support\n",
      "\n",
      "           0       0.96      0.98      0.97      3001\n",
      "           1       0.88      0.82      0.85       597\n",
      "\n",
      "    accuracy                           0.95      3598\n",
      "   macro avg       0.92      0.90      0.91      3598\n",
      "weighted avg       0.95      0.95      0.95      3598\n",
      "\n",
      "\n",
      "Train_Set\n",
      "[[6999    0]\n",
      " [ 167 1227]]\n",
      "              precision    recall  f1-score   support\n",
      "\n",
      "           0       0.98      1.00      0.99      6999\n",
      "           1       1.00      0.88      0.94      1394\n",
      "\n",
      "    accuracy                           0.98      8393\n",
      "   macro avg       0.99      0.94      0.96      8393\n",
      "weighted avg       0.98      0.98      0.98      8393\n",
      "\n"
     ]
    }
   ],
   "source": [
    "eval_metric(knn_grid_model, X_train_scaled, y_train, X_test_scaled, y_test)"
   ]
  },
  {
   "cell_type": "markdown",
   "metadata": {
    "id": "_BYTdWlr2soJ"
   },
   "source": [
    "#### Prediction"
   ]
  },
  {
   "cell_type": "code",
   "execution_count": 95,
   "metadata": {},
   "outputs": [],
   "source": [
    "y_pred = knn_grid_model.predict(X_test_scaled)"
   ]
  },
  {
   "cell_type": "code",
   "execution_count": 96,
   "metadata": {},
   "outputs": [],
   "source": [
    "y_pred_proba = knn_grid_model.predict_proba(X_test_scaled)"
   ]
  },
  {
   "cell_type": "code",
   "execution_count": 97,
   "metadata": {},
   "outputs": [],
   "source": [
    "my_dict = {\"Actual\": y_test, \"Pred\":y_pred, \"Proba_1\":y_pred_proba[:,1], \"Proba_0\":y_pred_proba[:,0]}"
   ]
  },
  {
   "cell_type": "code",
   "execution_count": 98,
   "metadata": {},
   "outputs": [
    {
     "data": {
      "text/html": [
       "<div>\n",
       "<style scoped>\n",
       "    .dataframe tbody tr th:only-of-type {\n",
       "        vertical-align: middle;\n",
       "    }\n",
       "\n",
       "    .dataframe tbody tr th {\n",
       "        vertical-align: top;\n",
       "    }\n",
       "\n",
       "    .dataframe thead th {\n",
       "        text-align: right;\n",
       "    }\n",
       "</style>\n",
       "<table border=\"1\" class=\"dataframe\">\n",
       "  <thead>\n",
       "    <tr style=\"text-align: right;\">\n",
       "      <th></th>\n",
       "      <th>Actual</th>\n",
       "      <th>Pred</th>\n",
       "      <th>Proba_1</th>\n",
       "      <th>Proba_0</th>\n",
       "    </tr>\n",
       "  </thead>\n",
       "  <tbody>\n",
       "    <tr>\n",
       "      <th>11690</th>\n",
       "      <td>0</td>\n",
       "      <td>0</td>\n",
       "      <td>0.0</td>\n",
       "      <td>1.0</td>\n",
       "    </tr>\n",
       "    <tr>\n",
       "      <th>9449</th>\n",
       "      <td>0</td>\n",
       "      <td>0</td>\n",
       "      <td>0.0</td>\n",
       "      <td>1.0</td>\n",
       "    </tr>\n",
       "    <tr>\n",
       "      <th>10084</th>\n",
       "      <td>0</td>\n",
       "      <td>0</td>\n",
       "      <td>0.0</td>\n",
       "      <td>1.0</td>\n",
       "    </tr>\n",
       "    <tr>\n",
       "      <th>2049</th>\n",
       "      <td>0</td>\n",
       "      <td>0</td>\n",
       "      <td>0.0</td>\n",
       "      <td>1.0</td>\n",
       "    </tr>\n",
       "    <tr>\n",
       "      <th>598</th>\n",
       "      <td>1</td>\n",
       "      <td>1</td>\n",
       "      <td>1.0</td>\n",
       "      <td>0.0</td>\n",
       "    </tr>\n",
       "    <tr>\n",
       "      <th>580</th>\n",
       "      <td>1</td>\n",
       "      <td>1</td>\n",
       "      <td>1.0</td>\n",
       "      <td>0.0</td>\n",
       "    </tr>\n",
       "    <tr>\n",
       "      <th>1142</th>\n",
       "      <td>1</td>\n",
       "      <td>1</td>\n",
       "      <td>1.0</td>\n",
       "      <td>0.0</td>\n",
       "    </tr>\n",
       "    <tr>\n",
       "      <th>3033</th>\n",
       "      <td>0</td>\n",
       "      <td>0</td>\n",
       "      <td>0.0</td>\n",
       "      <td>1.0</td>\n",
       "    </tr>\n",
       "    <tr>\n",
       "      <th>6936</th>\n",
       "      <td>0</td>\n",
       "      <td>0</td>\n",
       "      <td>0.0</td>\n",
       "      <td>1.0</td>\n",
       "    </tr>\n",
       "    <tr>\n",
       "      <th>6716</th>\n",
       "      <td>0</td>\n",
       "      <td>0</td>\n",
       "      <td>0.0</td>\n",
       "      <td>1.0</td>\n",
       "    </tr>\n",
       "  </tbody>\n",
       "</table>\n",
       "</div>"
      ],
      "text/plain": [
       "       Actual  Pred  Proba_1  Proba_0\n",
       "11690       0     0      0.0      1.0\n",
       "9449        0     0      0.0      1.0\n",
       "10084       0     0      0.0      1.0\n",
       "2049        0     0      0.0      1.0\n",
       "598         1     1      1.0      0.0\n",
       "580         1     1      1.0      0.0\n",
       "1142        1     1      1.0      0.0\n",
       "3033        0     0      0.0      1.0\n",
       "6936        0     0      0.0      1.0\n",
       "6716        0     0      0.0      1.0"
      ]
     },
     "execution_count": 98,
     "metadata": {},
     "output_type": "execute_result"
    }
   ],
   "source": [
    "pd.DataFrame.from_dict(my_dict).sample(10)"
   ]
  },
  {
   "cell_type": "code",
   "execution_count": 99,
   "metadata": {},
   "outputs": [],
   "source": [
    "knn_f1 = f1_score(y_test, y_pred)\n",
    "knn_recall = recall_score(y_test, y_pred)\n",
    "knn_auc = roc_auc_score(y_test, y_pred)"
   ]
  },
  {
   "cell_type": "markdown",
   "metadata": {
    "id": "PfMy1D_p2soK"
   },
   "source": [
    "### #Random Forest Classifier"
   ]
  },
  {
   "cell_type": "markdown",
   "metadata": {
    "id": "M4GifMUw2soL"
   },
   "source": [
    "#### Model Building"
   ]
  },
  {
   "cell_type": "code",
   "execution_count": 100,
   "metadata": {
    "id": "uhjBZQbu2soN"
   },
   "outputs": [],
   "source": [
    "from sklearn.ensemble import RandomForestClassifier"
   ]
  },
  {
   "cell_type": "code",
   "execution_count": 101,
   "metadata": {},
   "outputs": [],
   "source": [
    "rf_model = RandomForestClassifier(random_state=42)"
   ]
  },
  {
   "cell_type": "code",
   "execution_count": 102,
   "metadata": {},
   "outputs": [
    {
     "data": {
      "text/plain": [
       "RandomForestClassifier(random_state=42)"
      ]
     },
     "execution_count": 102,
     "metadata": {},
     "output_type": "execute_result"
    }
   ],
   "source": [
    "rf_model.fit(X_train,y_train)"
   ]
  },
  {
   "cell_type": "code",
   "execution_count": null,
   "metadata": {},
   "outputs": [],
   "source": []
  },
  {
   "cell_type": "markdown",
   "metadata": {
    "id": "xRUPvrME2soc"
   },
   "source": [
    "#### Evaluating Model Performance"
   ]
  },
  {
   "cell_type": "code",
   "execution_count": 103,
   "metadata": {
    "id": "tXKuonpN2soe"
   },
   "outputs": [
    {
     "name": "stdout",
     "output_type": "stream",
     "text": [
      "Test_Set\n",
      "[[2995    6]\n",
      " [  59  538]]\n",
      "              precision    recall  f1-score   support\n",
      "\n",
      "           0       0.98      1.00      0.99      3001\n",
      "           1       0.99      0.90      0.94       597\n",
      "\n",
      "    accuracy                           0.98      3598\n",
      "   macro avg       0.98      0.95      0.97      3598\n",
      "weighted avg       0.98      0.98      0.98      3598\n",
      "\n",
      "\n",
      "Train_Set\n",
      "[[6999    0]\n",
      " [   0 1394]]\n",
      "              precision    recall  f1-score   support\n",
      "\n",
      "           0       1.00      1.00      1.00      6999\n",
      "           1       1.00      1.00      1.00      1394\n",
      "\n",
      "    accuracy                           1.00      8393\n",
      "   macro avg       1.00      1.00      1.00      8393\n",
      "weighted avg       1.00      1.00      1.00      8393\n",
      "\n"
     ]
    }
   ],
   "source": [
    "eval_metric(rf_model, X_train, y_train, X_test, y_test)"
   ]
  },
  {
   "cell_type": "markdown",
   "metadata": {},
   "source": [
    "Cross Validate for Random Forest"
   ]
  },
  {
   "cell_type": "code",
   "execution_count": 104,
   "metadata": {},
   "outputs": [
    {
     "data": {
      "text/plain": [
       "test_accuracy     0.982247\n",
       "test_precision    0.984544\n",
       "test_recall       0.907431\n",
       "test_f1           0.944245\n",
       "test_roc_auc      0.980186\n",
       "dtype: float64"
      ]
     },
     "execution_count": 104,
     "metadata": {},
     "output_type": "execute_result"
    }
   ],
   "source": [
    "model = RandomForestClassifier(random_state=42)\n",
    "\n",
    "scores = cross_validate(model, X_train, y_train, scoring = ['accuracy', 'precision','recall',\n",
    "                                                                   'f1', 'roc_auc'], cv = 10)\n",
    "df_scores = pd.DataFrame(scores, index = range(1, 11))\n",
    "df_scores.mean()[2:]"
   ]
  },
  {
   "cell_type": "code",
   "execution_count": 105,
   "metadata": {},
   "outputs": [
    {
     "data": {
      "image/png": "[encoded data removed]",
      "text/plain": [
       "<Figure size 800x550 with 1 Axes>"
      ]
     },
     "metadata": {},
     "output_type": "display_data"
    }
   ],
   "source": [
    "plot_precision_recall_curve(rf_model, X_test, y_test);"
   ]
  },
  {
   "cell_type": "markdown",
   "metadata": {},
   "source": [
    "GridSeach for Random Forest"
   ]
  },
  {
   "cell_type": "code",
   "execution_count": 106,
   "metadata": {},
   "outputs": [],
   "source": [
    "param_grid = {'n_estimators':[50, 64, 100, 128, 300],   # Araştırmalara göre 64 ve 128 sayıları mutlaka denenmeli \n",
    "             'max_features':[2, 3, 4, \"auto\"],\n",
    "             'max_depth':[3, 5, 7, 9],\n",
    "             'min_samples_split':[2, 5, 8]}"
   ]
  },
  {
   "cell_type": "code",
   "execution_count": 107,
   "metadata": {},
   "outputs": [
    {
     "name": "stdout",
     "output_type": "stream",
     "text": [
      "Fitting 5 folds for each of 240 candidates, totalling 1200 fits\n"
     ]
    }
   ],
   "source": [
    "model = RandomForestClassifier(class_weight = \"balanced\", random_state=42)\n",
    "rf_grid = GridSearchCV(model, param_grid, scoring = \"recall\", n_jobs = -1, verbose = 2).fit(X_train, y_train)"
   ]
  },
  {
   "cell_type": "code",
   "execution_count": 108,
   "metadata": {},
   "outputs": [
    {
     "data": {
      "text/plain": [
       "{'max_depth': 5,\n",
       " 'max_features': 4,\n",
       " 'min_samples_split': 8,\n",
       " 'n_estimators': 128}"
      ]
     },
     "execution_count": 108,
     "metadata": {},
     "output_type": "execute_result"
    }
   ],
   "source": [
    "rf_grid.best_params_"
   ]
  },
  {
   "cell_type": "code",
   "execution_count": 109,
   "metadata": {},
   "outputs": [
    {
     "data": {
      "text/plain": [
       "0.9268198344550168"
      ]
     },
     "execution_count": 109,
     "metadata": {},
     "output_type": "execute_result"
    }
   ],
   "source": [
    "rf_grid.best_score_"
   ]
  },
  {
   "cell_type": "code",
   "execution_count": 110,
   "metadata": {},
   "outputs": [
    {
     "name": "stdout",
     "output_type": "stream",
     "text": [
      "Test_Set\n",
      "[[2910   91]\n",
      " [  53  544]]\n",
      "              precision    recall  f1-score   support\n",
      "\n",
      "           0       0.98      0.97      0.98      3001\n",
      "           1       0.86      0.91      0.88       597\n",
      "\n",
      "    accuracy                           0.96      3598\n",
      "   macro avg       0.92      0.94      0.93      3598\n",
      "weighted avg       0.96      0.96      0.96      3598\n",
      "\n",
      "\n",
      "Train_Set\n",
      "[[6799  200]\n",
      " [  96 1298]]\n",
      "              precision    recall  f1-score   support\n",
      "\n",
      "           0       0.99      0.97      0.98      6999\n",
      "           1       0.87      0.93      0.90      1394\n",
      "\n",
      "    accuracy                           0.96      8393\n",
      "   macro avg       0.93      0.95      0.94      8393\n",
      "weighted avg       0.97      0.96      0.97      8393\n",
      "\n",
      "[CV] END max_depth=3, max_features=2, min_samples_split=2, n_estimators=50; total time=   0.2s\n",
      "[CV] END max_depth=3, max_features=2, min_samples_split=2, n_estimators=128; total time=   0.4s\n",
      "[CV] END max_depth=3, max_features=2, min_samples_split=5, n_estimators=50; total time=   0.2s\n",
      "[CV] END max_depth=3, max_features=2, min_samples_split=5, n_estimators=64; total time=   0.2s\n",
      "[CV] END max_depth=3, max_features=2, min_samples_split=5, n_estimators=128; total time=   0.4s\n",
      "[CV] END max_depth=3, max_features=2, min_samples_split=8, n_estimators=50; total time=   0.2s\n",
      "[CV] END max_depth=3, max_features=2, min_samples_split=8, n_estimators=64; total time=   0.2s\n",
      "[CV] END max_depth=3, max_features=2, min_samples_split=8, n_estimators=128; total time=   0.4s\n",
      "[CV] END max_depth=3, max_features=3, min_samples_split=2, n_estimators=50; total time=   0.2s\n",
      "[CV] END max_depth=3, max_features=3, min_samples_split=2, n_estimators=64; total time=   0.2s\n",
      "[CV] END max_depth=3, max_features=3, min_samples_split=2, n_estimators=128; total time=   0.4s\n",
      "[CV] END max_depth=3, max_features=3, min_samples_split=5, n_estimators=50; total time=   0.2s\n",
      "[CV] END max_depth=3, max_features=3, min_samples_split=5, n_estimators=64; total time=   0.2s\n",
      "[CV] END max_depth=3, max_features=3, min_samples_split=5, n_estimators=100; total time=   0.3s\n",
      "[CV] END max_depth=3, max_features=3, min_samples_split=5, n_estimators=128; total time=   0.4s\n",
      "[CV] END max_depth=3, max_features=3, min_samples_split=8, n_estimators=100; total time=   0.3s\n",
      "[CV] END max_depth=3, max_features=3, min_samples_split=8, n_estimators=128; total time=   0.4s\n",
      "[CV] END max_depth=3, max_features=4, min_samples_split=2, n_estimators=50; total time=   0.2s\n",
      "[CV] END max_depth=3, max_features=4, min_samples_split=2, n_estimators=100; total time=   0.3s\n",
      "[CV] END max_depth=3, max_features=4, min_samples_split=2, n_estimators=128; total time=   0.4s\n",
      "[CV] END max_depth=3, max_features=4, min_samples_split=5, n_estimators=64; total time=   0.2s\n",
      "[CV] END max_depth=3, max_features=4, min_samples_split=5, n_estimators=100; total time=   0.3s\n",
      "[CV] END max_depth=3, max_features=4, min_samples_split=5, n_estimators=128; total time=   0.4s\n",
      "[CV] END max_depth=3, max_features=4, min_samples_split=8, n_estimators=100; total time=   0.3s\n",
      "[CV] END max_depth=3, max_features=4, min_samples_split=8, n_estimators=128; total time=   0.4s\n",
      "[CV] END max_depth=3, max_features=auto, min_samples_split=2, n_estimators=50; total time=   0.2s\n",
      "[CV] END max_depth=3, max_features=auto, min_samples_split=2, n_estimators=100; total time=   0.3s\n",
      "[CV] END max_depth=3, max_features=auto, min_samples_split=2, n_estimators=128; total time=   0.4s\n",
      "[CV] END max_depth=3, max_features=auto, min_samples_split=5, n_estimators=64; total time=   0.2s\n",
      "[CV] END max_depth=3, max_features=auto, min_samples_split=5, n_estimators=100; total time=   0.3s\n",
      "[CV] END max_depth=3, max_features=auto, min_samples_split=5, n_estimators=128; total time=   0.4s\n",
      "[CV] END max_depth=3, max_features=auto, min_samples_split=8, n_estimators=64; total time=   0.2s\n",
      "[CV] END max_depth=3, max_features=auto, min_samples_split=8, n_estimators=128; total time=   0.4s\n",
      "[CV] END max_depth=5, max_features=2, min_samples_split=2, n_estimators=50; total time=   0.2s\n",
      "[CV] END max_depth=5, max_features=2, min_samples_split=2, n_estimators=64; total time=   0.2s\n",
      "[CV] END max_depth=5, max_features=2, min_samples_split=2, n_estimators=100; total time=   0.3s\n",
      "[CV] END max_depth=5, max_features=2, min_samples_split=2, n_estimators=300; total time=   1.0s\n",
      "[CV] END max_depth=5, max_features=2, min_samples_split=5, n_estimators=300; total time=   1.0s\n",
      "[CV] END max_depth=5, max_features=3, min_samples_split=2, n_estimators=50; total time=   0.2s\n",
      "[CV] END max_depth=5, max_features=3, min_samples_split=2, n_estimators=64; total time=   0.2s\n",
      "[CV] END max_depth=5, max_features=3, min_samples_split=2, n_estimators=100; total time=   0.4s\n",
      "[CV] END max_depth=5, max_features=3, min_samples_split=2, n_estimators=300; total time=   1.0s\n",
      "[CV] END max_depth=5, max_features=3, min_samples_split=8, n_estimators=50; total time=   0.2s\n",
      "[CV] END max_depth=5, max_features=3, min_samples_split=8, n_estimators=64; total time=   0.2s\n",
      "[CV] END max_depth=5, max_features=3, min_samples_split=8, n_estimators=100; total time=   0.4s\n",
      "[CV] END max_depth=5, max_features=3, min_samples_split=8, n_estimators=128; total time=   0.5s\n",
      "[CV] END max_depth=5, max_features=4, min_samples_split=2, n_estimators=64; total time=   0.3s\n",
      "[CV] END max_depth=5, max_features=4, min_samples_split=2, n_estimators=128; total time=   0.5s\n",
      "[CV] END max_depth=5, max_features=4, min_samples_split=5, n_estimators=50; total time=   0.2s\n",
      "[CV] END max_depth=5, max_features=4, min_samples_split=5, n_estimators=64; total time=   0.3s\n",
      "[CV] END max_depth=5, max_features=4, min_samples_split=5, n_estimators=100; total time=   0.4s\n",
      "[CV] END max_depth=5, max_features=4, min_samples_split=5, n_estimators=300; total time=   1.2s\n",
      "[CV] END max_depth=5, max_features=4, min_samples_split=8, n_estimators=300; total time=   1.2s\n",
      "[CV] END max_depth=5, max_features=auto, min_samples_split=5, n_estimators=50; total time=   0.2s\n",
      "[CV] END max_depth=5, max_features=auto, min_samples_split=5, n_estimators=64; total time=   0.3s\n",
      "[CV] END max_depth=5, max_features=auto, min_samples_split=5, n_estimators=128; total time=   0.5s\n",
      "[CV] END max_depth=5, max_features=auto, min_samples_split=5, n_estimators=300; total time=   1.2s\n",
      "[CV] END max_depth=7, max_features=2, min_samples_split=2, n_estimators=50; total time=   0.2s\n",
      "[CV] END max_depth=7, max_features=2, min_samples_split=2, n_estimators=64; total time=   0.2s\n",
      "[CV] END max_depth=7, max_features=2, min_samples_split=2, n_estimators=128; total time=   0.5s\n",
      "[CV] END max_depth=7, max_features=2, min_samples_split=5, n_estimators=50; total time=   0.2s\n",
      "[CV] END max_depth=7, max_features=2, min_samples_split=5, n_estimators=64; total time=   0.3s\n",
      "[CV] END max_depth=7, max_features=2, min_samples_split=5, n_estimators=100; total time=   0.4s\n",
      "[CV] END max_depth=7, max_features=2, min_samples_split=5, n_estimators=300; total time=   1.2s\n",
      "[CV] END max_depth=7, max_features=2, min_samples_split=8, n_estimators=300; total time=   1.2s\n",
      "[CV] END max_depth=7, max_features=3, min_samples_split=2, n_estimators=300; total time=   1.3s\n",
      "[CV] END max_depth=7, max_features=3, min_samples_split=8, n_estimators=50; total time=   0.2s\n",
      "[CV] END max_depth=7, max_features=3, min_samples_split=8, n_estimators=64; total time=   0.3s\n",
      "[CV] END max_depth=7, max_features=3, min_samples_split=8, n_estimators=128; total time=   0.5s\n",
      "[CV] END max_depth=7, max_features=3, min_samples_split=8, n_estimators=300; total time=   1.2s\n",
      "[CV] END max_depth=7, max_features=4, min_samples_split=5, n_estimators=50; total time=   0.2s\n",
      "[CV] END max_depth=7, max_features=4, min_samples_split=5, n_estimators=64; total time=   0.3s\n",
      "[CV] END max_depth=7, max_features=4, min_samples_split=5, n_estimators=128; total time=   0.6s\n",
      "[CV] END max_depth=7, max_features=4, min_samples_split=5, n_estimators=300; total time=   1.4s\n",
      "[CV] END max_depth=7, max_features=auto, min_samples_split=2, n_estimators=50; total time=   0.2s\n",
      "[CV] END max_depth=7, max_features=auto, min_samples_split=2, n_estimators=64; total time=   0.3s\n",
      "[CV] END max_depth=7, max_features=auto, min_samples_split=2, n_estimators=100; total time=   0.4s\n",
      "[CV] END max_depth=7, max_features=auto, min_samples_split=2, n_estimators=300; total time=   1.4s\n",
      "[CV] END max_depth=7, max_features=auto, min_samples_split=5, n_estimators=300; total time=   1.3s\n",
      "[CV] END max_depth=9, max_features=2, min_samples_split=2, n_estimators=50; total time=   0.2s\n",
      "[CV] END max_depth=9, max_features=2, min_samples_split=2, n_estimators=64; total time=   0.3s\n",
      "[CV] END max_depth=9, max_features=2, min_samples_split=2, n_estimators=128; total time=   0.5s\n",
      "[CV] END max_depth=9, max_features=2, min_samples_split=2, n_estimators=300; total time=   1.2s\n",
      "[CV] END max_depth=9, max_features=2, min_samples_split=8, n_estimators=50; total time=   0.2s\n",
      "[CV] END max_depth=9, max_features=2, min_samples_split=8, n_estimators=64; total time=   0.3s\n",
      "[CV] END max_depth=9, max_features=2, min_samples_split=8, n_estimators=100; total time=   0.4s\n",
      "[CV] END max_depth=9, max_features=2, min_samples_split=8, n_estimators=300; total time=   1.2s\n",
      "[CV] END max_depth=9, max_features=3, min_samples_split=2, n_estimators=300; total time=   1.3s\n",
      "[CV] END max_depth=9, max_features=3, min_samples_split=8, n_estimators=50; total time=   0.2s\n",
      "[CV] END max_depth=9, max_features=3, min_samples_split=8, n_estimators=100; total time=   0.4s\n",
      "[CV] END max_depth=9, max_features=3, min_samples_split=8, n_estimators=128; total time=   0.5s\n",
      "[CV] END max_depth=9, max_features=4, min_samples_split=2, n_estimators=50; total time=   0.2s\n",
      "[CV] END max_depth=9, max_features=4, min_samples_split=2, n_estimators=100; total time=   0.5s\n",
      "[CV] END max_depth=9, max_features=4, min_samples_split=2, n_estimators=128; total time=   0.6s\n",
      "[CV] END max_depth=9, max_features=4, min_samples_split=5, n_estimators=64; total time=   0.3s\n",
      "[CV] END max_depth=9, max_features=4, min_samples_split=5, n_estimators=128; total time=   0.6s\n",
      "[CV] END max_depth=9, max_features=4, min_samples_split=5, n_estimators=300; total time=   1.4s\n",
      "[CV] END max_depth=9, max_features=auto, min_samples_split=2, n_estimators=50; total time=   0.2s\n",
      "[CV] END max_depth=9, max_features=auto, min_samples_split=2, n_estimators=64; total time=   0.3s\n",
      "[CV] END max_depth=9, max_features=auto, min_samples_split=2, n_estimators=128; total time=   0.6s\n",
      "[CV] END max_depth=9, max_features=auto, min_samples_split=2, n_estimators=300; total time=   1.4s\n",
      "[CV] END max_depth=9, max_features=auto, min_samples_split=8, n_estimators=50; total time=   0.2s\n",
      "[CV] END max_depth=9, max_features=auto, min_samples_split=8, n_estimators=64; total time=   0.3s\n",
      "[CV] END max_depth=9, max_features=auto, min_samples_split=8, n_estimators=128; total time=   0.6s\n",
      "[CV] END max_depth=3, max_features=2, min_samples_split=2, n_estimators=64; total time=   0.2s\n",
      "[CV] END max_depth=3, max_features=2, min_samples_split=2, n_estimators=128; total time=   0.4s\n",
      "[CV] END max_depth=3, max_features=2, min_samples_split=5, n_estimators=50; total time=   0.2s\n",
      "[CV] END max_depth=3, max_features=2, min_samples_split=5, n_estimators=100; total time=   0.3s\n",
      "[CV] END max_depth=3, max_features=2, min_samples_split=5, n_estimators=128; total time=   0.4s\n",
      "[CV] END max_depth=3, max_features=2, min_samples_split=8, n_estimators=64; total time=   0.2s\n",
      "[CV] END max_depth=3, max_features=2, min_samples_split=8, n_estimators=128; total time=   0.4s\n",
      "[CV] END max_depth=3, max_features=3, min_samples_split=2, n_estimators=50; total time=   0.2s\n",
      "[CV] END max_depth=3, max_features=3, min_samples_split=2, n_estimators=50; total time=   0.2s\n",
      "[CV] END max_depth=3, max_features=3, min_samples_split=2, n_estimators=100; total time=   0.3s\n",
      "[CV] END max_depth=3, max_features=3, min_samples_split=2, n_estimators=128; total time=   0.4s\n",
      "[CV] END max_depth=3, max_features=3, min_samples_split=5, n_estimators=64; total time=   0.2s\n",
      "[CV] END max_depth=3, max_features=3, min_samples_split=5, n_estimators=128; total time=   0.4s\n",
      "[CV] END max_depth=3, max_features=3, min_samples_split=5, n_estimators=300; total time=   0.9s\n",
      "[CV] END max_depth=3, max_features=4, min_samples_split=2, n_estimators=50; total time=   0.2s\n",
      "[CV] END max_depth=3, max_features=4, min_samples_split=2, n_estimators=64; total time=   0.2s\n",
      "[CV] END max_depth=3, max_features=4, min_samples_split=2, n_estimators=128; total time=   0.4s\n",
      "[CV] END max_depth=3, max_features=4, min_samples_split=5, n_estimators=50; total time=   0.2s\n",
      "[CV] END max_depth=3, max_features=4, min_samples_split=5, n_estimators=64; total time=   0.2s\n",
      "[CV] END max_depth=3, max_features=4, min_samples_split=5, n_estimators=128; total time=   0.4s\n",
      "[CV] END max_depth=3, max_features=4, min_samples_split=5, n_estimators=300; total time=   1.0s\n",
      "[CV] END max_depth=3, max_features=auto, min_samples_split=2, n_estimators=50; total time=   0.2s\n",
      "[CV] END max_depth=3, max_features=auto, min_samples_split=2, n_estimators=64; total time=   0.2s\n",
      "[CV] END max_depth=3, max_features=auto, min_samples_split=2, n_estimators=100; total time=   0.3s\n",
      "[CV] END max_depth=3, max_features=auto, min_samples_split=2, n_estimators=300; total time=   1.0s\n",
      "[CV] END max_depth=3, max_features=auto, min_samples_split=5, n_estimators=300; total time=   1.0s\n",
      "[CV] END max_depth=5, max_features=2, min_samples_split=2, n_estimators=50; total time=   0.2s\n",
      "[CV] END max_depth=5, max_features=2, min_samples_split=2, n_estimators=64; total time=   0.2s\n",
      "[CV] END max_depth=5, max_features=2, min_samples_split=2, n_estimators=128; total time=   0.4s\n",
      "[CV] END max_depth=5, max_features=2, min_samples_split=5, n_estimators=50; total time=   0.2s\n",
      "[CV] END max_depth=5, max_features=2, min_samples_split=5, n_estimators=64; total time=   0.2s\n",
      "[CV] END max_depth=5, max_features=2, min_samples_split=5, n_estimators=100; total time=   0.3s\n",
      "[CV] END max_depth=5, max_features=2, min_samples_split=5, n_estimators=128; total time=   0.4s\n",
      "[CV] END max_depth=5, max_features=2, min_samples_split=8, n_estimators=100; total time=   0.4s\n",
      "[CV] END max_depth=5, max_features=2, min_samples_split=8, n_estimators=128; total time=   0.4s\n",
      "[CV] END max_depth=5, max_features=3, min_samples_split=2, n_estimators=50; total time=   0.2s\n",
      "[CV] END max_depth=5, max_features=3, min_samples_split=2, n_estimators=100; total time=   0.3s\n",
      "[CV] END max_depth=5, max_features=3, min_samples_split=2, n_estimators=128; total time=   0.4s\n",
      "[CV] END max_depth=5, max_features=3, min_samples_split=5, n_estimators=64; total time=   0.2s\n",
      "[CV] END max_depth=5, max_features=3, min_samples_split=5, n_estimators=100; total time=   0.4s\n",
      "[CV] END max_depth=5, max_features=3, min_samples_split=5, n_estimators=300; total time=   1.1s\n",
      "[CV] END max_depth=5, max_features=3, min_samples_split=8, n_estimators=300; total time=   1.1s\n",
      "[CV] END max_depth=5, max_features=4, min_samples_split=5, n_estimators=50; total time=   0.2s\n",
      "[CV] END max_depth=5, max_features=4, min_samples_split=5, n_estimators=64; total time=   0.3s\n",
      "[CV] END max_depth=5, max_features=4, min_samples_split=5, n_estimators=100; total time=   0.4s\n",
      "[CV] END max_depth=5, max_features=4, min_samples_split=5, n_estimators=128; total time=   0.5s\n",
      "[CV] END max_depth=5, max_features=4, min_samples_split=8, n_estimators=100; total time=   0.4s\n",
      "[CV] END max_depth=5, max_features=4, min_samples_split=8, n_estimators=128; total time=   0.5s\n",
      "[CV] END max_depth=5, max_features=auto, min_samples_split=2, n_estimators=50; total time=   0.2s\n",
      "[CV] END max_depth=5, max_features=auto, min_samples_split=2, n_estimators=100; total time=   0.4s\n",
      "[CV] END max_depth=5, max_features=auto, min_samples_split=2, n_estimators=128; total time=   0.5s\n",
      "[CV] END max_depth=5, max_features=auto, min_samples_split=5, n_estimators=64; total time=   0.3s\n",
      "[CV] END max_depth=5, max_features=auto, min_samples_split=5, n_estimators=100; total time=   0.4s\n",
      "[CV] END max_depth=5, max_features=auto, min_samples_split=5, n_estimators=300; total time=   1.2s\n",
      "[CV] END max_depth=5, max_features=auto, min_samples_split=8, n_estimators=300; total time=   1.2s\n",
      "[CV] END max_depth=7, max_features=2, min_samples_split=5, n_estimators=50; total time=   0.2s\n",
      "[CV] END max_depth=7, max_features=2, min_samples_split=5, n_estimators=64; total time=   0.3s\n",
      "[CV] END max_depth=7, max_features=2, min_samples_split=5, n_estimators=128; total time=   0.5s\n",
      "[CV] END max_depth=7, max_features=2, min_samples_split=8, n_estimators=50; total time=   0.2s\n",
      "[CV] END max_depth=7, max_features=2, min_samples_split=8, n_estimators=64; total time=   0.3s\n",
      "[CV] END max_depth=7, max_features=2, min_samples_split=8, n_estimators=100; total time=   0.4s\n",
      "[CV] END max_depth=7, max_features=2, min_samples_split=8, n_estimators=300; total time=   1.2s\n",
      "[CV] END max_depth=7, max_features=3, min_samples_split=2, n_estimators=300; total time=   1.3s\n",
      "[CV] END max_depth=7, max_features=3, min_samples_split=8, n_estimators=50; total time=   0.2s\n",
      "[CV] END max_depth=7, max_features=3, min_samples_split=8, n_estimators=64; total time=   0.3s\n",
      "[CV] END max_depth=7, max_features=3, min_samples_split=8, n_estimators=100; total time=   0.4s\n",
      "[CV] END max_depth=7, max_features=3, min_samples_split=8, n_estimators=300; total time=   1.2s\n",
      "[CV] END max_depth=7, max_features=4, min_samples_split=2, n_estimators=300; total time=   1.3s\n",
      "[CV] END max_depth=7, max_features=4, min_samples_split=8, n_estimators=50; total time=   0.2s\n",
      "[CV] END max_depth=7, max_features=4, min_samples_split=8, n_estimators=64; total time=   0.3s\n",
      "[CV] END max_depth=7, max_features=4, min_samples_split=8, n_estimators=100; total time=   0.4s\n",
      "[CV] END max_depth=7, max_features=4, min_samples_split=8, n_estimators=300; total time=   1.4s\n",
      "[CV] END max_depth=7, max_features=auto, min_samples_split=2, n_estimators=300; total time=   1.4s\n",
      "[CV] END max_depth=7, max_features=auto, min_samples_split=8, n_estimators=50; total time=   0.2s\n",
      "[CV] END max_depth=7, max_features=auto, min_samples_split=8, n_estimators=64; total time=   0.3s\n",
      "[CV] END max_depth=7, max_features=auto, min_samples_split=8, n_estimators=100; total time=   0.5s\n",
      "[CV] END max_depth=7, max_features=auto, min_samples_split=8, n_estimators=300; total time=   1.4s\n",
      "[CV] END max_depth=9, max_features=2, min_samples_split=5, n_estimators=50; total time=   0.2s\n",
      "[CV] END max_depth=9, max_features=2, min_samples_split=5, n_estimators=64; total time=   0.3s\n",
      "[CV] END max_depth=9, max_features=2, min_samples_split=5, n_estimators=100; total time=   0.4s\n",
      "[CV] END max_depth=9, max_features=2, min_samples_split=5, n_estimators=300; total time=   1.2s\n",
      "[CV] END max_depth=9, max_features=2, min_samples_split=8, n_estimators=300; total time=   1.2s\n",
      "[CV] END max_depth=9, max_features=3, min_samples_split=2, n_estimators=300; total time=   1.3s\n",
      "[CV] END max_depth=9, max_features=3, min_samples_split=8, n_estimators=50; total time=   0.2s\n",
      "[CV] END max_depth=9, max_features=3, min_samples_split=8, n_estimators=64; total time=   0.3s\n",
      "[CV] END max_depth=9, max_features=3, min_samples_split=8, n_estimators=128; total time=   0.6s\n",
      "[CV] END max_depth=9, max_features=3, min_samples_split=8, n_estimators=300; total time=   1.3s\n",
      "[CV] END max_depth=9, max_features=4, min_samples_split=5, n_estimators=50; total time=   0.2s\n",
      "[CV] END max_depth=9, max_features=4, min_samples_split=5, n_estimators=64; total time=   0.3s\n",
      "[CV] END max_depth=9, max_features=4, min_samples_split=5, n_estimators=100; total time=   0.5s\n",
      "[CV] END max_depth=9, max_features=4, min_samples_split=5, n_estimators=300; total time=   1.4s\n",
      "[CV] END max_depth=9, max_features=4, min_samples_split=8, n_estimators=300; total time=   1.4s\n",
      "[CV] END max_depth=9, max_features=auto, min_samples_split=5, n_estimators=50; total time=   0.2s\n",
      "[CV] END max_depth=9, max_features=auto, min_samples_split=5, n_estimators=64; total time=   0.3s\n",
      "[CV] END max_depth=9, max_features=auto, min_samples_split=5, n_estimators=128; total time=   0.6s\n",
      "[CV] END max_depth=9, max_features=auto, min_samples_split=5, n_estimators=300; total time=   1.4s\n",
      "[CV] END max_depth=3, max_features=2, min_samples_split=2, n_estimators=100; total time=   0.3s\n",
      "[CV] END max_depth=3, max_features=2, min_samples_split=2, n_estimators=300; total time=   0.9s\n",
      "[CV] END max_depth=3, max_features=2, min_samples_split=8, n_estimators=50; total time=   0.2s\n",
      "[CV] END max_depth=3, max_features=2, min_samples_split=8, n_estimators=50; total time=   0.2s\n",
      "[CV] END max_depth=3, max_features=2, min_samples_split=8, n_estimators=100; total time=   0.3s\n",
      "[CV] END max_depth=3, max_features=2, min_samples_split=8, n_estimators=128; total time=   0.4s\n",
      "[CV] END max_depth=3, max_features=3, min_samples_split=2, n_estimators=64; total time=   0.2s\n",
      "[CV] END max_depth=3, max_features=3, min_samples_split=2, n_estimators=100; total time=   0.3s\n",
      "[CV] END max_depth=3, max_features=3, min_samples_split=2, n_estimators=300; total time=   0.9s\n",
      "[CV] END max_depth=3, max_features=3, min_samples_split=8, n_estimators=50; total time=   0.2s\n",
      "[CV] END max_depth=3, max_features=3, min_samples_split=8, n_estimators=50; total time=   0.2s\n",
      "[CV] END max_depth=3, max_features=3, min_samples_split=8, n_estimators=100; total time=   0.3s\n",
      "[CV] END max_depth=3, max_features=3, min_samples_split=8, n_estimators=128; total time=   0.4s\n",
      "[CV] END max_depth=3, max_features=4, min_samples_split=2, n_estimators=64; total time=   0.2s\n",
      "[CV] END max_depth=3, max_features=4, min_samples_split=2, n_estimators=100; total time=   0.3s\n",
      "[CV] END max_depth=3, max_features=4, min_samples_split=2, n_estimators=300; total time=   1.0s\n",
      "[CV] END max_depth=3, max_features=4, min_samples_split=5, n_estimators=300; total time=   1.0s\n",
      "[CV] END max_depth=3, max_features=auto, min_samples_split=2, n_estimators=50; total time=   0.2s\n",
      "[CV] END max_depth=3, max_features=auto, min_samples_split=2, n_estimators=64; total time=   0.2s\n",
      "[CV] END max_depth=3, max_features=auto, min_samples_split=2, n_estimators=128; total time=   0.4s\n",
      "[CV] END max_depth=3, max_features=auto, min_samples_split=2, n_estimators=300; total time=   1.0s\n",
      "[CV] END max_depth=3, max_features=auto, min_samples_split=8, n_estimators=50; total time=   0.2s\n",
      "[CV] END max_depth=3, max_features=auto, min_samples_split=8, n_estimators=100; total time=   0.3s\n",
      "[CV] END max_depth=3, max_features=auto, min_samples_split=8, n_estimators=128; total time=   0.4s\n",
      "[CV] END max_depth=5, max_features=2, min_samples_split=2, n_estimators=50; total time=   0.2s\n",
      "[CV] END max_depth=5, max_features=2, min_samples_split=2, n_estimators=100; total time=   0.3s\n",
      "[CV] END max_depth=5, max_features=2, min_samples_split=2, n_estimators=128; total time=   0.4s\n",
      "[CV] END max_depth=5, max_features=2, min_samples_split=5, n_estimators=64; total time=   0.2s\n",
      "[CV] END max_depth=5, max_features=2, min_samples_split=5, n_estimators=100; total time=   0.3s\n",
      "[CV] END max_depth=5, max_features=2, min_samples_split=5, n_estimators=300; total time=   1.0s\n",
      "[CV] END max_depth=5, max_features=2, min_samples_split=8, n_estimators=300; total time=   1.0s\n",
      "[CV] END max_depth=5, max_features=3, min_samples_split=2, n_estimators=300; total time=   1.0s\n",
      "[CV] END max_depth=5, max_features=3, min_samples_split=8, n_estimators=50; total time=   0.2s\n",
      "[CV] END max_depth=5, max_features=3, min_samples_split=8, n_estimators=64; total time=   0.2s\n",
      "[CV] END max_depth=5, max_features=3, min_samples_split=8, n_estimators=128; total time=   0.5s\n",
      "[CV] END max_depth=5, max_features=4, min_samples_split=2, n_estimators=50; total time=   0.2s\n",
      "[CV] END max_depth=5, max_features=4, min_samples_split=2, n_estimators=64; total time=   0.3s\n",
      "[CV] END max_depth=5, max_features=4, min_samples_split=2, n_estimators=100; total time=   0.4s\n",
      "[CV] END max_depth=5, max_features=4, min_samples_split=2, n_estimators=300; total time=   1.2s\n",
      "[CV] END max_depth=5, max_features=4, min_samples_split=8, n_estimators=50; total time=   0.2s\n",
      "[CV] END max_depth=5, max_features=4, min_samples_split=8, n_estimators=50; total time=   0.2s\n",
      "[CV] END max_depth=5, max_features=4, min_samples_split=8, n_estimators=100; total time=   0.4s\n",
      "[CV] END max_depth=5, max_features=4, min_samples_split=8, n_estimators=128; total time=   0.5s\n",
      "[CV] END max_depth=5, max_features=auto, min_samples_split=2, n_estimators=64; total time=   0.3s\n",
      "[CV] END max_depth=5, max_features=auto, min_samples_split=2, n_estimators=100; total time=   0.4s\n",
      "[CV] END max_depth=5, max_features=auto, min_samples_split=2, n_estimators=300; total time=   1.2s\n",
      "[CV] END max_depth=5, max_features=auto, min_samples_split=5, n_estimators=300; total time=   1.2s\n",
      "[CV] END max_depth=7, max_features=2, min_samples_split=2, n_estimators=50; total time=   0.2s\n",
      "[CV] END max_depth=7, max_features=2, min_samples_split=2, n_estimators=64; total time=   0.3s\n",
      "[CV] END max_depth=7, max_features=2, min_samples_split=2, n_estimators=100; total time=   0.4s\n",
      "[CV] END max_depth=7, max_features=2, min_samples_split=2, n_estimators=300; total time=   1.2s\n",
      "[CV] END max_depth=7, max_features=2, min_samples_split=5, n_estimators=300; total time=   1.2s\n",
      "[CV] END max_depth=7, max_features=3, min_samples_split=2, n_estimators=50; total time=   0.2s\n",
      "[CV] END max_depth=7, max_features=3, min_samples_split=2, n_estimators=64; total time=   0.3s\n",
      "[CV] END max_depth=7, max_features=3, min_samples_split=2, n_estimators=128; total time=   0.6s\n",
      "[CV] END max_depth=7, max_features=3, min_samples_split=5, n_estimators=50; total time=   0.2s\n",
      "[CV] END max_depth=7, max_features=3, min_samples_split=5, n_estimators=50; total time=   0.2s\n",
      "[CV] END max_depth=7, max_features=3, min_samples_split=5, n_estimators=100; total time=   0.5s\n",
      "[CV] END max_depth=7, max_features=3, min_samples_split=5, n_estimators=128; total time=   0.6s\n",
      "[CV] END max_depth=7, max_features=3, min_samples_split=8, n_estimators=64; total time=   0.3s\n",
      "[CV] END max_depth=7, max_features=3, min_samples_split=8, n_estimators=100; total time=   0.4s\n",
      "[CV] END max_depth=7, max_features=3, min_samples_split=8, n_estimators=300; total time=   1.2s\n",
      "[CV] END max_depth=7, max_features=4, min_samples_split=2, n_estimators=300; total time=   1.3s\n",
      "[CV] END max_depth=7, max_features=4, min_samples_split=8, n_estimators=50; total time=   0.2s\n",
      "[CV] END max_depth=7, max_features=4, min_samples_split=8, n_estimators=64; total time=   0.3s\n",
      "[CV] END max_depth=7, max_features=4, min_samples_split=8, n_estimators=128; total time=   0.6s\n",
      "[CV] END max_depth=7, max_features=4, min_samples_split=8, n_estimators=300; total time=   1.4s\n",
      "[CV] END max_depth=7, max_features=auto, min_samples_split=5, n_estimators=50; total time=   0.2s\n",
      "[CV] END max_depth=7, max_features=auto, min_samples_split=5, n_estimators=64; total time=   0.3s\n",
      "[CV] END max_depth=7, max_features=auto, min_samples_split=5, n_estimators=128; total time=   0.6s\n",
      "[CV] END max_depth=7, max_features=auto, min_samples_split=8, n_estimators=50; total time=   0.2s\n",
      "[CV] END max_depth=7, max_features=auto, min_samples_split=8, n_estimators=64; total time=   0.3s\n",
      "[CV] END max_depth=7, max_features=auto, min_samples_split=8, n_estimators=100; total time=   0.5s\n",
      "[CV] END max_depth=7, max_features=auto, min_samples_split=8, n_estimators=128; total time=   0.6s\n",
      "[CV] END max_depth=9, max_features=2, min_samples_split=2, n_estimators=100; total time=   0.4s\n",
      "[CV] END max_depth=9, max_features=2, min_samples_split=2, n_estimators=128; total time=   0.5s\n",
      "[CV] END max_depth=9, max_features=2, min_samples_split=5, n_estimators=50; total time=   0.2s\n",
      "[CV] END max_depth=9, max_features=2, min_samples_split=5, n_estimators=100; total time=   0.4s\n",
      "[CV] END max_depth=9, max_features=2, min_samples_split=5, n_estimators=128; total time=   0.5s\n",
      "[CV] END max_depth=9, max_features=2, min_samples_split=8, n_estimators=50; total time=   0.2s\n",
      "[CV] END max_depth=9, max_features=2, min_samples_split=8, n_estimators=100; total time=   0.4s\n",
      "[CV] END max_depth=9, max_features=2, min_samples_split=8, n_estimators=128; total time=   0.5s\n",
      "[CV] END max_depth=9, max_features=3, min_samples_split=2, n_estimators=64; total time=   0.3s\n",
      "[CV] END max_depth=9, max_features=3, min_samples_split=2, n_estimators=100; total time=   0.4s\n",
      "[CV] END max_depth=9, max_features=3, min_samples_split=2, n_estimators=128; total time=   0.6s\n",
      "[CV] END max_depth=9, max_features=3, min_samples_split=5, n_estimators=100; total time=   0.4s\n",
      "[CV] END max_depth=9, max_features=3, min_samples_split=5, n_estimators=128; total time=   0.6s\n",
      "[CV] END max_depth=9, max_features=3, min_samples_split=8, n_estimators=64; total time=   0.3s\n",
      "[CV] END max_depth=9, max_features=3, min_samples_split=8, n_estimators=100; total time=   0.4s\n",
      "[CV] END max_depth=9, max_features=3, min_samples_split=8, n_estimators=300; total time=   1.3s\n",
      "[CV] END max_depth=9, max_features=4, min_samples_split=2, n_estimators=300; total time=   1.4s\n",
      "[CV] END max_depth=9, max_features=4, min_samples_split=8, n_estimators=50; total time=   0.3s\n",
      "[CV] END max_depth=9, max_features=4, min_samples_split=8, n_estimators=64; total time=   0.3s\n",
      "[CV] END max_depth=9, max_features=4, min_samples_split=8, n_estimators=128; total time=   0.6s\n",
      "[CV] END max_depth=9, max_features=4, min_samples_split=8, n_estimators=300; total time=   1.4s\n",
      "[CV] END max_depth=9, max_features=auto, min_samples_split=5, n_estimators=50; total time=   0.2s\n",
      "[CV] END max_depth=9, max_features=auto, min_samples_split=5, n_estimators=64; total time=   0.3s\n",
      "[CV] END max_depth=9, max_features=auto, min_samples_split=5, n_estimators=128; total time=   0.6s\n",
      "[CV] END max_depth=9, max_features=auto, min_samples_split=5, n_estimators=300; total time=   1.4s\n"
     ]
    },
    {
     "name": "stdout",
     "output_type": "stream",
     "text": [
      "[CV] END max_depth=3, max_features=2, min_samples_split=2, n_estimators=64; total time=   0.2s\n",
      "[CV] END max_depth=3, max_features=2, min_samples_split=2, n_estimators=300; total time=   0.9s\n",
      "[CV] END max_depth=3, max_features=2, min_samples_split=5, n_estimators=128; total time=   0.4s\n",
      "[CV] END max_depth=3, max_features=2, min_samples_split=8, n_estimators=64; total time=   0.2s\n",
      "[CV] END max_depth=3, max_features=2, min_samples_split=8, n_estimators=100; total time=   0.3s\n",
      "[CV] END max_depth=3, max_features=2, min_samples_split=8, n_estimators=300; total time=   0.8s\n",
      "[CV] END max_depth=3, max_features=3, min_samples_split=2, n_estimators=300; total time=   0.9s\n",
      "[CV] END max_depth=3, max_features=3, min_samples_split=8, n_estimators=50; total time=   0.2s\n",
      "[CV] END max_depth=3, max_features=3, min_samples_split=8, n_estimators=64; total time=   0.2s\n",
      "[CV] END max_depth=3, max_features=3, min_samples_split=8, n_estimators=128; total time=   0.4s\n",
      "[CV] END max_depth=3, max_features=3, min_samples_split=8, n_estimators=300; total time=   0.9s\n",
      "[CV] END max_depth=3, max_features=4, min_samples_split=5, n_estimators=50; total time=   0.2s\n",
      "[CV] END max_depth=3, max_features=4, min_samples_split=5, n_estimators=64; total time=   0.2s\n",
      "[CV] END max_depth=3, max_features=4, min_samples_split=5, n_estimators=128; total time=   0.4s\n",
      "[CV] END max_depth=3, max_features=4, min_samples_split=5, n_estimators=300; total time=   1.0s\n",
      "[CV] END max_depth=3, max_features=auto, min_samples_split=2, n_estimators=50; total time=   0.2s\n",
      "[CV] END max_depth=3, max_features=auto, min_samples_split=2, n_estimators=100; total time=   0.3s\n",
      "[CV] END max_depth=3, max_features=auto, min_samples_split=2, n_estimators=128; total time=   0.4s\n",
      "[CV] END max_depth=3, max_features=auto, min_samples_split=5, n_estimators=50; total time=   0.2s\n",
      "[CV] END max_depth=3, max_features=auto, min_samples_split=5, n_estimators=100; total time=   0.3s\n",
      "[CV] END max_depth=3, max_features=auto, min_samples_split=5, n_estimators=128; total time=   0.4s\n",
      "[CV] END max_depth=3, max_features=auto, min_samples_split=8, n_estimators=64; total time=   0.2s\n",
      "[CV] END max_depth=3, max_features=auto, min_samples_split=8, n_estimators=100; total time=   0.3s\n",
      "[CV] END max_depth=3, max_features=auto, min_samples_split=8, n_estimators=128; total time=   0.4s\n",
      "[CV] END max_depth=5, max_features=2, min_samples_split=2, n_estimators=100; total time=   0.3s\n",
      "[CV] END max_depth=5, max_features=2, min_samples_split=2, n_estimators=128; total time=   0.4s\n",
      "[CV] END max_depth=5, max_features=2, min_samples_split=5, n_estimators=50; total time=   0.2s\n",
      "[CV] END max_depth=5, max_features=2, min_samples_split=5, n_estimators=100; total time=   0.3s\n",
      "[CV] END max_depth=5, max_features=2, min_samples_split=5, n_estimators=128; total time=   0.4s\n",
      "[CV] END max_depth=5, max_features=2, min_samples_split=8, n_estimators=64; total time=   0.2s\n",
      "[CV] END max_depth=5, max_features=2, min_samples_split=8, n_estimators=100; total time=   0.4s\n",
      "[CV] END max_depth=5, max_features=2, min_samples_split=8, n_estimators=128; total time=   0.4s\n",
      "[CV] END max_depth=5, max_features=3, min_samples_split=2, n_estimators=64; total time=   0.2s\n",
      "[CV] END max_depth=5, max_features=3, min_samples_split=2, n_estimators=128; total time=   0.4s\n",
      "[CV] END max_depth=5, max_features=3, min_samples_split=5, n_estimators=50; total time=   0.2s\n",
      "[CV] END max_depth=5, max_features=3, min_samples_split=5, n_estimators=64; total time=   0.2s\n",
      "[CV] END max_depth=5, max_features=3, min_samples_split=5, n_estimators=128; total time=   0.5s\n",
      "[CV] END max_depth=5, max_features=3, min_samples_split=5, n_estimators=300; total time=   1.1s\n",
      "[CV] END max_depth=5, max_features=4, min_samples_split=2, n_estimators=50; total time=   0.2s\n",
      "[CV] END max_depth=5, max_features=4, min_samples_split=2, n_estimators=64; total time=   0.3s\n",
      "[CV] END max_depth=5, max_features=4, min_samples_split=2, n_estimators=100; total time=   0.4s\n",
      "[CV] END max_depth=5, max_features=4, min_samples_split=2, n_estimators=300; total time=   1.2s\n",
      "[CV] END max_depth=5, max_features=4, min_samples_split=8, n_estimators=50; total time=   0.2s\n",
      "[CV] END max_depth=5, max_features=4, min_samples_split=8, n_estimators=64; total time=   0.3s\n",
      "[CV] END max_depth=5, max_features=4, min_samples_split=8, n_estimators=128; total time=   0.5s\n",
      "[CV] END max_depth=5, max_features=4, min_samples_split=8, n_estimators=300; total time=   1.2s\n",
      "[CV] END max_depth=5, max_features=auto, min_samples_split=5, n_estimators=50; total time=   0.2s\n",
      "[CV] END max_depth=5, max_features=auto, min_samples_split=5, n_estimators=64; total time=   0.3s\n",
      "[CV] END max_depth=5, max_features=auto, min_samples_split=5, n_estimators=128; total time=   0.5s\n",
      "[CV] END max_depth=5, max_features=auto, min_samples_split=5, n_estimators=300; total time=   1.2s\n",
      "[CV] END max_depth=7, max_features=2, min_samples_split=2, n_estimators=50; total time=   0.2s\n",
      "[CV] END max_depth=7, max_features=2, min_samples_split=2, n_estimators=64; total time=   0.3s\n",
      "[CV] END max_depth=7, max_features=2, min_samples_split=2, n_estimators=128; total time=   0.5s\n",
      "[CV] END max_depth=7, max_features=2, min_samples_split=2, n_estimators=300; total time=   1.2s\n",
      "[CV] END max_depth=7, max_features=2, min_samples_split=8, n_estimators=50; total time=   0.2s\n",
      "[CV] END max_depth=7, max_features=2, min_samples_split=8, n_estimators=64; total time=   0.3s\n",
      "[CV] END max_depth=7, max_features=2, min_samples_split=8, n_estimators=128; total time=   0.5s\n",
      "[CV] END max_depth=7, max_features=3, min_samples_split=2, n_estimators=50; total time=   0.2s\n",
      "[CV] END max_depth=7, max_features=3, min_samples_split=2, n_estimators=64; total time=   0.3s\n",
      "[CV] END max_depth=7, max_features=3, min_samples_split=2, n_estimators=100; total time=   0.5s\n",
      "[CV] END max_depth=7, max_features=3, min_samples_split=2, n_estimators=300; total time=   1.3s\n",
      "[CV] END max_depth=7, max_features=3, min_samples_split=5, n_estimators=300; total time=   1.3s\n",
      "[CV] END max_depth=7, max_features=4, min_samples_split=2, n_estimators=50; total time=   0.3s\n",
      "[CV] END max_depth=7, max_features=4, min_samples_split=2, n_estimators=64; total time=   0.3s\n",
      "[CV] END max_depth=7, max_features=4, min_samples_split=2, n_estimators=128; total time=   0.6s\n",
      "[CV] END max_depth=7, max_features=4, min_samples_split=5, n_estimators=50; total time=   0.2s\n",
      "[CV] END max_depth=7, max_features=4, min_samples_split=5, n_estimators=64; total time=   0.3s\n",
      "[CV] END max_depth=7, max_features=4, min_samples_split=5, n_estimators=100; total time=   0.5s\n",
      "[CV] END max_depth=7, max_features=4, min_samples_split=5, n_estimators=300; total time=   1.4s\n",
      "[CV] END max_depth=7, max_features=4, min_samples_split=8, n_estimators=300; total time=   1.4s\n",
      "[CV] END max_depth=7, max_features=auto, min_samples_split=5, n_estimators=50; total time=   0.2s\n",
      "[CV] END max_depth=7, max_features=auto, min_samples_split=5, n_estimators=64; total time=   0.3s\n",
      "[CV] END max_depth=7, max_features=auto, min_samples_split=5, n_estimators=128; total time=   0.6s\n",
      "[CV] END max_depth=7, max_features=auto, min_samples_split=5, n_estimators=300; total time=   1.4s\n",
      "[CV] END max_depth=9, max_features=2, min_samples_split=2, n_estimators=50; total time=   0.2s\n",
      "[CV] END max_depth=9, max_features=2, min_samples_split=2, n_estimators=64; total time=   0.3s\n",
      "[CV] END max_depth=9, max_features=2, min_samples_split=2, n_estimators=100; total time=   0.4s\n",
      "[CV] END max_depth=9, max_features=2, min_samples_split=2, n_estimators=300; total time=   1.2s\n",
      "[CV] END max_depth=9, max_features=2, min_samples_split=5, n_estimators=300; total time=   1.2s\n",
      "[CV] END max_depth=9, max_features=3, min_samples_split=2, n_estimators=50; total time=   0.2s\n",
      "[CV] END max_depth=9, max_features=3, min_samples_split=2, n_estimators=64; total time=   0.3s\n",
      "[CV] END max_depth=9, max_features=3, min_samples_split=2, n_estimators=128; total time=   0.6s\n",
      "[CV] END max_depth=9, max_features=3, min_samples_split=5, n_estimators=50; total time=   0.2s\n",
      "[CV] END max_depth=9, max_features=3, min_samples_split=5, n_estimators=64; total time=   0.3s\n",
      "[CV] END max_depth=9, max_features=3, min_samples_split=5, n_estimators=128; total time=   0.6s\n",
      "[CV] END max_depth=9, max_features=3, min_samples_split=5, n_estimators=300; total time=   1.3s\n",
      "[CV] END max_depth=9, max_features=4, min_samples_split=2, n_estimators=50; total time=   0.2s\n",
      "[CV] END max_depth=9, max_features=4, min_samples_split=2, n_estimators=64; total time=   0.3s\n",
      "[CV] END max_depth=9, max_features=4, min_samples_split=2, n_estimators=100; total time=   0.5s\n",
      "[CV] END max_depth=9, max_features=4, min_samples_split=2, n_estimators=300; total time=   1.4s\n",
      "[CV] END max_depth=9, max_features=4, min_samples_split=8, n_estimators=50; total time=   0.2s\n",
      "[CV] END max_depth=9, max_features=4, min_samples_split=8, n_estimators=50; total time=   0.2s\n",
      "[CV] END max_depth=9, max_features=4, min_samples_split=8, n_estimators=100; total time=   0.5s\n",
      "[CV] END max_depth=9, max_features=4, min_samples_split=8, n_estimators=128; total time=   0.6s\n",
      "[CV] END max_depth=9, max_features=auto, min_samples_split=2, n_estimators=64; total time=   0.3s\n",
      "[CV] END max_depth=9, max_features=auto, min_samples_split=2, n_estimators=100; total time=   0.5s\n",
      "[CV] END max_depth=9, max_features=auto, min_samples_split=2, n_estimators=300; total time=   1.4s\n",
      "[CV] END max_depth=9, max_features=auto, min_samples_split=5, n_estimators=300; total time=   1.4s\n",
      "[CV] END max_depth=3, max_features=2, min_samples_split=2, n_estimators=64; total time=   0.2s\n",
      "[CV] END max_depth=3, max_features=2, min_samples_split=2, n_estimators=128; total time=   0.4s\n",
      "[CV] END max_depth=3, max_features=2, min_samples_split=5, n_estimators=64; total time=   0.2s\n",
      "[CV] END max_depth=3, max_features=2, min_samples_split=5, n_estimators=100; total time=   0.3s\n",
      "[CV] END max_depth=3, max_features=2, min_samples_split=5, n_estimators=300; total time=   0.9s\n",
      "[CV] END max_depth=3, max_features=2, min_samples_split=8, n_estimators=300; total time=   0.8s\n",
      "[CV] END max_depth=3, max_features=3, min_samples_split=5, n_estimators=50; total time=   0.2s\n",
      "[CV] END max_depth=3, max_features=3, min_samples_split=5, n_estimators=64; total time=   0.2s\n",
      "[CV] END max_depth=3, max_features=3, min_samples_split=5, n_estimators=100; total time=   0.3s\n",
      "[CV] END max_depth=3, max_features=3, min_samples_split=5, n_estimators=300; total time=   0.9s\n",
      "[CV] END max_depth=3, max_features=3, min_samples_split=8, n_estimators=300; total time=   0.9s\n",
      "[CV] END max_depth=3, max_features=4, min_samples_split=2, n_estimators=300; total time=   1.0s\n",
      "[CV] END max_depth=3, max_features=4, min_samples_split=8, n_estimators=50; total time=   0.2s\n",
      "[CV] END max_depth=3, max_features=4, min_samples_split=8, n_estimators=64; total time=   0.2s\n",
      "[CV] END max_depth=3, max_features=4, min_samples_split=8, n_estimators=128; total time=   0.4s\n",
      "[CV] END max_depth=3, max_features=auto, min_samples_split=2, n_estimators=50; total time=   0.2s\n",
      "[CV] END max_depth=3, max_features=auto, min_samples_split=2, n_estimators=64; total time=   0.2s\n",
      "[CV] END max_depth=3, max_features=auto, min_samples_split=2, n_estimators=100; total time=   0.3s\n",
      "[CV] END max_depth=3, max_features=auto, min_samples_split=2, n_estimators=128; total time=   0.4s\n",
      "[CV] END max_depth=3, max_features=auto, min_samples_split=5, n_estimators=100; total time=   0.3s\n",
      "[CV] END max_depth=3, max_features=auto, min_samples_split=5, n_estimators=128; total time=   0.4s\n",
      "[CV] END max_depth=3, max_features=auto, min_samples_split=8, n_estimators=50; total time=   0.2s\n",
      "[CV] END max_depth=3, max_features=auto, min_samples_split=8, n_estimators=100; total time=   0.3s\n",
      "[CV] END max_depth=3, max_features=auto, min_samples_split=8, n_estimators=128; total time=   0.4s\n",
      "[CV] END max_depth=5, max_features=2, min_samples_split=2, n_estimators=64; total time=   0.2s\n",
      "[CV] END max_depth=5, max_features=2, min_samples_split=2, n_estimators=100; total time=   0.3s\n",
      "[CV] END max_depth=5, max_features=2, min_samples_split=2, n_estimators=128; total time=   0.4s\n",
      "[CV] END max_depth=5, max_features=2, min_samples_split=5, n_estimators=100; total time=   0.3s\n",
      "[CV] END max_depth=5, max_features=2, min_samples_split=5, n_estimators=128; total time=   0.4s\n",
      "[CV] END max_depth=5, max_features=2, min_samples_split=8, n_estimators=50; total time=   0.2s\n",
      "[CV] END max_depth=5, max_features=2, min_samples_split=8, n_estimators=100; total time=   0.4s\n",
      "[CV] END max_depth=5, max_features=2, min_samples_split=8, n_estimators=128; total time=   0.4s\n",
      "[CV] END max_depth=5, max_features=3, min_samples_split=2, n_estimators=64; total time=   0.2s\n",
      "[CV] END max_depth=5, max_features=3, min_samples_split=2, n_estimators=100; total time=   0.4s\n",
      "[CV] END max_depth=5, max_features=3, min_samples_split=2, n_estimators=128; total time=   0.4s\n",
      "[CV] END max_depth=5, max_features=3, min_samples_split=5, n_estimators=100; total time=   0.4s\n",
      "[CV] END max_depth=5, max_features=3, min_samples_split=5, n_estimators=128; total time=   0.5s\n",
      "[CV] END max_depth=5, max_features=3, min_samples_split=8, n_estimators=64; total time=   0.2s\n",
      "[CV] END max_depth=5, max_features=3, min_samples_split=8, n_estimators=100; total time=   0.4s\n",
      "[CV] END max_depth=5, max_features=3, min_samples_split=8, n_estimators=300; total time=   1.1s\n",
      "[CV] END max_depth=5, max_features=4, min_samples_split=2, n_estimators=300; total time=   1.2s\n",
      "[CV] END max_depth=5, max_features=4, min_samples_split=5, n_estimators=300; total time=   1.2s\n",
      "[CV] END max_depth=5, max_features=auto, min_samples_split=2, n_estimators=50; total time=   0.2s\n",
      "[CV] END max_depth=5, max_features=auto, min_samples_split=2, n_estimators=100; total time=   0.4s\n",
      "[CV] END max_depth=5, max_features=auto, min_samples_split=2, n_estimators=128; total time=   0.5s\n",
      "[CV] END max_depth=5, max_features=auto, min_samples_split=5, n_estimators=50; total time=   0.2s\n",
      "[CV] END max_depth=5, max_features=auto, min_samples_split=5, n_estimators=100; total time=   0.4s\n",
      "[CV] END max_depth=5, max_features=auto, min_samples_split=5, n_estimators=128; total time=   0.5s\n",
      "[CV] END max_depth=5, max_features=auto, min_samples_split=8, n_estimators=64; total time=   0.3s\n",
      "[CV] END max_depth=5, max_features=auto, min_samples_split=8, n_estimators=100; total time=   0.4s\n",
      "[CV] END max_depth=5, max_features=auto, min_samples_split=8, n_estimators=128; total time=   0.5s\n",
      "[CV] END max_depth=7, max_features=2, min_samples_split=2, n_estimators=100; total time=   0.4s\n",
      "[CV] END max_depth=7, max_features=2, min_samples_split=2, n_estimators=128; total time=   0.5s\n",
      "[CV] END max_depth=7, max_features=2, min_samples_split=5, n_estimators=50; total time=   0.2s\n",
      "[CV] END max_depth=7, max_features=2, min_samples_split=5, n_estimators=100; total time=   0.4s\n",
      "[CV] END max_depth=7, max_features=2, min_samples_split=5, n_estimators=128; total time=   0.5s\n",
      "[CV] END max_depth=7, max_features=2, min_samples_split=8, n_estimators=50; total time=   0.2s\n",
      "[CV] END max_depth=7, max_features=2, min_samples_split=8, n_estimators=100; total time=   0.4s\n",
      "[CV] END max_depth=7, max_features=2, min_samples_split=8, n_estimators=128; total time=   0.5s\n",
      "[CV] END max_depth=7, max_features=3, min_samples_split=2, n_estimators=64; total time=   0.3s\n",
      "[CV] END max_depth=7, max_features=3, min_samples_split=2, n_estimators=100; total time=   0.5s\n",
      "[CV] END max_depth=7, max_features=3, min_samples_split=2, n_estimators=128; total time=   0.6s\n",
      "[CV] END max_depth=7, max_features=3, min_samples_split=5, n_estimators=100; total time=   0.4s\n",
      "[CV] END max_depth=7, max_features=3, min_samples_split=5, n_estimators=128; total time=   0.6s\n",
      "[CV] END max_depth=7, max_features=3, min_samples_split=8, n_estimators=64; total time=   0.3s\n",
      "[CV] END max_depth=7, max_features=3, min_samples_split=8, n_estimators=100; total time=   0.4s\n",
      "[CV] END max_depth=7, max_features=3, min_samples_split=8, n_estimators=128; total time=   0.5s\n",
      "[CV] END max_depth=7, max_features=4, min_samples_split=2, n_estimators=100; total time=   0.4s\n",
      "[CV] END max_depth=7, max_features=4, min_samples_split=2, n_estimators=128; total time=   0.6s\n",
      "[CV] END max_depth=7, max_features=4, min_samples_split=5, n_estimators=50; total time=   0.2s\n",
      "[CV] END max_depth=7, max_features=4, min_samples_split=5, n_estimators=100; total time=   0.5s\n",
      "[CV] END max_depth=7, max_features=4, min_samples_split=5, n_estimators=128; total time=   0.6s\n",
      "[CV] END max_depth=7, max_features=4, min_samples_split=8, n_estimators=64; total time=   0.3s\n",
      "[CV] END max_depth=7, max_features=4, min_samples_split=8, n_estimators=100; total time=   0.4s\n",
      "[CV] END max_depth=7, max_features=4, min_samples_split=8, n_estimators=300; total time=   1.4s\n",
      "[CV] END max_depth=7, max_features=auto, min_samples_split=2, n_estimators=300; total time=   1.4s\n",
      "[CV] END max_depth=7, max_features=auto, min_samples_split=8, n_estimators=50; total time=   0.2s\n",
      "[CV] END max_depth=7, max_features=auto, min_samples_split=8, n_estimators=64; total time=   0.3s\n",
      "[CV] END max_depth=7, max_features=auto, min_samples_split=8, n_estimators=128; total time=   0.6s\n",
      "[CV] END max_depth=7, max_features=auto, min_samples_split=8, n_estimators=300; total time=   1.4s\n",
      "[CV] END max_depth=9, max_features=2, min_samples_split=5, n_estimators=50; total time=   0.3s\n",
      "[CV] END max_depth=9, max_features=2, min_samples_split=5, n_estimators=100; total time=   0.4s\n",
      "[CV] END max_depth=9, max_features=2, min_samples_split=5, n_estimators=128; total time=   0.5s\n",
      "[CV] END max_depth=9, max_features=2, min_samples_split=8, n_estimators=100; total time=   0.4s\n",
      "[CV] END max_depth=9, max_features=2, min_samples_split=8, n_estimators=128; total time=   0.5s\n",
      "[CV] END max_depth=9, max_features=3, min_samples_split=2, n_estimators=50; total time=   0.2s\n",
      "[CV] END max_depth=9, max_features=3, min_samples_split=2, n_estimators=100; total time=   0.4s\n",
      "[CV] END max_depth=9, max_features=3, min_samples_split=2, n_estimators=128; total time=   0.6s\n",
      "[CV] END max_depth=9, max_features=3, min_samples_split=5, n_estimators=64; total time=   0.3s\n",
      "[CV] END max_depth=9, max_features=3, min_samples_split=5, n_estimators=100; total time=   0.4s\n",
      "[CV] END max_depth=9, max_features=3, min_samples_split=5, n_estimators=300; total time=   1.3s\n",
      "[CV] END max_depth=9, max_features=3, min_samples_split=8, n_estimators=300; total time=   1.3s\n",
      "[CV] END max_depth=9, max_features=4, min_samples_split=2, n_estimators=300; total time=   1.4s\n",
      "[CV] END max_depth=9, max_features=4, min_samples_split=8, n_estimators=50; total time=   0.2s\n",
      "[CV] END max_depth=9, max_features=4, min_samples_split=8, n_estimators=100; total time=   0.5s\n",
      "[CV] END max_depth=9, max_features=4, min_samples_split=8, n_estimators=128; total time=   0.6s\n",
      "[CV] END max_depth=9, max_features=auto, min_samples_split=2, n_estimators=50; total time=   0.2s\n",
      "[CV] END max_depth=9, max_features=auto, min_samples_split=2, n_estimators=100; total time=   0.5s\n",
      "[CV] END max_depth=9, max_features=auto, min_samples_split=2, n_estimators=128; total time=   0.6s\n",
      "[CV] END max_depth=9, max_features=auto, min_samples_split=5, n_estimators=64; total time=   0.3s\n",
      "[CV] END max_depth=9, max_features=auto, min_samples_split=5, n_estimators=100; total time=   0.5s\n",
      "[CV] END max_depth=9, max_features=auto, min_samples_split=5, n_estimators=128; total time=   0.6s\n",
      "[CV] END max_depth=9, max_features=auto, min_samples_split=8, n_estimators=100; total time=   0.5s\n",
      "[CV] END max_depth=9, max_features=auto, min_samples_split=8, n_estimators=128; total time=   0.6s\n",
      "[CV] END max_depth=3, max_features=2, min_samples_split=2, n_estimators=50; total time=   0.2s\n",
      "[CV] END max_depth=3, max_features=2, min_samples_split=2, n_estimators=100; total time=   0.3s\n",
      "[CV] END max_depth=3, max_features=2, min_samples_split=2, n_estimators=300; total time=   0.9s\n",
      "[CV] END max_depth=3, max_features=2, min_samples_split=8, n_estimators=50; total time=   0.2s\n",
      "[CV] END max_depth=3, max_features=2, min_samples_split=8, n_estimators=100; total time=   0.3s\n",
      "[CV] END max_depth=3, max_features=2, min_samples_split=8, n_estimators=128; total time=   0.4s\n",
      "[CV] END max_depth=3, max_features=3, min_samples_split=2, n_estimators=64; total time=   0.2s\n",
      "[CV] END max_depth=3, max_features=3, min_samples_split=2, n_estimators=100; total time=   0.3s\n",
      "[CV] END max_depth=3, max_features=3, min_samples_split=2, n_estimators=128; total time=   0.4s\n",
      "[CV] END max_depth=3, max_features=3, min_samples_split=5, n_estimators=100; total time=   0.3s\n",
      "[CV] END max_depth=3, max_features=3, min_samples_split=5, n_estimators=128; total time=   0.4s\n",
      "[CV] END max_depth=3, max_features=3, min_samples_split=8, n_estimators=64; total time=   0.2s\n",
      "[CV] END max_depth=3, max_features=3, min_samples_split=8, n_estimators=100; total time=   0.3s\n",
      "[CV] END max_depth=3, max_features=3, min_samples_split=8, n_estimators=300; total time=   0.9s\n",
      "[CV] END max_depth=3, max_features=4, min_samples_split=2, n_estimators=300; total time=   1.0s\n",
      "[CV] END max_depth=3, max_features=4, min_samples_split=8, n_estimators=50; total time=   0.2s\n",
      "[CV] END max_depth=3, max_features=4, min_samples_split=8, n_estimators=64; total time=   0.2s\n",
      "[CV] END max_depth=3, max_features=4, min_samples_split=8, n_estimators=100; total time=   0.3s\n",
      "[CV] END max_depth=3, max_features=4, min_samples_split=8, n_estimators=128; total time=   0.4s\n",
      "[CV] END max_depth=3, max_features=auto, min_samples_split=2, n_estimators=64; total time=   0.2s\n",
      "[CV] END max_depth=3, max_features=auto, min_samples_split=2, n_estimators=128; total time=   0.4s\n",
      "[CV] END max_depth=3, max_features=auto, min_samples_split=5, n_estimators=50; total time=   0.2s\n",
      "[CV] END max_depth=3, max_features=auto, min_samples_split=5, n_estimators=64; total time=   0.2s\n",
      "[CV] END max_depth=3, max_features=auto, min_samples_split=5, n_estimators=100; total time=   0.3s\n",
      "[CV] END max_depth=3, max_features=auto, min_samples_split=5, n_estimators=300; total time=   1.0s\n",
      "[CV] END max_depth=3, max_features=auto, min_samples_split=8, n_estimators=300; total time=   1.0s\n",
      "[CV] END max_depth=5, max_features=2, min_samples_split=5, n_estimators=50; total time=   0.2s\n",
      "[CV] END max_depth=5, max_features=2, min_samples_split=5, n_estimators=64; total time=   0.2s\n",
      "[CV] END max_depth=5, max_features=2, min_samples_split=5, n_estimators=100; total time=   0.3s\n",
      "[CV] END max_depth=5, max_features=2, min_samples_split=5, n_estimators=300; total time=   1.0s\n",
      "[CV] END max_depth=5, max_features=2, min_samples_split=8, n_estimators=300; total time=   0.9s\n",
      "[CV] END max_depth=5, max_features=3, min_samples_split=5, n_estimators=50; total time=   0.2s\n",
      "[CV] END max_depth=5, max_features=3, min_samples_split=5, n_estimators=64; total time=   0.2s\n",
      "[CV] END max_depth=5, max_features=3, min_samples_split=5, n_estimators=100; total time=   0.4s\n",
      "[CV] END max_depth=5, max_features=3, min_samples_split=5, n_estimators=128; total time=   0.5s\n",
      "[CV] END max_depth=5, max_features=3, min_samples_split=8, n_estimators=100; total time=   0.4s\n",
      "[CV] END max_depth=5, max_features=3, min_samples_split=8, n_estimators=128; total time=   0.5s\n",
      "[CV] END max_depth=5, max_features=4, min_samples_split=2, n_estimators=50; total time=   0.2s\n",
      "[CV] END max_depth=5, max_features=4, min_samples_split=2, n_estimators=100; total time=   0.4s\n",
      "[CV] END max_depth=5, max_features=4, min_samples_split=2, n_estimators=128; total time=   0.5s\n",
      "[CV] END max_depth=5, max_features=4, min_samples_split=5, n_estimators=64; total time=   0.3s\n",
      "[CV] END max_depth=5, max_features=4, min_samples_split=5, n_estimators=100; total time=   0.4s\n",
      "[CV] END max_depth=5, max_features=4, min_samples_split=5, n_estimators=300; total time=   1.2s\n",
      "[CV] END max_depth=5, max_features=4, min_samples_split=8, n_estimators=300; total time=   1.2s\n",
      "[CV] END max_depth=5, max_features=auto, min_samples_split=5, n_estimators=50; total time=   0.2s\n",
      "[CV] END max_depth=5, max_features=auto, min_samples_split=5, n_estimators=64; total time=   0.3s\n",
      "[CV] END max_depth=5, max_features=auto, min_samples_split=5, n_estimators=100; total time=   0.4s\n",
      "[CV] END max_depth=5, max_features=auto, min_samples_split=5, n_estimators=300; total time=   1.2s\n",
      "[CV] END max_depth=5, max_features=auto, min_samples_split=8, n_estimators=300; total time=   1.2s\n",
      "[CV] END max_depth=7, max_features=2, min_samples_split=5, n_estimators=50; total time=   0.2s\n",
      "[CV] END max_depth=7, max_features=2, min_samples_split=5, n_estimators=64; total time=   0.3s\n",
      "[CV] END max_depth=7, max_features=2, min_samples_split=5, n_estimators=128; total time=   0.5s\n",
      "[CV] END max_depth=7, max_features=2, min_samples_split=5, n_estimators=300; total time=   1.2s\n",
      "[CV] END max_depth=7, max_features=3, min_samples_split=2, n_estimators=50; total time=   0.2s\n",
      "[CV] END max_depth=7, max_features=3, min_samples_split=2, n_estimators=100; total time=   0.5s\n",
      "[CV] END max_depth=7, max_features=3, min_samples_split=2, n_estimators=128; total time=   0.6s\n",
      "[CV] END max_depth=7, max_features=3, min_samples_split=5, n_estimators=64; total time=   0.3s\n",
      "[CV] END max_depth=7, max_features=3, min_samples_split=5, n_estimators=100; total time=   0.4s\n",
      "[CV] END max_depth=7, max_features=3, min_samples_split=5, n_estimators=128; total time=   0.6s\n",
      "[CV] END max_depth=7, max_features=3, min_samples_split=8, n_estimators=64; total time=   0.3s\n",
      "[CV] END max_depth=7, max_features=3, min_samples_split=8, n_estimators=128; total time=   0.5s\n",
      "[CV] END max_depth=7, max_features=4, min_samples_split=2, n_estimators=50; total time=   0.2s\n",
      "[CV] END max_depth=7, max_features=4, min_samples_split=2, n_estimators=64; total time=   0.3s\n",
      "[CV] END max_depth=7, max_features=4, min_samples_split=2, n_estimators=100; total time=   0.5s\n",
      "[CV] END max_depth=7, max_features=4, min_samples_split=2, n_estimators=300; total time=   1.3s\n",
      "[CV] END max_depth=7, max_features=4, min_samples_split=5, n_estimators=300; total time=   1.4s\n",
      "[CV] END max_depth=7, max_features=auto, min_samples_split=2, n_estimators=50; total time=   0.2s\n",
      "[CV] END max_depth=7, max_features=auto, min_samples_split=2, n_estimators=64; total time=   0.3s\n",
      "[CV] END max_depth=7, max_features=auto, min_samples_split=2, n_estimators=128; total time=   0.6s\n",
      "[CV] END max_depth=7, max_features=auto, min_samples_split=5, n_estimators=50; total time=   0.2s\n",
      "[CV] END max_depth=7, max_features=auto, min_samples_split=5, n_estimators=64; total time=   0.3s\n",
      "[CV] END max_depth=7, max_features=auto, min_samples_split=5, n_estimators=100; total time=   0.5s\n",
      "[CV] END max_depth=7, max_features=auto, min_samples_split=5, n_estimators=300; total time=   1.3s\n",
      "[CV] END max_depth=7, max_features=auto, min_samples_split=8, n_estimators=300; total time=   1.4s\n",
      "[CV] END max_depth=9, max_features=2, min_samples_split=5, n_estimators=50; total time=   0.2s\n",
      "[CV] END max_depth=9, max_features=2, min_samples_split=5, n_estimators=64; total time=   0.3s\n",
      "[CV] END max_depth=9, max_features=2, min_samples_split=5, n_estimators=128; total time=   0.5s\n",
      "[CV] END max_depth=9, max_features=2, min_samples_split=5, n_estimators=300; total time=   1.2s\n",
      "[CV] END max_depth=9, max_features=3, min_samples_split=2, n_estimators=50; total time=   0.2s\n",
      "[CV] END max_depth=9, max_features=3, min_samples_split=2, n_estimators=100; total time=   0.4s\n",
      "[CV] END max_depth=9, max_features=3, min_samples_split=2, n_estimators=128; total time=   0.6s\n",
      "[CV] END max_depth=9, max_features=3, min_samples_split=5, n_estimators=64; total time=   0.3s\n",
      "[CV] END max_depth=9, max_features=3, min_samples_split=5, n_estimators=100; total time=   0.4s\n",
      "[CV] END max_depth=9, max_features=3, min_samples_split=5, n_estimators=300; total time=   1.3s\n",
      "[CV] END max_depth=9, max_features=3, min_samples_split=8, n_estimators=300; total time=   1.3s\n",
      "[CV] END max_depth=9, max_features=4, min_samples_split=5, n_estimators=50; total time=   0.2s\n",
      "[CV] END max_depth=9, max_features=4, min_samples_split=5, n_estimators=64; total time=   0.3s\n",
      "[CV] END max_depth=9, max_features=4, min_samples_split=5, n_estimators=100; total time=   0.5s\n",
      "[CV] END max_depth=9, max_features=4, min_samples_split=5, n_estimators=128; total time=   0.6s\n",
      "[CV] END max_depth=9, max_features=4, min_samples_split=8, n_estimators=64; total time=   0.3s\n",
      "[CV] END max_depth=9, max_features=4, min_samples_split=8, n_estimators=128; total time=   0.6s\n",
      "[CV] END max_depth=9, max_features=auto, min_samples_split=2, n_estimators=50; total time=   0.2s\n",
      "[CV] END max_depth=9, max_features=auto, min_samples_split=2, n_estimators=64; total time=   0.3s\n",
      "[CV] END max_depth=9, max_features=auto, min_samples_split=2, n_estimators=100; total time=   0.5s\n",
      "[CV] END max_depth=9, max_features=auto, min_samples_split=2, n_estimators=128; total time=   0.6s\n",
      "[CV] END max_depth=9, max_features=auto, min_samples_split=5, n_estimators=100; total time=   0.5s\n",
      "[CV] END max_depth=9, max_features=auto, min_samples_split=5, n_estimators=128; total time=   0.6s\n",
      "[CV] END max_depth=9, max_features=auto, min_samples_split=8, n_estimators=50; total time=   0.2s\n",
      "[CV] END max_depth=9, max_features=auto, min_samples_split=8, n_estimators=100; total time=   0.5s\n",
      "[CV] END max_depth=9, max_features=auto, min_samples_split=8, n_estimators=128; total time=   0.6s\n"
     ]
    },
    {
     "name": "stdout",
     "output_type": "stream",
     "text": [
      "[CV] END max_depth=3, max_features=2, min_samples_split=2, n_estimators=64; total time=   0.2s\n",
      "[CV] END max_depth=3, max_features=2, min_samples_split=2, n_estimators=300; total time=   0.9s\n",
      "[CV] END max_depth=3, max_features=2, min_samples_split=5, n_estimators=300; total time=   0.9s\n",
      "[CV] END max_depth=3, max_features=2, min_samples_split=8, n_estimators=300; total time=   0.8s\n",
      "[CV] END max_depth=3, max_features=3, min_samples_split=2, n_estimators=300; total time=   0.9s\n",
      "[CV] END max_depth=3, max_features=3, min_samples_split=8, n_estimators=50; total time=   0.2s\n",
      "[CV] END max_depth=3, max_features=3, min_samples_split=8, n_estimators=64; total time=   0.2s\n",
      "[CV] END max_depth=3, max_features=3, min_samples_split=8, n_estimators=128; total time=   0.4s\n",
      "[CV] END max_depth=3, max_features=4, min_samples_split=2, n_estimators=50; total time=   0.2s\n",
      "[CV] END max_depth=3, max_features=4, min_samples_split=2, n_estimators=64; total time=   0.2s\n",
      "[CV] END max_depth=3, max_features=4, min_samples_split=2, n_estimators=100; total time=   0.3s\n",
      "[CV] END max_depth=3, max_features=4, min_samples_split=2, n_estimators=128; total time=   0.4s\n",
      "[CV] END max_depth=3, max_features=4, min_samples_split=5, n_estimators=100; total time=   0.3s\n",
      "[CV] END max_depth=3, max_features=4, min_samples_split=5, n_estimators=128; total time=   0.4s\n",
      "[CV] END max_depth=3, max_features=4, min_samples_split=8, n_estimators=50; total time=   0.2s\n",
      "[CV] END max_depth=3, max_features=4, min_samples_split=8, n_estimators=100; total time=   0.3s\n",
      "[CV] END max_depth=3, max_features=4, min_samples_split=8, n_estimators=128; total time=   0.4s\n",
      "[CV] END max_depth=3, max_features=auto, min_samples_split=2, n_estimators=64; total time=   0.2s\n",
      "[CV] END max_depth=3, max_features=auto, min_samples_split=2, n_estimators=100; total time=   0.3s\n",
      "[CV] END max_depth=3, max_features=auto, min_samples_split=2, n_estimators=300; total time=   1.0s\n",
      "[CV] END max_depth=3, max_features=auto, min_samples_split=5, n_estimators=300; total time=   1.0s\n",
      "[CV] END max_depth=5, max_features=2, min_samples_split=2, n_estimators=50; total time=   0.2s\n",
      "[CV] END max_depth=5, max_features=2, min_samples_split=2, n_estimators=64; total time=   0.2s\n",
      "[CV] END max_depth=5, max_features=2, min_samples_split=2, n_estimators=100; total time=   0.3s\n",
      "[CV] END max_depth=5, max_features=2, min_samples_split=2, n_estimators=300; total time=   1.0s\n",
      "[CV] END max_depth=5, max_features=2, min_samples_split=5, n_estimators=300; total time=   1.0s\n",
      "[CV] END max_depth=5, max_features=3, min_samples_split=2, n_estimators=50; total time=   0.2s\n",
      "[CV] END max_depth=5, max_features=3, min_samples_split=2, n_estimators=64; total time=   0.2s\n",
      "[CV] END max_depth=5, max_features=3, min_samples_split=2, n_estimators=128; total time=   0.4s\n",
      "[CV] END max_depth=5, max_features=3, min_samples_split=5, n_estimators=50; total time=   0.2s\n",
      "[CV] END max_depth=5, max_features=3, min_samples_split=5, n_estimators=64; total time=   0.2s\n",
      "[CV] END max_depth=5, max_features=3, min_samples_split=5, n_estimators=100; total time=   0.4s\n",
      "[CV] END max_depth=5, max_features=3, min_samples_split=5, n_estimators=300; total time=   1.0s\n",
      "[CV] END max_depth=5, max_features=3, min_samples_split=8, n_estimators=300; total time=   1.1s\n",
      "[CV] END max_depth=5, max_features=4, min_samples_split=2, n_estimators=300; total time=   1.2s\n",
      "[CV] END max_depth=5, max_features=4, min_samples_split=8, n_estimators=50; total time=   0.2s\n",
      "[CV] END max_depth=5, max_features=4, min_samples_split=8, n_estimators=64; total time=   0.3s\n",
      "[CV] END max_depth=5, max_features=4, min_samples_split=8, n_estimators=128; total time=   0.5s\n",
      "[CV] END max_depth=5, max_features=auto, min_samples_split=2, n_estimators=50; total time=   0.2s\n",
      "[CV] END max_depth=5, max_features=auto, min_samples_split=2, n_estimators=64; total time=   0.3s\n",
      "[CV] END max_depth=5, max_features=auto, min_samples_split=2, n_estimators=100; total time=   0.4s\n",
      "[CV] END max_depth=5, max_features=auto, min_samples_split=2, n_estimators=128; total time=   0.5s\n",
      "[CV] END max_depth=5, max_features=auto, min_samples_split=5, n_estimators=100; total time=   0.4s\n",
      "[CV] END max_depth=5, max_features=auto, min_samples_split=5, n_estimators=128; total time=   0.5s\n",
      "[CV] END max_depth=5, max_features=auto, min_samples_split=8, n_estimators=50; total time=   0.2s\n",
      "[CV] END max_depth=5, max_features=auto, min_samples_split=8, n_estimators=100; total time=   0.4s\n",
      "[CV] END max_depth=5, max_features=auto, min_samples_split=8, n_estimators=128; total time=   0.5s\n",
      "[CV] END max_depth=7, max_features=2, min_samples_split=2, n_estimators=64; total time=   0.3s\n",
      "[CV] END max_depth=7, max_features=2, min_samples_split=2, n_estimators=100; total time=   0.4s\n",
      "[CV] END max_depth=7, max_features=2, min_samples_split=2, n_estimators=128; total time=   0.5s\n",
      "[CV] END max_depth=7, max_features=2, min_samples_split=5, n_estimators=64; total time=   0.3s\n",
      "[CV] END max_depth=7, max_features=2, min_samples_split=5, n_estimators=100; total time=   0.4s\n",
      "[CV] END max_depth=7, max_features=2, min_samples_split=5, n_estimators=300; total time=   1.2s\n",
      "[CV] END max_depth=7, max_features=2, min_samples_split=8, n_estimators=300; total time=   1.2s\n",
      "[CV] END max_depth=7, max_features=3, min_samples_split=5, n_estimators=50; total time=   0.2s\n",
      "[CV] END max_depth=7, max_features=3, min_samples_split=5, n_estimators=64; total time=   0.3s\n",
      "[CV] END max_depth=7, max_features=3, min_samples_split=5, n_estimators=128; total time=   0.6s\n",
      "[CV] END max_depth=7, max_features=3, min_samples_split=5, n_estimators=300; total time=   1.3s\n",
      "[CV] END max_depth=7, max_features=4, min_samples_split=2, n_estimators=50; total time=   0.2s\n",
      "[CV] END max_depth=7, max_features=4, min_samples_split=2, n_estimators=64; total time=   0.3s\n",
      "[CV] END max_depth=7, max_features=4, min_samples_split=2, n_estimators=100; total time=   0.5s\n",
      "[CV] END max_depth=7, max_features=4, min_samples_split=2, n_estimators=300; total time=   1.3s\n",
      "[CV] END max_depth=7, max_features=4, min_samples_split=8, n_estimators=50; total time=   0.2s\n",
      "[CV] END max_depth=7, max_features=4, min_samples_split=8, n_estimators=64; total time=   0.3s\n",
      "[CV] END max_depth=7, max_features=4, min_samples_split=8, n_estimators=100; total time=   0.4s\n",
      "[CV] END max_depth=7, max_features=4, min_samples_split=8, n_estimators=128; total time=   0.6s\n",
      "[CV] END max_depth=7, max_features=auto, min_samples_split=2, n_estimators=100; total time=   0.4s\n",
      "[CV] END max_depth=7, max_features=auto, min_samples_split=2, n_estimators=128; total time=   0.6s\n",
      "[CV] END max_depth=7, max_features=auto, min_samples_split=5, n_estimators=50; total time=   0.2s\n",
      "[CV] END max_depth=7, max_features=auto, min_samples_split=5, n_estimators=100; total time=   0.5s\n",
      "[CV] END max_depth=7, max_features=auto, min_samples_split=5, n_estimators=128; total time=   0.6s\n",
      "[CV] END max_depth=7, max_features=auto, min_samples_split=8, n_estimators=64; total time=   0.3s\n",
      "[CV] END max_depth=7, max_features=auto, min_samples_split=8, n_estimators=100; total time=   0.5s\n",
      "[CV] END max_depth=7, max_features=auto, min_samples_split=8, n_estimators=300; total time=   1.4s\n",
      "[CV] END max_depth=9, max_features=2, min_samples_split=2, n_estimators=300; total time=   1.2s\n",
      "[CV] END max_depth=9, max_features=2, min_samples_split=8, n_estimators=50; total time=   0.2s\n",
      "[CV] END max_depth=9, max_features=2, min_samples_split=8, n_estimators=64; total time=   0.3s\n",
      "[CV] END max_depth=9, max_features=2, min_samples_split=8, n_estimators=128; total time=   0.5s\n",
      "[CV] END max_depth=9, max_features=3, min_samples_split=2, n_estimators=50; total time=   0.2s\n",
      "[CV] END max_depth=9, max_features=3, min_samples_split=2, n_estimators=64; total time=   0.3s\n",
      "[CV] END max_depth=9, max_features=3, min_samples_split=2, n_estimators=100; total time=   0.4s\n",
      "[CV] END max_depth=9, max_features=3, min_samples_split=2, n_estimators=300; total time=   1.3s\n",
      "[CV] END max_depth=9, max_features=3, min_samples_split=5, n_estimators=300; total time=   1.3s\n",
      "[CV] END max_depth=9, max_features=4, min_samples_split=2, n_estimators=50; total time=   0.2s\n",
      "[CV] END max_depth=9, max_features=4, min_samples_split=2, n_estimators=64; total time=   0.3s\n",
      "[CV] END max_depth=9, max_features=4, min_samples_split=2, n_estimators=128; total time=   0.6s\n",
      "[CV] END max_depth=9, max_features=4, min_samples_split=5, n_estimators=50; total time=   0.2s\n",
      "[CV] END max_depth=9, max_features=4, min_samples_split=5, n_estimators=64; total time=   0.3s\n",
      "[CV] END max_depth=9, max_features=4, min_samples_split=5, n_estimators=128; total time=   0.6s\n",
      "[CV] END max_depth=9, max_features=4, min_samples_split=5, n_estimators=300; total time=   1.4s\n",
      "[CV] END max_depth=9, max_features=auto, min_samples_split=2, n_estimators=50; total time=   0.2s\n",
      "[CV] END max_depth=9, max_features=auto, min_samples_split=2, n_estimators=64; total time=   0.3s\n",
      "[CV] END max_depth=9, max_features=auto, min_samples_split=2, n_estimators=100; total time=   0.5s\n",
      "[CV] END max_depth=9, max_features=auto, min_samples_split=2, n_estimators=300; total time=   1.4s\n",
      "[CV] END max_depth=9, max_features=auto, min_samples_split=8, n_estimators=50; total time=   0.2s\n",
      "[CV] END max_depth=9, max_features=auto, min_samples_split=8, n_estimators=64; total time=   0.3s\n",
      "[CV] END max_depth=9, max_features=auto, min_samples_split=8, n_estimators=100; total time=   0.5s\n",
      "[CV] END max_depth=9, max_features=auto, min_samples_split=8, n_estimators=128; total time=   0.5s\n"
     ]
    },
    {
     "name": "stdout",
     "output_type": "stream",
     "text": [
      "[CV] END max_depth=3, max_features=2, min_samples_split=2, n_estimators=64; total time=   0.2s\n",
      "[CV] END max_depth=3, max_features=2, min_samples_split=2, n_estimators=128; total time=   0.4s\n",
      "[CV] END max_depth=3, max_features=2, min_samples_split=5, n_estimators=64; total time=   0.2s\n",
      "[CV] END max_depth=3, max_features=2, min_samples_split=5, n_estimators=100; total time=   0.3s\n",
      "[CV] END max_depth=3, max_features=2, min_samples_split=5, n_estimators=300; total time=   0.9s\n",
      "[CV] END max_depth=3, max_features=2, min_samples_split=8, n_estimators=300; total time=   0.8s\n",
      "[CV] END max_depth=3, max_features=3, min_samples_split=5, n_estimators=50; total time=   0.2s\n",
      "[CV] END max_depth=3, max_features=3, min_samples_split=5, n_estimators=64; total time=   0.2s\n",
      "[CV] END max_depth=3, max_features=3, min_samples_split=5, n_estimators=128; total time=   0.4s\n",
      "[CV] END max_depth=3, max_features=3, min_samples_split=5, n_estimators=300; total time=   0.9s\n",
      "[CV] END max_depth=3, max_features=4, min_samples_split=2, n_estimators=50; total time=   0.2s\n",
      "[CV] END max_depth=3, max_features=4, min_samples_split=2, n_estimators=64; total time=   0.2s\n",
      "[CV] END max_depth=3, max_features=4, min_samples_split=2, n_estimators=128; total time=   0.4s\n",
      "[CV] END max_depth=3, max_features=4, min_samples_split=5, n_estimators=50; total time=   0.2s\n",
      "[CV] END max_depth=3, max_features=4, min_samples_split=5, n_estimators=64; total time=   0.2s\n",
      "[CV] END max_depth=3, max_features=4, min_samples_split=5, n_estimators=100; total time=   0.3s\n",
      "[CV] END max_depth=3, max_features=4, min_samples_split=5, n_estimators=300; total time=   1.0s\n",
      "[CV] END max_depth=3, max_features=4, min_samples_split=8, n_estimators=300; total time=   1.0s\n",
      "[CV] END max_depth=3, max_features=auto, min_samples_split=5, n_estimators=50; total time=   0.2s\n",
      "[CV] END max_depth=3, max_features=auto, min_samples_split=5, n_estimators=64; total time=   0.2s\n",
      "[CV] END max_depth=3, max_features=auto, min_samples_split=5, n_estimators=128; total time=   0.4s\n",
      "[CV] END max_depth=3, max_features=auto, min_samples_split=5, n_estimators=300; total time=   1.0s\n",
      "[CV] END max_depth=5, max_features=2, min_samples_split=2, n_estimators=50; total time=   0.2s\n",
      "[CV] END max_depth=5, max_features=2, min_samples_split=2, n_estimators=64; total time=   0.2s\n",
      "[CV] END max_depth=5, max_features=2, min_samples_split=2, n_estimators=128; total time=   0.4s\n",
      "[CV] END max_depth=5, max_features=2, min_samples_split=2, n_estimators=300; total time=   1.0s\n",
      "[CV] END max_depth=5, max_features=2, min_samples_split=8, n_estimators=50; total time=   0.2s\n",
      "[CV] END max_depth=5, max_features=2, min_samples_split=8, n_estimators=64; total time=   0.2s\n",
      "[CV] END max_depth=5, max_features=2, min_samples_split=8, n_estimators=128; total time=   0.4s\n",
      "[CV] END max_depth=5, max_features=2, min_samples_split=8, n_estimators=300; total time=   1.0s\n",
      "[CV] END max_depth=5, max_features=3, min_samples_split=5, n_estimators=50; total time=   0.2s\n",
      "[CV] END max_depth=5, max_features=3, min_samples_split=5, n_estimators=64; total time=   0.2s\n",
      "[CV] END max_depth=5, max_features=3, min_samples_split=5, n_estimators=128; total time=   0.4s\n",
      "[CV] END max_depth=5, max_features=3, min_samples_split=8, n_estimators=50; total time=   0.2s\n",
      "[CV] END max_depth=5, max_features=3, min_samples_split=8, n_estimators=64; total time=   0.2s\n",
      "[CV] END max_depth=5, max_features=3, min_samples_split=8, n_estimators=128; total time=   0.5s\n",
      "[CV] END max_depth=5, max_features=3, min_samples_split=8, n_estimators=300; total time=   1.1s\n",
      "[CV] END max_depth=5, max_features=4, min_samples_split=5, n_estimators=50; total time=   0.2s\n",
      "[CV] END max_depth=5, max_features=4, min_samples_split=5, n_estimators=64; total time=   0.3s\n",
      "[CV] END max_depth=5, max_features=4, min_samples_split=5, n_estimators=128; total time=   0.5s\n",
      "[CV] END max_depth=5, max_features=4, min_samples_split=5, n_estimators=300; total time=   1.2s\n",
      "[CV] END max_depth=5, max_features=auto, min_samples_split=2, n_estimators=50; total time=   0.2s\n",
      "[CV] END max_depth=5, max_features=auto, min_samples_split=2, n_estimators=64; total time=   0.3s\n",
      "[CV] END max_depth=5, max_features=auto, min_samples_split=2, n_estimators=128; total time=   0.5s\n",
      "[CV] END max_depth=5, max_features=auto, min_samples_split=2, n_estimators=300; total time=   1.2s\n",
      "[CV] END max_depth=5, max_features=auto, min_samples_split=8, n_estimators=50; total time=   0.2s\n",
      "[CV] END max_depth=5, max_features=auto, min_samples_split=8, n_estimators=100; total time=   0.4s\n",
      "[CV] END max_depth=5, max_features=auto, min_samples_split=8, n_estimators=128; total time=   0.5s\n",
      "[CV] END max_depth=7, max_features=2, min_samples_split=2, n_estimators=50; total time=   0.2s\n",
      "[CV] END max_depth=7, max_features=2, min_samples_split=2, n_estimators=100; total time=   0.4s\n",
      "[CV] END max_depth=7, max_features=2, min_samples_split=2, n_estimators=128; total time=   0.5s\n",
      "[CV] END max_depth=7, max_features=2, min_samples_split=5, n_estimators=64; total time=   0.3s\n",
      "[CV] END max_depth=7, max_features=2, min_samples_split=5, n_estimators=100; total time=   0.4s\n",
      "[CV] END max_depth=7, max_features=2, min_samples_split=5, n_estimators=128; total time=   0.5s\n",
      "[CV] END max_depth=7, max_features=2, min_samples_split=8, n_estimators=64; total time=   0.3s\n",
      "[CV] END max_depth=7, max_features=2, min_samples_split=8, n_estimators=128; total time=   0.5s\n",
      "[CV] END max_depth=7, max_features=2, min_samples_split=8, n_estimators=300; total time=   1.2s\n",
      "[CV] END max_depth=7, max_features=3, min_samples_split=5, n_estimators=50; total time=   0.2s\n",
      "[CV] END max_depth=7, max_features=3, min_samples_split=5, n_estimators=64; total time=   0.3s\n",
      "[CV] END max_depth=7, max_features=3, min_samples_split=5, n_estimators=100; total time=   0.4s\n",
      "[CV] END max_depth=7, max_features=3, min_samples_split=5, n_estimators=300; total time=   1.3s\n",
      "[CV] END max_depth=7, max_features=3, min_samples_split=8, n_estimators=300; total time=   1.2s\n",
      "[CV] END max_depth=7, max_features=4, min_samples_split=5, n_estimators=50; total time=   0.2s\n",
      "[CV] END max_depth=7, max_features=4, min_samples_split=5, n_estimators=64; total time=   0.3s\n",
      "[CV] END max_depth=7, max_features=4, min_samples_split=5, n_estimators=100; total time=   0.5s\n",
      "[CV] END max_depth=7, max_features=4, min_samples_split=5, n_estimators=128; total time=   0.6s\n",
      "[CV] END max_depth=7, max_features=4, min_samples_split=8, n_estimators=64; total time=   0.3s\n",
      "[CV] END max_depth=7, max_features=4, min_samples_split=8, n_estimators=128; total time=   0.6s\n",
      "[CV] END max_depth=7, max_features=auto, min_samples_split=2, n_estimators=50; total time=   0.2s\n",
      "[CV] END max_depth=7, max_features=auto, min_samples_split=2, n_estimators=64; total time=   0.3s\n",
      "[CV] END max_depth=7, max_features=auto, min_samples_split=2, n_estimators=100; total time=   0.4s\n",
      "[CV] END max_depth=7, max_features=auto, min_samples_split=2, n_estimators=128; total time=   0.6s\n",
      "[CV] END max_depth=7, max_features=auto, min_samples_split=5, n_estimators=100; total time=   0.5s\n",
      "[CV] END max_depth=7, max_features=auto, min_samples_split=5, n_estimators=128; total time=   0.6s\n",
      "[CV] END max_depth=7, max_features=auto, min_samples_split=8, n_estimators=50; total time=   0.2s\n",
      "[CV] END max_depth=7, max_features=auto, min_samples_split=8, n_estimators=100; total time=   0.5s\n",
      "[CV] END max_depth=7, max_features=auto, min_samples_split=8, n_estimators=128; total time=   0.6s\n",
      "[CV] END max_depth=9, max_features=2, min_samples_split=2, n_estimators=64; total time=   0.3s\n",
      "[CV] END max_depth=9, max_features=2, min_samples_split=2, n_estimators=100; total time=   0.4s\n",
      "[CV] END max_depth=9, max_features=2, min_samples_split=2, n_estimators=128; total time=   0.5s\n",
      "[CV] END max_depth=9, max_features=2, min_samples_split=5, n_estimators=64; total time=   0.3s\n",
      "[CV] END max_depth=9, max_features=2, min_samples_split=5, n_estimators=100; total time=   0.4s\n",
      "[CV] END max_depth=9, max_features=2, min_samples_split=5, n_estimators=300; total time=   1.2s\n",
      "[CV] END max_depth=9, max_features=2, min_samples_split=8, n_estimators=300; total time=   1.2s\n",
      "[CV] END max_depth=9, max_features=3, min_samples_split=5, n_estimators=50; total time=   0.2s\n",
      "[CV] END max_depth=9, max_features=3, min_samples_split=5, n_estimators=50; total time=   0.2s\n",
      "[CV] END max_depth=9, max_features=3, min_samples_split=5, n_estimators=100; total time=   0.4s\n",
      "[CV] END max_depth=9, max_features=3, min_samples_split=5, n_estimators=128; total time=   0.6s\n",
      "[CV] END max_depth=9, max_features=3, min_samples_split=8, n_estimators=64; total time=   0.3s\n",
      "[CV] END max_depth=9, max_features=3, min_samples_split=8, n_estimators=100; total time=   0.4s\n",
      "[CV] END max_depth=9, max_features=3, min_samples_split=8, n_estimators=300; total time=   1.3s\n",
      "[CV] END max_depth=9, max_features=4, min_samples_split=2, n_estimators=300; total time=   1.4s\n",
      "[CV] END max_depth=9, max_features=4, min_samples_split=8, n_estimators=50; total time=   0.2s\n",
      "[CV] END max_depth=9, max_features=4, min_samples_split=8, n_estimators=64; total time=   0.3s\n",
      "[CV] END max_depth=9, max_features=4, min_samples_split=8, n_estimators=100; total time=   0.5s\n",
      "[CV] END max_depth=9, max_features=4, min_samples_split=8, n_estimators=300; total time=   1.4s\n",
      "[CV] END max_depth=9, max_features=auto, min_samples_split=2, n_estimators=300; total time=   1.4s\n",
      "[CV] END max_depth=9, max_features=auto, min_samples_split=8, n_estimators=50; total time=   0.2s\n",
      "[CV] END max_depth=9, max_features=auto, min_samples_split=8, n_estimators=64; total time=   0.3s\n",
      "[CV] END max_depth=9, max_features=auto, min_samples_split=8, n_estimators=100; total time=   0.5s\n",
      "[CV] END max_depth=9, max_features=auto, min_samples_split=8, n_estimators=300; total time=   1.0s\n",
      "[CV] END max_depth=3, max_features=2, min_samples_split=2, n_estimators=50; total time=   0.2s\n",
      "[CV] END max_depth=3, max_features=2, min_samples_split=2, n_estimators=128; total time=   0.4s\n",
      "[CV] END max_depth=3, max_features=2, min_samples_split=5, n_estimators=50; total time=   0.2s\n",
      "[CV] END max_depth=3, max_features=2, min_samples_split=5, n_estimators=100; total time=   0.3s\n",
      "[CV] END max_depth=3, max_features=2, min_samples_split=5, n_estimators=128; total time=   0.4s\n",
      "[CV] END max_depth=3, max_features=2, min_samples_split=8, n_estimators=64; total time=   0.2s\n",
      "[CV] END max_depth=3, max_features=2, min_samples_split=8, n_estimators=100; total time=   0.3s\n",
      "[CV] END max_depth=3, max_features=2, min_samples_split=8, n_estimators=300; total time=   0.8s\n",
      "[CV] END max_depth=3, max_features=3, min_samples_split=2, n_estimators=300; total time=   0.9s\n",
      "[CV] END max_depth=3, max_features=3, min_samples_split=8, n_estimators=50; total time=   0.2s\n",
      "[CV] END max_depth=3, max_features=3, min_samples_split=8, n_estimators=64; total time=   0.2s\n",
      "[CV] END max_depth=3, max_features=3, min_samples_split=8, n_estimators=100; total time=   0.3s\n",
      "[CV] END max_depth=3, max_features=3, min_samples_split=8, n_estimators=300; total time=   0.9s\n",
      "[CV] END max_depth=3, max_features=4, min_samples_split=2, n_estimators=300; total time=   1.0s\n",
      "[CV] END max_depth=3, max_features=4, min_samples_split=8, n_estimators=50; total time=   0.2s\n",
      "[CV] END max_depth=3, max_features=4, min_samples_split=8, n_estimators=64; total time=   0.2s\n",
      "[CV] END max_depth=3, max_features=4, min_samples_split=8, n_estimators=100; total time=   0.3s\n",
      "[CV] END max_depth=3, max_features=4, min_samples_split=8, n_estimators=300; total time=   1.0s\n",
      "[CV] END max_depth=3, max_features=auto, min_samples_split=2, n_estimators=300; total time=   1.0s\n",
      "[CV] END max_depth=3, max_features=auto, min_samples_split=8, n_estimators=50; total time=   0.2s\n",
      "[CV] END max_depth=3, max_features=auto, min_samples_split=8, n_estimators=64; total time=   0.2s\n",
      "[CV] END max_depth=3, max_features=auto, min_samples_split=8, n_estimators=128; total time=   0.4s\n",
      "[CV] END max_depth=3, max_features=auto, min_samples_split=8, n_estimators=300; total time=   1.0s\n",
      "[CV] END max_depth=5, max_features=2, min_samples_split=5, n_estimators=50; total time=   0.2s\n",
      "[CV] END max_depth=5, max_features=2, min_samples_split=5, n_estimators=64; total time=   0.2s\n",
      "[CV] END max_depth=5, max_features=2, min_samples_split=5, n_estimators=128; total time=   0.4s\n",
      "[CV] END max_depth=5, max_features=2, min_samples_split=5, n_estimators=300; total time=   1.0s\n",
      "[CV] END max_depth=5, max_features=3, min_samples_split=2, n_estimators=50; total time=   0.2s\n",
      "[CV] END max_depth=5, max_features=3, min_samples_split=2, n_estimators=100; total time=   0.4s\n",
      "[CV] END max_depth=5, max_features=3, min_samples_split=2, n_estimators=128; total time=   0.4s\n",
      "[CV] END max_depth=5, max_features=3, min_samples_split=5, n_estimators=50; total time=   0.2s\n",
      "[CV] END max_depth=5, max_features=3, min_samples_split=5, n_estimators=100; total time=   0.4s\n",
      "[CV] END max_depth=5, max_features=3, min_samples_split=5, n_estimators=128; total time=   0.4s\n",
      "[CV] END max_depth=5, max_features=3, min_samples_split=8, n_estimators=64; total time=   0.2s\n",
      "[CV] END max_depth=5, max_features=3, min_samples_split=8, n_estimators=100; total time=   0.4s\n",
      "[CV] END max_depth=5, max_features=3, min_samples_split=8, n_estimators=300; total time=   1.1s\n",
      "[CV] END max_depth=5, max_features=4, min_samples_split=2, n_estimators=128; total time=   0.5s\n",
      "[CV] END max_depth=5, max_features=4, min_samples_split=5, n_estimators=100; total time=   0.4s\n",
      "[CV] END max_depth=5, max_features=4, min_samples_split=5, n_estimators=128; total time=   0.5s\n",
      "[CV] END max_depth=5, max_features=4, min_samples_split=8, n_estimators=64; total time=   0.3s\n",
      "[CV] END max_depth=5, max_features=4, min_samples_split=8, n_estimators=100; total time=   0.4s\n",
      "[CV] END max_depth=5, max_features=4, min_samples_split=8, n_estimators=300; total time=   1.2s\n",
      "[CV] END max_depth=5, max_features=auto, min_samples_split=2, n_estimators=300; total time=   1.2s\n",
      "[CV] END max_depth=5, max_features=auto, min_samples_split=8, n_estimators=50; total time=   0.2s\n",
      "[CV] END max_depth=5, max_features=auto, min_samples_split=8, n_estimators=64; total time=   0.3s\n",
      "[CV] END max_depth=5, max_features=auto, min_samples_split=8, n_estimators=100; total time=   0.4s\n",
      "[CV] END max_depth=5, max_features=auto, min_samples_split=8, n_estimators=300; total time=   1.2s\n",
      "[CV] END max_depth=7, max_features=2, min_samples_split=2, n_estimators=300; total time=   1.2s\n",
      "[CV] END max_depth=7, max_features=2, min_samples_split=8, n_estimators=50; total time=   0.2s\n",
      "[CV] END max_depth=7, max_features=2, min_samples_split=8, n_estimators=100; total time=   0.4s\n",
      "[CV] END max_depth=7, max_features=2, min_samples_split=8, n_estimators=128; total time=   0.5s\n",
      "[CV] END max_depth=7, max_features=3, min_samples_split=2, n_estimators=50; total time=   0.2s\n",
      "[CV] END max_depth=7, max_features=3, min_samples_split=2, n_estimators=100; total time=   0.4s\n",
      "[CV] END max_depth=7, max_features=3, min_samples_split=2, n_estimators=128; total time=   0.6s\n",
      "[CV] END max_depth=7, max_features=3, min_samples_split=5, n_estimators=64; total time=   0.3s\n",
      "[CV] END max_depth=7, max_features=3, min_samples_split=5, n_estimators=100; total time=   0.5s\n",
      "[CV] END max_depth=7, max_features=3, min_samples_split=5, n_estimators=300; total time=   1.3s\n",
      "[CV] END max_depth=7, max_features=3, min_samples_split=8, n_estimators=300; total time=   1.2s\n",
      "[CV] END max_depth=7, max_features=4, min_samples_split=2, n_estimators=300; total time=   1.3s\n",
      "[CV] END max_depth=7, max_features=4, min_samples_split=8, n_estimators=50; total time=   0.3s\n",
      "[CV] END max_depth=7, max_features=4, min_samples_split=8, n_estimators=100; total time=   0.4s\n",
      "[CV] END max_depth=7, max_features=4, min_samples_split=8, n_estimators=128; total time=   0.6s\n",
      "[CV] END max_depth=7, max_features=auto, min_samples_split=2, n_estimators=50; total time=   0.3s\n",
      "[CV] END max_depth=7, max_features=auto, min_samples_split=2, n_estimators=100; total time=   0.4s\n",
      "[CV] END max_depth=7, max_features=auto, min_samples_split=2, n_estimators=128; total time=   0.6s\n",
      "[CV] END max_depth=7, max_features=auto, min_samples_split=5, n_estimators=64; total time=   0.3s\n",
      "[CV] END max_depth=7, max_features=auto, min_samples_split=5, n_estimators=100; total time=   0.5s\n",
      "[CV] END max_depth=7, max_features=auto, min_samples_split=5, n_estimators=128; total time=   0.6s\n",
      "[CV] END max_depth=7, max_features=auto, min_samples_split=8, n_estimators=64; total time=   0.3s\n",
      "[CV] END max_depth=7, max_features=auto, min_samples_split=8, n_estimators=128; total time=   0.6s\n",
      "[CV] END max_depth=9, max_features=2, min_samples_split=2, n_estimators=50; total time=   0.2s\n",
      "[CV] END max_depth=9, max_features=2, min_samples_split=2, n_estimators=64; total time=   0.3s\n",
      "[CV] END max_depth=9, max_features=2, min_samples_split=2, n_estimators=100; total time=   0.4s\n",
      "[CV] END max_depth=9, max_features=2, min_samples_split=2, n_estimators=300; total time=   1.2s\n",
      "[CV] END max_depth=9, max_features=2, min_samples_split=5, n_estimators=300; total time=   1.2s\n",
      "[CV] END max_depth=9, max_features=2, min_samples_split=8, n_estimators=300; total time=   1.2s\n",
      "[CV] END max_depth=9, max_features=3, min_samples_split=5, n_estimators=50; total time=   0.2s\n",
      "[CV] END max_depth=9, max_features=3, min_samples_split=5, n_estimators=64; total time=   0.3s\n",
      "[CV] END max_depth=9, max_features=3, min_samples_split=5, n_estimators=100; total time=   0.4s\n",
      "[CV] END max_depth=9, max_features=3, min_samples_split=5, n_estimators=128; total time=   0.6s\n",
      "[CV] END max_depth=9, max_features=3, min_samples_split=8, n_estimators=64; total time=   0.3s\n",
      "[CV] END max_depth=9, max_features=3, min_samples_split=8, n_estimators=128; total time=   0.5s\n",
      "[CV] END max_depth=9, max_features=4, min_samples_split=2, n_estimators=50; total time=   0.2s\n",
      "[CV] END max_depth=9, max_features=4, min_samples_split=2, n_estimators=64; total time=   0.3s\n",
      "[CV] END max_depth=9, max_features=4, min_samples_split=2, n_estimators=100; total time=   0.5s\n",
      "[CV] END max_depth=9, max_features=4, min_samples_split=2, n_estimators=128; total time=   0.6s\n",
      "[CV] END max_depth=9, max_features=4, min_samples_split=5, n_estimators=100; total time=   0.5s\n",
      "[CV] END max_depth=9, max_features=4, min_samples_split=5, n_estimators=128; total time=   0.6s\n",
      "[CV] END max_depth=9, max_features=4, min_samples_split=8, n_estimators=64; total time=   0.3s\n",
      "[CV] END max_depth=9, max_features=4, min_samples_split=8, n_estimators=100; total time=   0.5s\n",
      "[CV] END max_depth=9, max_features=4, min_samples_split=8, n_estimators=128; total time=   0.6s\n",
      "[CV] END max_depth=9, max_features=auto, min_samples_split=2, n_estimators=100; total time=   0.5s\n",
      "[CV] END max_depth=9, max_features=auto, min_samples_split=2, n_estimators=128; total time=   0.6s\n",
      "[CV] END max_depth=9, max_features=auto, min_samples_split=5, n_estimators=50; total time=   0.2s\n",
      "[CV] END max_depth=9, max_features=auto, min_samples_split=5, n_estimators=100; total time=   0.5s\n",
      "[CV] END max_depth=9, max_features=auto, min_samples_split=5, n_estimators=128; total time=   0.6s\n",
      "[CV] END max_depth=9, max_features=auto, min_samples_split=8, n_estimators=64; total time=   0.3s\n",
      "[CV] END max_depth=9, max_features=auto, min_samples_split=8, n_estimators=100; total time=   0.5s\n",
      "[CV] END max_depth=9, max_features=auto, min_samples_split=8, n_estimators=300; total time=   1.0s\n",
      "[CV] END max_depth=3, max_features=2, min_samples_split=2, n_estimators=50; total time=   0.2s\n",
      "[CV] END max_depth=3, max_features=2, min_samples_split=2, n_estimators=100; total time=   0.3s\n",
      "[CV] END max_depth=3, max_features=2, min_samples_split=5, n_estimators=50; total time=   0.2s\n",
      "[CV] END max_depth=3, max_features=2, min_samples_split=5, n_estimators=64; total time=   0.2s\n",
      "[CV] END max_depth=3, max_features=2, min_samples_split=5, n_estimators=128; total time=   0.4s\n",
      "[CV] END max_depth=3, max_features=2, min_samples_split=8, n_estimators=50; total time=   0.2s\n",
      "[CV] END max_depth=3, max_features=2, min_samples_split=8, n_estimators=64; total time=   0.2s\n",
      "[CV] END max_depth=3, max_features=2, min_samples_split=8, n_estimators=100; total time=   0.3s\n",
      "[CV] END max_depth=3, max_features=2, min_samples_split=8, n_estimators=128; total time=   0.4s\n",
      "[CV] END max_depth=3, max_features=3, min_samples_split=2, n_estimators=100; total time=   0.3s\n",
      "[CV] END max_depth=3, max_features=3, min_samples_split=2, n_estimators=128; total time=   0.4s\n",
      "[CV] END max_depth=3, max_features=3, min_samples_split=5, n_estimators=50; total time=   0.2s\n",
      "[CV] END max_depth=3, max_features=3, min_samples_split=5, n_estimators=100; total time=   0.3s\n",
      "[CV] END max_depth=3, max_features=3, min_samples_split=5, n_estimators=128; total time=   0.4s\n",
      "[CV] END max_depth=3, max_features=3, min_samples_split=8, n_estimators=64; total time=   0.2s\n",
      "[CV] END max_depth=3, max_features=3, min_samples_split=8, n_estimators=100; total time=   0.3s\n",
      "[CV] END max_depth=3, max_features=3, min_samples_split=8, n_estimators=128; total time=   0.4s\n",
      "[CV] END max_depth=3, max_features=4, min_samples_split=2, n_estimators=100; total time=   0.3s\n",
      "[CV] END max_depth=3, max_features=4, min_samples_split=2, n_estimators=128; total time=   0.4s\n",
      "[CV] END max_depth=3, max_features=4, min_samples_split=5, n_estimators=50; total time=   0.2s\n",
      "[CV] END max_depth=3, max_features=4, min_samples_split=5, n_estimators=100; total time=   0.3s\n",
      "[CV] END max_depth=3, max_features=4, min_samples_split=5, n_estimators=128; total time=   0.4s\n",
      "[CV] END max_depth=3, max_features=4, min_samples_split=8, n_estimators=64; total time=   0.2s\n",
      "[CV] END max_depth=3, max_features=4, min_samples_split=8, n_estimators=128; total time=   0.4s\n",
      "[CV] END max_depth=3, max_features=4, min_samples_split=8, n_estimators=300; total time=   1.0s\n",
      "[CV] END max_depth=3, max_features=auto, min_samples_split=5, n_estimators=50; total time=   0.2s\n",
      "[CV] END max_depth=3, max_features=auto, min_samples_split=5, n_estimators=64; total time=   0.2s\n",
      "[CV] END max_depth=3, max_features=auto, min_samples_split=5, n_estimators=128; total time=   0.4s\n",
      "[CV] END max_depth=3, max_features=auto, min_samples_split=8, n_estimators=50; total time=   0.2s\n",
      "[CV] END max_depth=3, max_features=auto, min_samples_split=8, n_estimators=64; total time=   0.2s\n",
      "[CV] END max_depth=3, max_features=auto, min_samples_split=8, n_estimators=100; total time=   0.3s\n",
      "[CV] END max_depth=3, max_features=auto, min_samples_split=8, n_estimators=300; total time=   1.0s\n",
      "[CV] END max_depth=5, max_features=2, min_samples_split=2, n_estimators=300; total time=   1.0s\n",
      "[CV] END max_depth=5, max_features=2, min_samples_split=8, n_estimators=50; total time=   0.2s\n",
      "[CV] END max_depth=5, max_features=2, min_samples_split=8, n_estimators=64; total time=   0.2s\n",
      "[CV] END max_depth=5, max_features=2, min_samples_split=8, n_estimators=100; total time=   0.4s\n",
      "[CV] END max_depth=5, max_features=2, min_samples_split=8, n_estimators=300; total time=   1.0s\n",
      "[CV] END max_depth=5, max_features=3, min_samples_split=2, n_estimators=300; total time=   1.0s\n",
      "[CV] END max_depth=5, max_features=3, min_samples_split=8, n_estimators=50; total time=   0.2s\n",
      "[CV] END max_depth=5, max_features=3, min_samples_split=8, n_estimators=50; total time=   0.2s\n",
      "[CV] END max_depth=5, max_features=3, min_samples_split=8, n_estimators=100; total time=   0.4s\n",
      "[CV] END max_depth=5, max_features=3, min_samples_split=8, n_estimators=128; total time=   0.5s\n",
      "[CV] END max_depth=5, max_features=4, min_samples_split=2, n_estimators=64; total time=   0.3s\n",
      "[CV] END max_depth=5, max_features=4, min_samples_split=2, n_estimators=100; total time=   0.4s\n",
      "[CV] END max_depth=5, max_features=4, min_samples_split=2, n_estimators=300; total time=   1.2s\n",
      "[CV] END max_depth=5, max_features=4, min_samples_split=8, n_estimators=50; total time=   0.2s\n",
      "[CV] END max_depth=5, max_features=4, min_samples_split=8, n_estimators=64; total time=   0.3s\n",
      "[CV] END max_depth=5, max_features=4, min_samples_split=8, n_estimators=100; total time=   0.4s\n",
      "[CV] END max_depth=5, max_features=4, min_samples_split=8, n_estimators=128; total time=   0.5s\n",
      "[CV] END max_depth=5, max_features=auto, min_samples_split=2, n_estimators=64; total time=   0.3s\n",
      "[CV] END max_depth=5, max_features=auto, min_samples_split=2, n_estimators=100; total time=   0.4s\n",
      "[CV] END max_depth=5, max_features=auto, min_samples_split=2, n_estimators=300; total time=   1.3s\n",
      "[CV] END max_depth=5, max_features=auto, min_samples_split=8, n_estimators=50; total time=   0.2s\n",
      "[CV] END max_depth=5, max_features=auto, min_samples_split=8, n_estimators=64; total time=   0.3s\n",
      "[CV] END max_depth=5, max_features=auto, min_samples_split=8, n_estimators=128; total time=   0.5s\n",
      "[CV] END max_depth=5, max_features=auto, min_samples_split=8, n_estimators=300; total time=   1.2s\n",
      "[CV] END max_depth=7, max_features=2, min_samples_split=5, n_estimators=50; total time=   0.2s\n",
      "[CV] END max_depth=7, max_features=2, min_samples_split=5, n_estimators=100; total time=   0.4s\n",
      "[CV] END max_depth=7, max_features=2, min_samples_split=5, n_estimators=128; total time=   0.5s\n",
      "[CV] END max_depth=7, max_features=2, min_samples_split=8, n_estimators=64; total time=   0.3s\n",
      "[CV] END max_depth=7, max_features=2, min_samples_split=8, n_estimators=100; total time=   0.4s\n",
      "[CV] END max_depth=7, max_features=2, min_samples_split=8, n_estimators=128; total time=   0.5s\n",
      "[CV] END max_depth=7, max_features=3, min_samples_split=2, n_estimators=64; total time=   0.3s\n",
      "[CV] END max_depth=7, max_features=3, min_samples_split=2, n_estimators=128; total time=   0.6s\n",
      "[CV] END max_depth=7, max_features=3, min_samples_split=5, n_estimators=50; total time=   0.2s\n",
      "[CV] END max_depth=7, max_features=3, min_samples_split=5, n_estimators=64; total time=   0.3s\n",
      "[CV] END max_depth=7, max_features=3, min_samples_split=5, n_estimators=128; total time=   0.6s\n",
      "[CV] END max_depth=7, max_features=3, min_samples_split=8, n_estimators=50; total time=   0.2s\n",
      "[CV] END max_depth=7, max_features=3, min_samples_split=8, n_estimators=50; total time=   0.2s\n",
      "[CV] END max_depth=7, max_features=3, min_samples_split=8, n_estimators=100; total time=   0.4s\n",
      "[CV] END max_depth=7, max_features=3, min_samples_split=8, n_estimators=128; total time=   0.5s\n",
      "[CV] END max_depth=7, max_features=4, min_samples_split=2, n_estimators=64; total time=   0.3s\n",
      "[CV] END max_depth=7, max_features=4, min_samples_split=2, n_estimators=100; total time=   0.4s\n",
      "[CV] END max_depth=7, max_features=4, min_samples_split=2, n_estimators=128; total time=   0.6s\n",
      "[CV] END max_depth=7, max_features=4, min_samples_split=5, n_estimators=100; total time=   0.4s\n",
      "[CV] END max_depth=7, max_features=4, min_samples_split=5, n_estimators=128; total time=   0.5s\n",
      "[CV] END max_depth=7, max_features=4, min_samples_split=8, n_estimators=50; total time=   0.3s\n",
      "[CV] END max_depth=7, max_features=4, min_samples_split=8, n_estimators=100; total time=   0.4s\n",
      "[CV] END max_depth=7, max_features=4, min_samples_split=8, n_estimators=128; total time=   0.6s\n",
      "[CV] END max_depth=7, max_features=auto, min_samples_split=2, n_estimators=64; total time=   0.3s\n",
      "[CV] END max_depth=7, max_features=auto, min_samples_split=2, n_estimators=100; total time=   0.4s\n",
      "[CV] END max_depth=7, max_features=auto, min_samples_split=2, n_estimators=300; total time=   1.4s\n",
      "[CV] END max_depth=7, max_features=auto, min_samples_split=5, n_estimators=300; total time=   1.3s\n",
      "[CV] END max_depth=9, max_features=2, min_samples_split=2, n_estimators=50; total time=   0.2s\n",
      "[CV] END max_depth=9, max_features=2, min_samples_split=2, n_estimators=64; total time=   0.3s\n",
      "[CV] END max_depth=9, max_features=2, min_samples_split=2, n_estimators=128; total time=   0.5s\n",
      "[CV] END max_depth=9, max_features=2, min_samples_split=2, n_estimators=300; total time=   1.2s\n",
      "[CV] END max_depth=9, max_features=2, min_samples_split=8, n_estimators=50; total time=   0.2s\n",
      "[CV] END max_depth=9, max_features=2, min_samples_split=8, n_estimators=64; total time=   0.3s\n",
      "[CV] END max_depth=9, max_features=2, min_samples_split=8, n_estimators=128; total time=   0.5s\n",
      "[CV] END max_depth=9, max_features=3, min_samples_split=2, n_estimators=50; total time=   0.2s\n",
      "[CV] END max_depth=9, max_features=3, min_samples_split=2, n_estimators=64; total time=   0.3s\n",
      "[CV] END max_depth=9, max_features=3, min_samples_split=2, n_estimators=100; total time=   0.4s\n",
      "[CV] END max_depth=9, max_features=3, min_samples_split=2, n_estimators=300; total time=   1.3s\n",
      "[CV] END max_depth=9, max_features=3, min_samples_split=8, n_estimators=50; total time=   0.2s\n",
      "[CV] END max_depth=9, max_features=3, min_samples_split=8, n_estimators=50; total time=   0.2s\n",
      "[CV] END max_depth=9, max_features=3, min_samples_split=8, n_estimators=100; total time=   0.4s\n",
      "[CV] END max_depth=9, max_features=3, min_samples_split=8, n_estimators=128; total time=   0.6s\n",
      "[CV] END max_depth=9, max_features=4, min_samples_split=2, n_estimators=64; total time=   0.3s\n",
      "[CV] END max_depth=9, max_features=4, min_samples_split=2, n_estimators=100; total time=   0.5s\n",
      "[CV] END max_depth=9, max_features=4, min_samples_split=2, n_estimators=300; total time=   1.4s\n",
      "[CV] END max_depth=9, max_features=4, min_samples_split=5, n_estimators=300; total time=   1.4s\n",
      "[CV] END max_depth=9, max_features=auto, min_samples_split=2, n_estimators=50; total time=   0.2s\n",
      "[CV] END max_depth=9, max_features=auto, min_samples_split=2, n_estimators=64; total time=   0.3s\n",
      "[CV] END max_depth=9, max_features=auto, min_samples_split=2, n_estimators=128; total time=   0.6s\n",
      "[CV] END max_depth=9, max_features=auto, min_samples_split=5, n_estimators=50; total time=   0.2s\n",
      "[CV] END max_depth=9, max_features=auto, min_samples_split=5, n_estimators=64; total time=   0.3s\n",
      "[CV] END max_depth=9, max_features=auto, min_samples_split=5, n_estimators=100; total time=   0.5s\n",
      "[CV] END max_depth=9, max_features=auto, min_samples_split=5, n_estimators=300; total time=   1.4s\n",
      "[CV] END max_depth=9, max_features=auto, min_samples_split=8, n_estimators=300; total time=   1.0s\n"
     ]
    },
    {
     "name": "stdout",
     "output_type": "stream",
     "text": [
      "[CV] END max_depth=3, max_features=2, min_samples_split=2, n_estimators=50; total time=   0.2s\n",
      "[CV] END max_depth=3, max_features=2, min_samples_split=2, n_estimators=100; total time=   0.3s\n",
      "[CV] END max_depth=3, max_features=2, min_samples_split=5, n_estimators=50; total time=   0.2s\n",
      "[CV] END max_depth=3, max_features=2, min_samples_split=5, n_estimators=64; total time=   0.2s\n",
      "[CV] END max_depth=3, max_features=2, min_samples_split=5, n_estimators=100; total time=   0.3s\n",
      "[CV] END max_depth=3, max_features=2, min_samples_split=5, n_estimators=300; total time=   0.9s\n",
      "[CV] END max_depth=3, max_features=3, min_samples_split=2, n_estimators=50; total time=   0.2s\n",
      "[CV] END max_depth=3, max_features=3, min_samples_split=2, n_estimators=64; total time=   0.2s\n",
      "[CV] END max_depth=3, max_features=3, min_samples_split=2, n_estimators=100; total time=   0.3s\n",
      "[CV] END max_depth=3, max_features=3, min_samples_split=2, n_estimators=300; total time=   0.9s\n",
      "[CV] END max_depth=3, max_features=3, min_samples_split=5, n_estimators=300; total time=   0.9s\n",
      "[CV] END max_depth=3, max_features=4, min_samples_split=2, n_estimators=50; total time=   0.2s\n",
      "[CV] END max_depth=3, max_features=4, min_samples_split=2, n_estimators=64; total time=   0.2s\n",
      "[CV] END max_depth=3, max_features=4, min_samples_split=2, n_estimators=100; total time=   0.3s\n",
      "[CV] END max_depth=3, max_features=4, min_samples_split=2, n_estimators=300; total time=   1.0s\n",
      "[CV] END max_depth=3, max_features=4, min_samples_split=8, n_estimators=50; total time=   0.2s\n",
      "[CV] END max_depth=3, max_features=4, min_samples_split=8, n_estimators=64; total time=   0.2s\n",
      "[CV] END max_depth=3, max_features=4, min_samples_split=8, n_estimators=100; total time=   0.3s\n",
      "[CV] END max_depth=3, max_features=4, min_samples_split=8, n_estimators=300; total time=   0.9s\n",
      "[CV] END max_depth=3, max_features=auto, min_samples_split=2, n_estimators=300; total time=   1.0s\n",
      "[CV] END max_depth=3, max_features=auto, min_samples_split=8, n_estimators=50; total time=   0.2s\n",
      "[CV] END max_depth=3, max_features=auto, min_samples_split=8, n_estimators=64; total time=   0.2s\n",
      "[CV] END max_depth=3, max_features=auto, min_samples_split=8, n_estimators=100; total time=   0.3s\n",
      "[CV] END max_depth=3, max_features=auto, min_samples_split=8, n_estimators=300; total time=   1.0s\n",
      "[CV] END max_depth=5, max_features=2, min_samples_split=2, n_estimators=300; total time=   1.0s\n",
      "[CV] END max_depth=5, max_features=2, min_samples_split=8, n_estimators=50; total time=   0.2s\n",
      "[CV] END max_depth=5, max_features=2, min_samples_split=8, n_estimators=64; total time=   0.2s\n",
      "[CV] END max_depth=5, max_features=2, min_samples_split=8, n_estimators=128; total time=   0.5s\n",
      "[CV] END max_depth=5, max_features=3, min_samples_split=2, n_estimators=50; total time=   0.2s\n",
      "[CV] END max_depth=5, max_features=3, min_samples_split=2, n_estimators=64; total time=   0.2s\n",
      "[CV] END max_depth=5, max_features=3, min_samples_split=2, n_estimators=100; total time=   0.4s\n",
      "[CV] END max_depth=5, max_features=3, min_samples_split=2, n_estimators=300; total time=   1.0s\n",
      "[CV] END max_depth=5, max_features=3, min_samples_split=5, n_estimators=300; total time=   1.1s\n",
      "[CV] END max_depth=5, max_features=4, min_samples_split=2, n_estimators=50; total time=   0.2s\n",
      "[CV] END max_depth=5, max_features=4, min_samples_split=2, n_estimators=64; total time=   0.3s\n",
      "[CV] END max_depth=5, max_features=4, min_samples_split=2, n_estimators=128; total time=   0.5s\n",
      "[CV] END max_depth=5, max_features=4, min_samples_split=5, n_estimators=50; total time=   0.2s\n",
      "[CV] END max_depth=5, max_features=4, min_samples_split=5, n_estimators=64; total time=   0.3s\n",
      "[CV] END max_depth=5, max_features=4, min_samples_split=5, n_estimators=128; total time=   0.5s\n",
      "[CV] END max_depth=5, max_features=4, min_samples_split=5, n_estimators=300; total time=   1.2s\n",
      "[CV] END max_depth=5, max_features=auto, min_samples_split=2, n_estimators=50; total time=   0.2s\n",
      "[CV] END max_depth=5, max_features=auto, min_samples_split=2, n_estimators=64; total time=   0.3s\n",
      "[CV] END max_depth=5, max_features=auto, min_samples_split=2, n_estimators=128; total time=   0.5s\n",
      "[CV] END max_depth=5, max_features=auto, min_samples_split=5, n_estimators=50; total time=   0.2s\n",
      "[CV] END max_depth=5, max_features=auto, min_samples_split=5, n_estimators=64; total time=   0.3s\n",
      "[CV] END max_depth=5, max_features=auto, min_samples_split=5, n_estimators=100; total time=   0.4s\n",
      "[CV] END max_depth=5, max_features=auto, min_samples_split=5, n_estimators=128; total time=   0.5s\n",
      "[CV] END max_depth=5, max_features=auto, min_samples_split=8, n_estimators=64; total time=   0.3s\n",
      "[CV] END max_depth=5, max_features=auto, min_samples_split=8, n_estimators=128; total time=   0.5s\n",
      "[CV] END max_depth=7, max_features=2, min_samples_split=2, n_estimators=50; total time=   0.2s\n",
      "[CV] END max_depth=7, max_features=2, min_samples_split=2, n_estimators=64; total time=   0.3s\n",
      "[CV] END max_depth=7, max_features=2, min_samples_split=2, n_estimators=100; total time=   0.4s\n",
      "[CV] END max_depth=7, max_features=2, min_samples_split=2, n_estimators=300; total time=   1.2s\n",
      "[CV] END max_depth=7, max_features=2, min_samples_split=5, n_estimators=300; total time=   1.2s\n",
      "[CV] END max_depth=7, max_features=3, min_samples_split=2, n_estimators=50; total time=   0.2s\n",
      "[CV] END max_depth=7, max_features=3, min_samples_split=2, n_estimators=64; total time=   0.3s\n",
      "[CV] END max_depth=7, max_features=3, min_samples_split=2, n_estimators=100; total time=   0.5s\n",
      "[CV] END max_depth=7, max_features=3, min_samples_split=2, n_estimators=300; total time=   1.3s\n",
      "[CV] END max_depth=7, max_features=3, min_samples_split=5, n_estimators=300; total time=   1.3s\n",
      "[CV] END max_depth=7, max_features=4, min_samples_split=2, n_estimators=50; total time=   0.2s\n",
      "[CV] END max_depth=7, max_features=4, min_samples_split=2, n_estimators=64; total time=   0.3s\n",
      "[CV] END max_depth=7, max_features=4, min_samples_split=2, n_estimators=128; total time=   0.6s\n",
      "[CV] END max_depth=7, max_features=4, min_samples_split=5, n_estimators=50; total time=   0.2s\n",
      "[CV] END max_depth=7, max_features=4, min_samples_split=5, n_estimators=64; total time=   0.3s\n",
      "[CV] END max_depth=7, max_features=4, min_samples_split=5, n_estimators=100; total time=   0.5s\n",
      "[CV] END max_depth=7, max_features=4, min_samples_split=5, n_estimators=300; total time=   1.4s\n",
      "[CV] END max_depth=7, max_features=4, min_samples_split=8, n_estimators=300; total time=   1.4s\n",
      "[CV] END max_depth=7, max_features=auto, min_samples_split=5, n_estimators=50; total time=   0.2s\n",
      "[CV] END max_depth=7, max_features=auto, min_samples_split=5, n_estimators=64; total time=   0.3s\n",
      "[CV] END max_depth=7, max_features=auto, min_samples_split=5, n_estimators=100; total time=   0.5s\n",
      "[CV] END max_depth=7, max_features=auto, min_samples_split=5, n_estimators=300; total time=   1.3s\n",
      "[CV] END max_depth=7, max_features=auto, min_samples_split=8, n_estimators=300; total time=   1.4s\n",
      "[CV] END max_depth=9, max_features=2, min_samples_split=5, n_estimators=50; total time=   0.2s\n",
      "[CV] END max_depth=9, max_features=2, min_samples_split=5, n_estimators=64; total time=   0.3s\n",
      "[CV] END max_depth=9, max_features=2, min_samples_split=5, n_estimators=128; total time=   0.5s\n",
      "[CV] END max_depth=9, max_features=2, min_samples_split=8, n_estimators=50; total time=   0.2s\n",
      "[CV] END max_depth=9, max_features=2, min_samples_split=8, n_estimators=64; total time=   0.3s\n",
      "[CV] END max_depth=9, max_features=2, min_samples_split=8, n_estimators=100; total time=   0.4s\n",
      "[CV] END max_depth=9, max_features=2, min_samples_split=8, n_estimators=128; total time=   0.5s\n",
      "[CV] END max_depth=9, max_features=3, min_samples_split=2, n_estimators=64; total time=   0.3s\n",
      "[CV] END max_depth=9, max_features=3, min_samples_split=2, n_estimators=128; total time=   0.6s\n",
      "[CV] END max_depth=9, max_features=3, min_samples_split=5, n_estimators=50; total time=   0.2s\n",
      "[CV] END max_depth=9, max_features=3, min_samples_split=5, n_estimators=64; total time=   0.3s\n",
      "[CV] END max_depth=9, max_features=3, min_samples_split=5, n_estimators=128; total time=   0.6s\n",
      "[CV] END max_depth=9, max_features=3, min_samples_split=5, n_estimators=300; total time=   1.3s\n",
      "[CV] END max_depth=9, max_features=4, min_samples_split=2, n_estimators=50; total time=   0.2s\n",
      "[CV] END max_depth=9, max_features=4, min_samples_split=2, n_estimators=64; total time=   0.3s\n",
      "[CV] END max_depth=9, max_features=4, min_samples_split=2, n_estimators=128; total time=   0.6s\n",
      "[CV] END max_depth=9, max_features=4, min_samples_split=5, n_estimators=50; total time=   0.2s\n",
      "[CV] END max_depth=9, max_features=4, min_samples_split=5, n_estimators=64; total time=   0.3s\n",
      "[CV] END max_depth=9, max_features=4, min_samples_split=5, n_estimators=100; total time=   0.5s\n",
      "[CV] END max_depth=9, max_features=4, min_samples_split=5, n_estimators=300; total time=   1.4s\n",
      "[CV] END max_depth=9, max_features=4, min_samples_split=8, n_estimators=300; total time=   1.4s\n",
      "[CV] END max_depth=9, max_features=auto, min_samples_split=5, n_estimators=50; total time=   0.2s\n",
      "[CV] END max_depth=9, max_features=auto, min_samples_split=5, n_estimators=64; total time=   0.3s\n",
      "[CV] END max_depth=9, max_features=auto, min_samples_split=5, n_estimators=100; total time=   0.5s\n",
      "[CV] END max_depth=9, max_features=auto, min_samples_split=5, n_estimators=300; total time=   1.4s\n",
      "[CV] END max_depth=9, max_features=auto, min_samples_split=8, n_estimators=300; total time=   1.0s\n",
      "[CV] END max_depth=3, max_features=2, min_samples_split=2, n_estimators=100; total time=   0.3s\n",
      "[CV] END max_depth=3, max_features=2, min_samples_split=2, n_estimators=300; total time=   0.9s\n",
      "[CV] END max_depth=3, max_features=2, min_samples_split=5, n_estimators=300; total time=   0.9s\n",
      "[CV] END max_depth=3, max_features=3, min_samples_split=2, n_estimators=50; total time=   0.2s\n",
      "[CV] END max_depth=3, max_features=3, min_samples_split=2, n_estimators=64; total time=   0.2s\n",
      "[CV] END max_depth=3, max_features=3, min_samples_split=2, n_estimators=128; total time=   0.4s\n",
      "[CV] END max_depth=3, max_features=3, min_samples_split=5, n_estimators=50; total time=   0.2s\n",
      "[CV] END max_depth=3, max_features=3, min_samples_split=5, n_estimators=64; total time=   0.2s\n",
      "[CV] END max_depth=3, max_features=3, min_samples_split=5, n_estimators=100; total time=   0.3s\n",
      "[CV] END max_depth=3, max_features=3, min_samples_split=5, n_estimators=300; total time=   0.9s\n",
      "[CV] END max_depth=3, max_features=3, min_samples_split=8, n_estimators=300; total time=   0.9s\n",
      "[CV] END max_depth=3, max_features=4, min_samples_split=5, n_estimators=50; total time=   0.2s\n",
      "[CV] END max_depth=3, max_features=4, min_samples_split=5, n_estimators=64; total time=   0.2s\n",
      "[CV] END max_depth=3, max_features=4, min_samples_split=5, n_estimators=100; total time=   0.3s\n",
      "[CV] END max_depth=3, max_features=4, min_samples_split=5, n_estimators=300; total time=   1.0s\n",
      "[CV] END max_depth=3, max_features=4, min_samples_split=8, n_estimators=300; total time=   1.0s\n",
      "[CV] END max_depth=3, max_features=auto, min_samples_split=5, n_estimators=50; total time=   0.2s\n",
      "[CV] END max_depth=3, max_features=auto, min_samples_split=5, n_estimators=64; total time=   0.2s\n",
      "[CV] END max_depth=3, max_features=auto, min_samples_split=5, n_estimators=100; total time=   0.3s\n",
      "[CV] END max_depth=3, max_features=auto, min_samples_split=5, n_estimators=300; total time=   1.0s\n",
      "[CV] END max_depth=3, max_features=auto, min_samples_split=8, n_estimators=300; total time=   1.0s\n",
      "[CV] END max_depth=5, max_features=2, min_samples_split=5, n_estimators=50; total time=   0.2s\n",
      "[CV] END max_depth=5, max_features=2, min_samples_split=5, n_estimators=64; total time=   0.2s\n",
      "[CV] END max_depth=5, max_features=2, min_samples_split=5, n_estimators=128; total time=   0.4s\n",
      "[CV] END max_depth=5, max_features=2, min_samples_split=8, n_estimators=50; total time=   0.2s\n",
      "[CV] END max_depth=5, max_features=2, min_samples_split=8, n_estimators=64; total time=   0.2s\n",
      "[CV] END max_depth=5, max_features=2, min_samples_split=8, n_estimators=100; total time=   0.4s\n",
      "[CV] END max_depth=5, max_features=2, min_samples_split=8, n_estimators=300; total time=   1.0s\n",
      "[CV] END max_depth=5, max_features=3, min_samples_split=2, n_estimators=300; total time=   1.0s\n",
      "[CV] END max_depth=5, max_features=3, min_samples_split=5, n_estimators=300; total time=   1.1s\n",
      "[CV] END max_depth=5, max_features=4, min_samples_split=2, n_estimators=50; total time=   0.2s\n",
      "[CV] END max_depth=5, max_features=4, min_samples_split=2, n_estimators=100; total time=   0.4s\n",
      "[CV] END max_depth=5, max_features=4, min_samples_split=2, n_estimators=128; total time=   0.5s\n",
      "[CV] END max_depth=5, max_features=4, min_samples_split=5, n_estimators=50; total time=   0.2s\n",
      "[CV] END max_depth=5, max_features=4, min_samples_split=5, n_estimators=100; total time=   0.4s\n",
      "[CV] END max_depth=5, max_features=4, min_samples_split=5, n_estimators=128; total time=   0.5s\n",
      "[CV] END max_depth=5, max_features=4, min_samples_split=8, n_estimators=64; total time=   0.3s\n",
      "[CV] END max_depth=5, max_features=4, min_samples_split=8, n_estimators=100; total time=   0.4s\n",
      "[CV] END max_depth=5, max_features=4, min_samples_split=8, n_estimators=300; total time=   1.2s\n",
      "[CV] END max_depth=5, max_features=auto, min_samples_split=2, n_estimators=300; total time=   1.2s\n",
      "[CV] END max_depth=5, max_features=auto, min_samples_split=8, n_estimators=50; total time=   0.2s\n",
      "[CV] END max_depth=5, max_features=auto, min_samples_split=8, n_estimators=64; total time=   0.3s\n",
      "[CV] END max_depth=5, max_features=auto, min_samples_split=8, n_estimators=100; total time=   0.4s\n",
      "[CV] END max_depth=5, max_features=auto, min_samples_split=8, n_estimators=300; total time=   1.2s\n",
      "[CV] END max_depth=7, max_features=2, min_samples_split=2, n_estimators=300; total time=   1.2s\n",
      "[CV] END max_depth=7, max_features=2, min_samples_split=8, n_estimators=50; total time=   0.2s\n",
      "[CV] END max_depth=7, max_features=2, min_samples_split=8, n_estimators=64; total time=   0.3s\n",
      "[CV] END max_depth=7, max_features=2, min_samples_split=8, n_estimators=100; total time=   0.4s\n",
      "[CV] END max_depth=7, max_features=2, min_samples_split=8, n_estimators=300; total time=   1.2s\n",
      "[CV] END max_depth=7, max_features=3, min_samples_split=2, n_estimators=300; total time=   1.3s\n",
      "[CV] END max_depth=7, max_features=3, min_samples_split=8, n_estimators=50; total time=   0.2s\n",
      "[CV] END max_depth=7, max_features=3, min_samples_split=8, n_estimators=100; total time=   0.4s\n",
      "[CV] END max_depth=7, max_features=3, min_samples_split=8, n_estimators=128; total time=   0.5s\n",
      "[CV] END max_depth=7, max_features=4, min_samples_split=2, n_estimators=50; total time=   0.2s\n",
      "[CV] END max_depth=7, max_features=4, min_samples_split=2, n_estimators=100; total time=   0.4s\n",
      "[CV] END max_depth=7, max_features=4, min_samples_split=2, n_estimators=128; total time=   0.6s\n",
      "[CV] END max_depth=7, max_features=4, min_samples_split=5, n_estimators=64; total time=   0.3s\n",
      "[CV] END max_depth=7, max_features=4, min_samples_split=5, n_estimators=128; total time=   0.6s\n",
      "[CV] END max_depth=7, max_features=4, min_samples_split=5, n_estimators=300; total time=   1.4s\n",
      "[CV] END max_depth=7, max_features=auto, min_samples_split=2, n_estimators=50; total time=   0.3s\n",
      "[CV] END max_depth=7, max_features=auto, min_samples_split=2, n_estimators=64; total time=   0.3s\n",
      "[CV] END max_depth=7, max_features=auto, min_samples_split=2, n_estimators=128; total time=   0.6s\n",
      "[CV] END max_depth=7, max_features=auto, min_samples_split=2, n_estimators=300; total time=   1.4s\n",
      "[CV] END max_depth=7, max_features=auto, min_samples_split=8, n_estimators=50; total time=   0.2s\n",
      "[CV] END max_depth=7, max_features=auto, min_samples_split=8, n_estimators=100; total time=   0.5s\n",
      "[CV] END max_depth=7, max_features=auto, min_samples_split=8, n_estimators=128; total time=   0.6s\n",
      "[CV] END max_depth=9, max_features=2, min_samples_split=2, n_estimators=50; total time=   0.2s\n",
      "[CV] END max_depth=9, max_features=2, min_samples_split=2, n_estimators=100; total time=   0.4s\n",
      "[CV] END max_depth=9, max_features=2, min_samples_split=2, n_estimators=128; total time=   0.5s\n",
      "[CV] END max_depth=9, max_features=2, min_samples_split=5, n_estimators=64; total time=   0.3s\n",
      "[CV] END max_depth=9, max_features=2, min_samples_split=5, n_estimators=100; total time=   0.4s\n",
      "[CV] END max_depth=9, max_features=2, min_samples_split=5, n_estimators=128; total time=   0.5s\n",
      "[CV] END max_depth=9, max_features=2, min_samples_split=8, n_estimators=64; total time=   0.3s\n",
      "[CV] END max_depth=9, max_features=2, min_samples_split=8, n_estimators=100; total time=   0.4s\n",
      "[CV] END max_depth=9, max_features=2, min_samples_split=8, n_estimators=300; total time=   1.2s\n",
      "[CV] END max_depth=9, max_features=3, min_samples_split=2, n_estimators=300; total time=   1.3s\n",
      "[CV] END max_depth=9, max_features=3, min_samples_split=8, n_estimators=50; total time=   0.2s\n",
      "[CV] END max_depth=9, max_features=3, min_samples_split=8, n_estimators=64; total time=   0.3s\n",
      "[CV] END max_depth=9, max_features=3, min_samples_split=8, n_estimators=100; total time=   0.4s\n",
      "[CV] END max_depth=9, max_features=3, min_samples_split=8, n_estimators=128; total time=   0.6s\n",
      "[CV] END max_depth=9, max_features=4, min_samples_split=2, n_estimators=100; total time=   0.5s\n",
      "[CV] END max_depth=9, max_features=4, min_samples_split=2, n_estimators=128; total time=   0.6s\n",
      "[CV] END max_depth=9, max_features=4, min_samples_split=5, n_estimators=50; total time=   0.2s\n",
      "[CV] END max_depth=9, max_features=4, min_samples_split=5, n_estimators=100; total time=   0.5s\n",
      "[CV] END max_depth=9, max_features=4, min_samples_split=5, n_estimators=128; total time=   0.6s\n",
      "[CV] END max_depth=9, max_features=4, min_samples_split=8, n_estimators=64; total time=   0.3s\n",
      "[CV] END max_depth=9, max_features=4, min_samples_split=8, n_estimators=100; total time=   0.5s\n",
      "[CV] END max_depth=9, max_features=4, min_samples_split=8, n_estimators=300; total time=   1.4s\n",
      "[CV] END max_depth=9, max_features=auto, min_samples_split=2, n_estimators=300; total time=   1.4s\n",
      "[CV] END max_depth=9, max_features=auto, min_samples_split=8, n_estimators=50; total time=   0.2s\n",
      "[CV] END max_depth=9, max_features=auto, min_samples_split=8, n_estimators=64; total time=   0.3s\n",
      "[CV] END max_depth=9, max_features=auto, min_samples_split=8, n_estimators=128; total time=   0.6s\n",
      "[CV] END max_depth=9, max_features=auto, min_samples_split=8, n_estimators=300; total time=   1.0s\n"
     ]
    }
   ],
   "source": [
    "eval_metric(rf_grid, X_train, y_train, X_test, y_test)"
   ]
  },
  {
   "cell_type": "markdown",
   "metadata": {
    "id": "SKLtTwJ82som"
   },
   "source": [
    "#### Prediction"
   ]
  },
  {
   "cell_type": "code",
   "execution_count": 111,
   "metadata": {
    "id": "QdFUSrml2sop"
   },
   "outputs": [],
   "source": [
    "y_pred = rf_model.predict(X_test)"
   ]
  },
  {
   "cell_type": "code",
   "execution_count": 112,
   "metadata": {},
   "outputs": [],
   "source": [
    "y_pred_proba = rf_model.predict_proba(X_test)"
   ]
  },
  {
   "cell_type": "code",
   "execution_count": 113,
   "metadata": {},
   "outputs": [],
   "source": [
    "my_dict = {\"Actual\": y_test, \"Pred\":y_pred, \"Proba_1\":y_pred_proba[:,1], \"Proba_0\":y_pred_proba[:,0]}"
   ]
  },
  {
   "cell_type": "code",
   "execution_count": 114,
   "metadata": {},
   "outputs": [
    {
     "data": {
      "text/html": [
       "<div>\n",
       "<style scoped>\n",
       "    .dataframe tbody tr th:only-of-type {\n",
       "        vertical-align: middle;\n",
       "    }\n",
       "\n",
       "    .dataframe tbody tr th {\n",
       "        vertical-align: top;\n",
       "    }\n",
       "\n",
       "    .dataframe thead th {\n",
       "        text-align: right;\n",
       "    }\n",
       "</style>\n",
       "<table border=\"1\" class=\"dataframe\">\n",
       "  <thead>\n",
       "    <tr style=\"text-align: right;\">\n",
       "      <th></th>\n",
       "      <th>Actual</th>\n",
       "      <th>Pred</th>\n",
       "      <th>Proba_1</th>\n",
       "      <th>Proba_0</th>\n",
       "    </tr>\n",
       "  </thead>\n",
       "  <tbody>\n",
       "    <tr>\n",
       "      <th>3762</th>\n",
       "      <td>0</td>\n",
       "      <td>0</td>\n",
       "      <td>0.01</td>\n",
       "      <td>0.99</td>\n",
       "    </tr>\n",
       "    <tr>\n",
       "      <th>7107</th>\n",
       "      <td>0</td>\n",
       "      <td>0</td>\n",
       "      <td>0.01</td>\n",
       "      <td>0.99</td>\n",
       "    </tr>\n",
       "    <tr>\n",
       "      <th>3418</th>\n",
       "      <td>0</td>\n",
       "      <td>0</td>\n",
       "      <td>0.10</td>\n",
       "      <td>0.90</td>\n",
       "    </tr>\n",
       "    <tr>\n",
       "      <th>4084</th>\n",
       "      <td>0</td>\n",
       "      <td>0</td>\n",
       "      <td>0.02</td>\n",
       "      <td>0.98</td>\n",
       "    </tr>\n",
       "    <tr>\n",
       "      <th>9745</th>\n",
       "      <td>0</td>\n",
       "      <td>0</td>\n",
       "      <td>0.12</td>\n",
       "      <td>0.88</td>\n",
       "    </tr>\n",
       "    <tr>\n",
       "      <th>8738</th>\n",
       "      <td>0</td>\n",
       "      <td>0</td>\n",
       "      <td>0.00</td>\n",
       "      <td>1.00</td>\n",
       "    </tr>\n",
       "    <tr>\n",
       "      <th>2619</th>\n",
       "      <td>0</td>\n",
       "      <td>0</td>\n",
       "      <td>0.00</td>\n",
       "      <td>1.00</td>\n",
       "    </tr>\n",
       "    <tr>\n",
       "      <th>7177</th>\n",
       "      <td>0</td>\n",
       "      <td>0</td>\n",
       "      <td>0.00</td>\n",
       "      <td>1.00</td>\n",
       "    </tr>\n",
       "    <tr>\n",
       "      <th>11383</th>\n",
       "      <td>0</td>\n",
       "      <td>0</td>\n",
       "      <td>0.10</td>\n",
       "      <td>0.90</td>\n",
       "    </tr>\n",
       "    <tr>\n",
       "      <th>6315</th>\n",
       "      <td>0</td>\n",
       "      <td>0</td>\n",
       "      <td>0.01</td>\n",
       "      <td>0.99</td>\n",
       "    </tr>\n",
       "  </tbody>\n",
       "</table>\n",
       "</div>"
      ],
      "text/plain": [
       "       Actual  Pred  Proba_1  Proba_0\n",
       "3762        0     0     0.01     0.99\n",
       "7107        0     0     0.01     0.99\n",
       "3418        0     0     0.10     0.90\n",
       "4084        0     0     0.02     0.98\n",
       "9745        0     0     0.12     0.88\n",
       "8738        0     0     0.00     1.00\n",
       "2619        0     0     0.00     1.00\n",
       "7177        0     0     0.00     1.00\n",
       "11383       0     0     0.10     0.90\n",
       "6315        0     0     0.01     0.99"
      ]
     },
     "execution_count": 114,
     "metadata": {},
     "output_type": "execute_result"
    }
   ],
   "source": [
    "pd.DataFrame.from_dict(my_dict).sample(10)"
   ]
  },
  {
   "cell_type": "code",
   "execution_count": 115,
   "metadata": {},
   "outputs": [],
   "source": [
    "rf_f1 = f1_score(y_test, y_pred)\n",
    "rf_recall = recall_score(y_test, y_pred)\n",
    "rf_auc = roc_auc_score(y_test, y_pred)"
   ]
  },
  {
   "cell_type": "markdown",
   "metadata": {},
   "source": [
    "Feature Importance for RandomForest"
   ]
  },
  {
   "cell_type": "code",
   "execution_count": 116,
   "metadata": {},
   "outputs": [
    {
     "data": {
      "text/html": [
       "<div>\n",
       "<style scoped>\n",
       "    .dataframe tbody tr th:only-of-type {\n",
       "        vertical-align: middle;\n",
       "    }\n",
       "\n",
       "    .dataframe tbody tr th {\n",
       "        vertical-align: top;\n",
       "    }\n",
       "\n",
       "    .dataframe thead th {\n",
       "        text-align: right;\n",
       "    }\n",
       "</style>\n",
       "<table border=\"1\" class=\"dataframe\">\n",
       "  <thead>\n",
       "    <tr style=\"text-align: right;\">\n",
       "      <th></th>\n",
       "      <th>rf_importance</th>\n",
       "    </tr>\n",
       "  </thead>\n",
       "  <tbody>\n",
       "    <tr>\n",
       "      <th>satisfaction_level</th>\n",
       "      <td>0.312808</td>\n",
       "    </tr>\n",
       "    <tr>\n",
       "      <th>number_project</th>\n",
       "      <td>0.175468</td>\n",
       "    </tr>\n",
       "    <tr>\n",
       "      <th>time_spend_company</th>\n",
       "      <td>0.153685</td>\n",
       "    </tr>\n",
       "    <tr>\n",
       "      <th>average_montly_hours</th>\n",
       "      <td>0.152160</td>\n",
       "    </tr>\n",
       "    <tr>\n",
       "      <th>last_evaluation</th>\n",
       "      <td>0.124032</td>\n",
       "    </tr>\n",
       "    <tr>\n",
       "      <th>Classes</th>\n",
       "      <td>0.038606</td>\n",
       "    </tr>\n",
       "    <tr>\n",
       "      <th>Work_accident</th>\n",
       "      <td>0.008694</td>\n",
       "    </tr>\n",
       "    <tr>\n",
       "      <th>salary_low</th>\n",
       "      <td>0.006857</td>\n",
       "    </tr>\n",
       "    <tr>\n",
       "      <th>salary_medium</th>\n",
       "      <td>0.004648</td>\n",
       "    </tr>\n",
       "    <tr>\n",
       "      <th>Departments _technical</th>\n",
       "      <td>0.003741</td>\n",
       "    </tr>\n",
       "    <tr>\n",
       "      <th>Departments _sales</th>\n",
       "      <td>0.003681</td>\n",
       "    </tr>\n",
       "    <tr>\n",
       "      <th>Departments _support</th>\n",
       "      <td>0.003462</td>\n",
       "    </tr>\n",
       "    <tr>\n",
       "      <th>Departments _RandD</th>\n",
       "      <td>0.002304</td>\n",
       "    </tr>\n",
       "    <tr>\n",
       "      <th>Departments _accounting</th>\n",
       "      <td>0.001891</td>\n",
       "    </tr>\n",
       "    <tr>\n",
       "      <th>Departments _management</th>\n",
       "      <td>0.001884</td>\n",
       "    </tr>\n",
       "    <tr>\n",
       "      <th>Departments _hr</th>\n",
       "      <td>0.001675</td>\n",
       "    </tr>\n",
       "    <tr>\n",
       "      <th>Departments _marketing</th>\n",
       "      <td>0.001565</td>\n",
       "    </tr>\n",
       "    <tr>\n",
       "      <th>Departments _product_mng</th>\n",
       "      <td>0.001457</td>\n",
       "    </tr>\n",
       "    <tr>\n",
       "      <th>promotion_last_5years</th>\n",
       "      <td>0.001382</td>\n",
       "    </tr>\n",
       "  </tbody>\n",
       "</table>\n",
       "</div>"
      ],
      "text/plain": [
       "                          rf_importance\n",
       "satisfaction_level             0.312808\n",
       "number_project                 0.175468\n",
       "time_spend_company             0.153685\n",
       "average_montly_hours           0.152160\n",
       "last_evaluation                0.124032\n",
       "Classes                        0.038606\n",
       "Work_accident                  0.008694\n",
       "salary_low                     0.006857\n",
       "salary_medium                  0.004648\n",
       "Departments _technical         0.003741\n",
       "Departments _sales             0.003681\n",
       "Departments _support           0.003462\n",
       "Departments _RandD             0.002304\n",
       "Departments _accounting        0.001891\n",
       "Departments _management        0.001884\n",
       "Departments _hr                0.001675\n",
       "Departments _marketing         0.001565\n",
       "Departments _product_mng       0.001457\n",
       "promotion_last_5years          0.001382"
      ]
     },
     "execution_count": 116,
     "metadata": {},
     "output_type": "execute_result"
    }
   ],
   "source": [
    "rf_model = RandomForestClassifier(random_state=42)\n",
    "rf_model.fit(X_train, y_train)\n",
    "\n",
    "rf_model.feature_importances_\n",
    "\n",
    "feats = pd.DataFrame(index=X.columns, data=rf_model.feature_importances_, columns=['rf_importance'])\n",
    "rf_imp_feats = feats.sort_values(\"rf_importance\", ascending=False)\n",
    "rf_imp_feats"
   ]
  },
  {
   "cell_type": "code",
   "execution_count": 117,
   "metadata": {},
   "outputs": [
    {
     "data": {
      "image/png": "[encoded data removed]",
      "text/plain": [
       "<Figure size 1200x600 with 1 Axes>"
      ]
     },
     "metadata": {},
     "output_type": "display_data"
    }
   ],
   "source": [
    "plt.figure(figsize=(12,6))\n",
    "sns.barplot(data=rf_imp_feats, x=rf_imp_feats.index, y='rf_importance')\n",
    "plt.xticks(rotation=90);"
   ]
  },
  {
   "cell_type": "markdown",
   "metadata": {},
   "source": [
    "Comparing Models"
   ]
  },
  {
   "cell_type": "code",
   "execution_count": 119,
   "metadata": {},
   "outputs": [
    {
     "data": {
      "image/png": "[encoded data removed]",
      "text/plain": [
       "<Figure size 1400x1000 with 3 Axes>"
      ]
     },
     "metadata": {},
     "output_type": "display_data"
    }
   ],
   "source": [
    "compare = pd.DataFrame({\"Model\": [\"KNN\", \"Random Forest\",\n",
    "                                 \"GradientBoost\"],\n",
    "                        \"F1\": [knn_f1, rf_f1, grad_f1],\n",
    "                        \"Recall\": [knn_recall, rf_recall, grad_recall],\n",
    "                        \"ROC_AUC\": [knn_auc, rf_auc, grad_auc]})\n",
    "\n",
    "def labels(ax):\n",
    "    for p in ax.patches:\n",
    "        width = p.get_width()                        # get bar length\n",
    "        ax.text(width,                               # set the text at 1 unit right of the bar\n",
    "                p.get_y() + p.get_height() / 2,      # get Y coordinate + X coordinate / 2\n",
    "                '{:1.3f}'.format(width),             # set variable to display, 2 decimals\n",
    "                ha = 'left',                         # horizontal alignment\n",
    "                va = 'center')                       # vertical alignment\n",
    "    \n",
    "plt.figure(figsize=(14,10))\n",
    "plt.subplot(311)\n",
    "compare = compare.sort_values(by=\"F1\", ascending=False)\n",
    "ax=sns.barplot(x=\"F1\", y=\"Model\", data=compare, palette=\"Blues_d\")\n",
    "labels(ax)\n",
    "\n",
    "plt.subplot(312)\n",
    "compare = compare.sort_values(by=\"Recall\", ascending=False)\n",
    "ax=sns.barplot(x=\"Recall\", y=\"Model\", data=compare, palette=\"Blues_d\")\n",
    "labels(ax)\n",
    "\n",
    "plt.subplot(313)\n",
    "compare = compare.sort_values(by=\"ROC_AUC\", ascending=False)\n",
    "ax=sns.barplot(x=\"ROC_AUC\", y=\"Model\", data=compare, palette=\"Blues_d\")\n",
    "labels(ax)\n",
    "plt.show()"
   ]
  },
  {
   "cell_type": "code",
   "execution_count": null,
   "metadata": {},
   "outputs": [],
   "source": []
  },
  {
   "cell_type": "markdown",
   "metadata": {},
   "source": []
  },
  {
   "cell_type": "markdown",
   "metadata": {
    "id": "Hv7E8XsazFMM"
   },
   "source": [
    "## 6. Model Deployement\n",
    "\n",
    "You cooked the food in the kitchen and moved on to the serving stage. The question is how do you showcase your work to others? Model Deployement helps you showcase your work to the world and make better decisions with it. But, deploying a model can get a little tricky at times. Before deploying the model, many things such as data storage, preprocessing, model building and monitoring need to be studied. Streamlit is a popular open source framework used by data scientists for model distribution.\n",
    "\n",
    "Deployment of machine learning models, means making your models available to your other business systems. By deploying models, other systems can send data to them and get their predictions, which are in turn populated back into the company systems. Through machine learning model deployment, can begin to take full advantage of the model you built.\n",
    "\n",
    "Data science is concerned with how to build machine learning models, which algorithm is more predictive, how to design features, and what variables to use to make the models more accurate. However, how these models are actually used is often neglected. And yet this is the most important step in the machine learning pipline. Only when a model is fully integrated with the business systems, real values ​​can be extract from its predictions.\n",
    "\n",
    "After doing the following operations in this notebook, jump to new .py file and create your web app with Streamlit."
   ]
  },
  {
   "cell_type": "markdown",
   "metadata": {
    "id": "m5pwXBOkJPeM"
   },
   "source": [
    "### Save and Export the Model as .pkl"
   ]
  },
  {
   "cell_type": "code",
   "execution_count": 120,
   "metadata": {
    "id": "mmlin9CEzFr7"
   },
   "outputs": [],
   "source": [
    "import pickle "
   ]
  },
  {
   "cell_type": "code",
   "execution_count": 121,
   "metadata": {},
   "outputs": [],
   "source": [
    "pickle_out = open(\"KNeighborsClassifier.pkl\", \"wb\")\n",
    "pickle.dump(knn_grid_model, pickle_out)\n",
    "pickle_out.close()"
   ]
  },
  {
   "cell_type": "code",
   "execution_count": 122,
   "metadata": {},
   "outputs": [],
   "source": [
    "pickle_out = open(\"RandomForestClassifier.pkl\", \"wb\")\n",
    "pickle.dump(rf_model, pickle_out)\n",
    "pickle_out.close()"
   ]
  },
  {
   "cell_type": "code",
   "execution_count": 123,
   "metadata": {},
   "outputs": [],
   "source": [
    "pickle_out = open(\"GradientBoostingClassifier.pkl\", \"wb\")\n",
    "pickle.dump(grad_model, pickle_out)\n",
    "pickle_out.close()"
   ]
  },
  {
   "cell_type": "code",
   "execution_count": 124,
   "metadata": {},
   "outputs": [],
   "source": [
    "scaler=StandardScaler() \n",
    "X_train_scaled=scaler.fit(X_train)\n",
    "pickle.dump(X_train_scaled, open(\"my_scaler_knn.pkl\", 'wb'))"
   ]
  },
  {
   "cell_type": "markdown",
   "metadata": {
    "id": "r7sGSN6RJR6V"
   },
   "source": [
    "### Save and Export Variables as .pkl"
   ]
  },
  {
   "cell_type": "code",
   "execution_count": 125,
   "metadata": {
    "id": "2WeQNcROJScb"
   },
   "outputs": [],
   "source": [
    "columns=X.columns\n",
    "pickle.dump(columns, open(\"my_columns.pkl\", 'wb'))   # with get_dummy"
   ]
  },
  {
   "cell_type": "code",
   "execution_count": 126,
   "metadata": {},
   "outputs": [
    {
     "data": {
      "text/plain": [
       "Index(['satisfaction_level', 'last_evaluation', 'number_project',\n",
       "       'average_montly_hours', 'time_spend_company', 'Work_accident',\n",
       "       'promotion_last_5years', 'Departments ', 'salary'],\n",
       "      dtype='object')"
      ]
     },
     "execution_count": 126,
     "metadata": {},
     "output_type": "execute_result"
    }
   ],
   "source": [
    "df_not_dummy.drop('left', axis = 1).columns"
   ]
  },
  {
   "cell_type": "code",
   "execution_count": 127,
   "metadata": {},
   "outputs": [],
   "source": [
    "columns_not_dummy=df_not_dummy.drop('left', axis = 1).columns\n",
    "pickle.dump(columns_not_dummy, open(\"not_dummy_columns.pkl\", 'wb'))   # without get_dummy"
   ]
  },
  {
   "cell_type": "code",
   "execution_count": null,
   "metadata": {},
   "outputs": [],
   "source": []
  },
  {
   "cell_type": "code",
   "execution_count": null,
   "metadata": {},
   "outputs": [],
   "source": []
  },
  {
   "cell_type": "markdown",
   "metadata": {
    "id": "aD6JV41czCKr"
   },
   "source": [
    "___\n",
    "\n",
    "<p style=\"text-align: center;\"><img src=\"https://docs.google.com/uc?id=1lY0Uj5R04yMY3-ZppPWxqCr5pvBLYPnV\" class=\"img-fluid\" alt=\"CLRSWY\"></p>\n",
    "\n",
    "___"
   ]
  }
 ],
 "metadata": {
  "colab": {
   "collapsed_sections": [],
   "name": "Churn Prediction_Student_Notebook.ipynb",
   "provenance": []
  },
  "kernelspec": {
   "display_name": "Python 3 (ipykernel)",
   "language": "python",
   "name": "python3"
  },
  "language_info": {
   "codemirror_mode": {
    "name": "ipython",
    "version": 3
   },
   "file_extension": ".py",
   "mimetype": "text/x-python",
   "name": "python",
   "nbconvert_exporter": "python",
   "pygments_lexer": "ipython3",
   "version": "3.9.7"
  },
  "toc": {
   "base_numbering": 1,
   "nav_menu": {},
   "number_sections": true,
   "sideBar": true,
   "skip_h1_title": false,
   "title_cell": "Table of Contents",
   "title_sidebar": "Contents",
   "toc_cell": false,
   "toc_position": {},
   "toc_section_display": true,
   "toc_window_display": false
  }
 },
 "nbformat": 4,
 "nbformat_minor": 1
}
